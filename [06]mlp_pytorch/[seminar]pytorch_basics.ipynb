{
 "cells": [
  {
   "cell_type": "markdown",
   "metadata": {
    "colab_type": "text",
    "collapsed": true,
    "id": "PPiw8yzRYJ8r"
   },
   "source": [
    "<img src=\"https://s8.hostingkartinok.com/uploads/images/2018/08/308b49fcfbc619d629fe4604bceb67ac.jpg\" width=500,>\n",
    "<h3 style=\"text-align: center;\"><b>Физтех-Школа Прикладной математики и информатики (ФПМИ) МФТИ</b></h3>"
   ]
  },
  {
   "cell_type": "markdown",
   "metadata": {
    "colab_type": "text",
    "id": "zqPnyO9_YJ8t"
   },
   "source": [
    "---"
   ]
  },
  {
   "cell_type": "markdown",
   "metadata": {
    "colab_type": "text",
    "id": "vcnGdgw_YJ8u"
   },
   "source": [
    "<h2 style=\"text-align: center;\"><b>PyTorch. Основы: синтаксис, torch.cuda и torch.autograd</b></h2>"
   ]
  },
  {
   "cell_type": "markdown",
   "metadata": {
    "colab_type": "text",
    "id": "-Iv1eX2mYJ8v"
   },
   "source": [
    "<p style=\"align: center;\"><img src=\"https://raw.githubusercontent.com/pytorch/pytorch/master/docs/source/_static/img/pytorch-logo-dark.png\", width=400, height=300></p>"
   ]
  },
  {
   "cell_type": "markdown",
   "metadata": {
    "colab_type": "text",
    "id": "JwiKExhuYJ8w"
   },
   "source": [
    "На этом занятии мы рассмотрим основы фреймворка глубокого обучения PyTorch.  \n",
    "\n",
    "Когда хочется написать какую-нибудь нейросеть, решающую определённую задачу, будь то какая-нибудь простая классификация чего-либо или обнаружение лиц людей на видео. Всё, конечно, всегда начинается со **сбора данных**, а уже потом реализуются модели и проводятся эксперименты.  \n",
    "\n",
    "Однако люди быстро поняли, что писать свои нейронные сети каждый раз с нуля ну очень уж долго и неразумно, поэтому придумали так называемые **фреймворки** - модули, в которых есть функционал, с помощью которого можно быстро и просто решать типовые задачи, и уже с помощью этих средств писать решения к более сложным задачам."
   ]
  },
  {
   "cell_type": "markdown",
   "metadata": {
    "colab_type": "text",
    "id": "tQoex-sZYJ8x"
   },
   "source": [
    "Есть много различных фремворков глубокого обучения. Разница между ними прежде всего в том, каков общий принцип вычислений. \n",
    "Например, в **Caffe и Caffe2** вы пишете код, по сути, составляя его из готовых \"кусочков\", как в Lego, в **TensorFlow и Theano** вы сначала объявляете вычислительный граф, потом компилируете его и запускаете (sees.run()), в то время как в **Torch и PyTorch** вы пишете почти точно так же, как на NumPy, а граф вычислений создаётся только при запуске (то есть существует только во время выполнения, потом он \"разрушается\"). **Keras** позволяет как строить блоки, так и компилировать свой граф:"
   ]
  },
  {
   "cell_type": "markdown",
   "metadata": {
    "colab_type": "text",
    "id": "97MX7yrBYJ8y"
   },
   "source": [
    "<p style=\"align: center;\"><img src=\"https://habrastorage.org/web/e3e/c3e/b78/e3ec3eb78d714a7993a6b922911c0866.png\", width=500, height=500></p>  \n",
    "<p style=\"text-align: center;\"><i>Картинка взята из отличной [статьи на Хабре](https://habr.com/post/334380/)</i><p>"
   ]
  },
  {
   "cell_type": "markdown",
   "metadata": {
    "colab_type": "text",
    "id": "J74O-qdJYJ80"
   },
   "source": [
    "<h3 style=\"text-align: center;\"><b>Установка</b></h3>"
   ]
  },
  {
   "cell_type": "markdown",
   "metadata": {
    "colab_type": "text",
    "id": "WpXxZ4-4YJ83"
   },
   "source": [
    "Инструкция по установке PyTorch есть на официальном [Github'e Deep Learning School](https://github.com/deepmipt/dlschl/wiki/%D0%98%D0%BD%D1%81%D1%82%D1%80%D1%83%D0%BA%D1%86%D0%B8%D1%8F-%D0%BF%D0%BE-%D1%83%D1%81%D1%82%D0%B0%D0%BD%D0%BE%D0%B2%D0%BA%D0%B5-PyTorch)."
   ]
  },
  {
   "cell_type": "markdown",
   "metadata": {
    "colab_type": "text",
    "id": "uxdjjnqIYJ86"
   },
   "source": [
    "<h3 style=\"text-align: center;\">Синтаксис<b></b></h3>"
   ]
  },
  {
   "cell_type": "code",
   "execution_count": 2,
   "metadata": {
    "colab": {},
    "colab_type": "code",
    "id": "RtyozNmmYJ89"
   },
   "outputs": [],
   "source": [
    "import torch"
   ]
  },
  {
   "cell_type": "markdown",
   "metadata": {
    "colab_type": "text",
    "id": "zjfLQzEPYJ9B"
   },
   "source": [
    "Сначала немного фактов про PyTorch:  \n",
    "- динамический граф вычислений\n",
    "- удобные модули `torch.nn` и `torchvision для` написания нейросеток с минимальными усилиями\n",
    "- в некоторых задачах даже быстрее TensorFlow (но не во всех)  \n",
    "- легко проводить вычисления на GPU"
   ]
  },
  {
   "cell_type": "markdown",
   "metadata": {
    "colab_type": "text",
    "id": "0AL-T8TMYJ9D"
   },
   "source": [
    "Если PyTorch представить формулой, то она будет такой:  \n",
    "\n",
    "$$PyTorch = NumPy + CUDA + Autograd$$"
   ]
  },
  {
   "cell_type": "markdown",
   "metadata": {
    "colab_type": "text",
    "id": "X_O59VXWYJ9E"
   },
   "source": [
    "(CUDA - [wiki](https://ru.wikipedia.org/wiki/CUDA))"
   ]
  },
  {
   "cell_type": "markdown",
   "metadata": {
    "colab_type": "text",
    "id": "lWIeTFxSYJ9F"
   },
   "source": [
    "Посмотрим, как в PyTorch выполняются операции с векторами.  \n",
    "\n",
    "Напоминание: **тензором** называется многомерный вектор, то есть есть:  \n",
    "\n",
    "x = np.array([1,2,3]) - вектор = тензор размерности 1 (то есть (1,))  \n",
    "y = np.array([[1, 2, 3], [4, 5, 6]]) - матрица = тензор размерности 2 (в данном случае тензор (2, 3))  \n",
    "z = np.array([[[1, 2, 3], [4, 5, 6], [7, 8, 9]],  \n",
    "    [[1, 2, 3], [4, 5, 6], [7, 8, 9]],  \n",
    "              [[1, 2, 3], [4, 5, 6], [7, 8, 9]]]) - \"кубик\" (3, 3, 3) = тензор размерности 3 (в данном случае (3, 3, 3))"
   ]
  },
  {
   "cell_type": "markdown",
   "metadata": {
    "colab_type": "text",
    "id": "hS97vo7mYJ9G"
   },
   "source": [
    "Простейшим примером 3-мерного тензора является **картинка** - это \"параллелепипед\" из чисел, у коготорого три размерности - высота, ширина и количество каналов, значит это тензор размерности 3."
   ]
  },
  {
   "cell_type": "markdown",
   "metadata": {
    "colab_type": "text",
    "id": "tEeGGtRiYJ9H"
   },
   "source": [
    "Понятие тензора нужно знать потому, что в PyTorch мы оперируем переменными типа `torch.Tensor` (`FloatTensor`, `IntTensor`, `ByteTensor`), и пугаться их названий совершенно не нужно - это просто векторы, у которых несколько размерностей."
   ]
  },
  {
   "cell_type": "markdown",
   "metadata": {
    "colab_type": "text",
    "id": "byu7xZtLYJ9J"
   },
   "source": [
    "Все типы тензоров:"
   ]
  },
  {
   "cell_type": "code",
   "execution_count": 6,
   "metadata": {
    "colab": {},
    "colab_type": "code",
    "id": "lPIaCLY3YJ9K",
    "outputId": "5e988a80-4c1f-499d-c99b-e6df2f1a25be"
   },
   "outputs": [
    {
     "data": {
      "text/plain": [
       "torch.ByteTensor"
      ]
     },
     "execution_count": 6,
     "metadata": {},
     "output_type": "execute_result"
    }
   ],
   "source": [
    "torch.HalfTensor      # 16 бит, с плавающей точкой\n",
    "torch.FloatTensor     # 32 бита,  с плавающей точкой\n",
    "torch.DoubleTensor    # 64 бита, с плавающей точкой\n",
    "\n",
    "torch.ShortTensor     # 16 бит, целочисленный, знаковый\n",
    "torch.IntTensor       # 32 бита, целочисленный, знаковый\n",
    "torch.LongTensor      # 64 бита, целочисленный, знаковый\n",
    "\n",
    "torch.CharTensor      # 8 бит, целочисленный, знаковый\n",
    "torch.ByteTensor      # 8 бит, целочисленный, беззнаковый"
   ]
  },
  {
   "cell_type": "markdown",
   "metadata": {
    "colab_type": "text",
    "id": "NWk2gidNYJ9P"
   },
   "source": [
    "Мы будем использовать только `torch.FloatTensor()` и `torch.IntTensor()`. "
   ]
  },
  {
   "cell_type": "markdown",
   "metadata": {
    "colab_type": "text",
    "id": "CllyEKvVYJ9Q"
   },
   "source": [
    "Перейдём к делу:"
   ]
  },
  {
   "cell_type": "markdown",
   "metadata": {
    "colab_type": "text",
    "id": "R4HEetsxYJ9Q"
   },
   "source": [
    "* Создание тензоров:"
   ]
  },
  {
   "cell_type": "code",
   "execution_count": 7,
   "metadata": {
    "colab": {},
    "colab_type": "code",
    "id": "MVawE9lRYJ9R",
    "outputId": "9b2eaa65-1723-4e73-a379-bec4fe9a665e"
   },
   "outputs": [
    {
     "data": {
      "text/plain": [
       "tensor([1., 2.])"
      ]
     },
     "execution_count": 7,
     "metadata": {},
     "output_type": "execute_result"
    }
   ],
   "source": [
    "a = torch.FloatTensor([1, 2])\n",
    "a"
   ]
  },
  {
   "cell_type": "code",
   "execution_count": 8,
   "metadata": {
    "colab": {},
    "colab_type": "code",
    "id": "ARjaPS_GYJ9W",
    "outputId": "f6ede400-76f4-467c-8170-2b4f3f18b262"
   },
   "outputs": [
    {
     "data": {
      "text/plain": [
       "torch.Size([2])"
      ]
     },
     "execution_count": 8,
     "metadata": {},
     "output_type": "execute_result"
    }
   ],
   "source": [
    "a.shape"
   ]
  },
  {
   "cell_type": "code",
   "execution_count": 9,
   "metadata": {
    "colab": {},
    "colab_type": "code",
    "id": "4gXf0akDYJ9Z",
    "outputId": "00f41e92-4419-4f6b-da27-5a02ab8aebfc"
   },
   "outputs": [
    {
     "data": {
      "text/plain": [
       "tensor([[1., 2., 3.],\n",
       "        [4., 5., 6.]])"
      ]
     },
     "execution_count": 9,
     "metadata": {},
     "output_type": "execute_result"
    }
   ],
   "source": [
    "b = torch.FloatTensor([[1,2,3], [4,5,6]])\n",
    "b"
   ]
  },
  {
   "cell_type": "code",
   "execution_count": 10,
   "metadata": {
    "colab": {},
    "colab_type": "code",
    "id": "0HTkoIzpYJ9e",
    "outputId": "3833f329-6757-44c9-847c-95a7e848f0c5"
   },
   "outputs": [
    {
     "data": {
      "text/plain": [
       "torch.Size([2, 3])"
      ]
     },
     "execution_count": 10,
     "metadata": {},
     "output_type": "execute_result"
    }
   ],
   "source": [
    "b.shape"
   ]
  },
  {
   "cell_type": "code",
   "execution_count": 11,
   "metadata": {
    "colab": {},
    "colab_type": "code",
    "id": "WYJ9L-yFYJ9j"
   },
   "outputs": [],
   "source": [
    "x = torch.FloatTensor(2,3,4)"
   ]
  },
  {
   "cell_type": "code",
   "execution_count": 12,
   "metadata": {
    "colab": {},
    "colab_type": "code",
    "id": "qWAEP27IYJ9m",
    "outputId": "466bc5b2-d9aa-499b-b9ac-f680f5ba6cc2"
   },
   "outputs": [
    {
     "data": {
      "text/plain": [
       "tensor([[[-4.1822e-02,  9.3747e-43,  8.9683e-44,  0.0000e+00],\n",
       "         [ 0.0000e+00,  0.0000e+00,  0.0000e+00,  0.0000e+00],\n",
       "         [ 0.0000e+00,  0.0000e+00,  2.0775e+20,  2.6806e-09]],\n",
       "\n",
       "        [[ 2.1972e-04,  4.2658e-08,  1.3000e+22,  1.3001e+22],\n",
       "         [ 2.5964e+20,  4.2466e+21,  1.0548e-08,  1.7585e-04],\n",
       "         [ 1.1039e-05,  5.2002e+22,  1.0733e-08,  8.3017e-10]]])"
      ]
     },
     "execution_count": 12,
     "metadata": {},
     "output_type": "execute_result"
    }
   ],
   "source": [
    "x"
   ]
  },
  {
   "cell_type": "code",
   "execution_count": 13,
   "metadata": {
    "colab": {},
    "colab_type": "code",
    "id": "o5CsOJ_xYJ9s",
    "outputId": "e95a7efe-61c4-425f-9c16-10ad2530bfa0",
    "scrolled": true
   },
   "outputs": [
    {
     "data": {
      "text/plain": [
       "tensor([        nan,         nan,  2.8026e-45,  0.0000e+00,  1.4910e-42,\n",
       "         0.0000e+00,  5.6052e-45,  0.0000e+00,  1.5414e-42,  0.0000e+00,\n",
       "         5.6052e-45,  0.0000e+00,  1.1659e-42,  0.0000e+00,  5.7593e-43,\n",
       "         0.0000e+00,  1.0930e-42,  0.0000e+00,  5.7593e-43,  0.0000e+00,\n",
       "         1.2331e-42,  0.0000e+00,  5.7593e-43,  0.0000e+00,  1.1547e-42,\n",
       "         0.0000e+00,  5.7593e-43,  9.3747e-43,  1.4854e-42,  0.0000e+00,\n",
       "         5.7593e-43,  0.0000e+00,  1.4910e-42,  0.0000e+00,  5.7593e-43,\n",
       "         0.0000e+00,  1.4742e-42,  0.0000e+00,  5.7593e-43,  0.0000e+00,\n",
       "         1.5414e-42,  0.0000e+00,  5.7593e-43,  0.0000e+00,  1.5582e-42,\n",
       "         0.0000e+00,  5.7593e-43,  0.0000e+00,  1.4910e-42,  0.0000e+00,\n",
       "         5.6052e-45,  0.0000e+00,  1.5414e-42,  0.0000e+00,  5.6052e-45,\n",
       "         0.0000e+00, -1.0846e+01,  4.5911e-41, -1.0846e+01,  4.5911e-41,\n",
       "         0.0000e+00,  0.0000e+00,  0.0000e+00,  0.0000e+00,  0.0000e+00,\n",
       "         0.0000e+00,  0.0000e+00,  0.0000e+00, -3.5448e-02,  9.3747e-43,\n",
       "        -3.5448e-02,  9.3747e-43,  0.0000e+00,  0.0000e+00,  0.0000e+00,\n",
       "         0.0000e+00,  0.0000e+00,  0.0000e+00,  0.0000e+00,  0.0000e+00,\n",
       "         0.0000e+00,  0.0000e+00,  2.8026e-45,  0.0000e+00,  1.9943e-29,\n",
       "         4.5912e-41,  0.0000e+00,  0.0000e+00,  0.0000e+00,  0.0000e+00,\n",
       "         0.0000e+00,  0.0000e+00,  0.0000e+00,  0.0000e+00,  0.0000e+00,\n",
       "         0.0000e+00,  0.0000e+00,  0.0000e+00,  0.0000e+00,  0.0000e+00])"
      ]
     },
     "execution_count": 13,
     "metadata": {},
     "output_type": "execute_result"
    }
   ],
   "source": [
    "x = torch.FloatTensor(100)\n",
    "x"
   ]
  },
  {
   "cell_type": "code",
   "execution_count": 14,
   "metadata": {
    "colab": {},
    "colab_type": "code",
    "id": "uIVhvmzZYJ91",
    "outputId": "a74de636-f085-4b05-b2e8-1081062985e2"
   },
   "outputs": [
    {
     "data": {
      "text/plain": [
       "torch.Size([45, 57, 14, 2])"
      ]
     },
     "execution_count": 14,
     "metadata": {},
     "output_type": "execute_result"
    }
   ],
   "source": [
    "x = torch.IntTensor(45, 57, 14, 2)\n",
    "x.shape"
   ]
  },
  {
   "cell_type": "markdown",
   "metadata": {
    "colab_type": "text",
    "id": "cUzl8DFRYJ95"
   },
   "source": [
    "**Обратите внимание** - если вы создаёте тензор через задание размерностей (как в примере выше), то он изначально заполняюстя случайным \"мусором\". Что инициализировать нулями, нужно написать .zero_() в конце:"
   ]
  },
  {
   "cell_type": "code",
   "execution_count": 15,
   "metadata": {
    "colab": {},
    "colab_type": "code",
    "id": "QX0QcIOzYJ96",
    "outputId": "0e8f43f9-dff1-4d69-ce85-dfb8789d78da"
   },
   "outputs": [
    {
     "data": {
      "text/plain": [
       "tensor([[[-1121235416,         669,          64,           0],\n",
       "         [          0,           0,           0,           0]],\n",
       "\n",
       "        [[          0,           0,   929116771,   942683445],\n",
       "         [  909141301,   842412130,  1647719781,   892953145]],\n",
       "\n",
       "        [[  842217265,   963000629,  1681482295,  1631150393],\n",
       "         [ 1650668852,   912406322,  1664299312,   859322468]]],\n",
       "       dtype=torch.int32)"
      ]
     },
     "execution_count": 15,
     "metadata": {},
     "output_type": "execute_result"
    }
   ],
   "source": [
    "x = torch.IntTensor(3, 2, 4)\n",
    "x"
   ]
  },
  {
   "cell_type": "code",
   "execution_count": 16,
   "metadata": {
    "colab": {},
    "colab_type": "code",
    "id": "XV3w9lVwYJ-A",
    "outputId": "0cf6fea1-add6-443f-dc11-d399b589c95f"
   },
   "outputs": [
    {
     "data": {
      "text/plain": [
       "tensor([[[0, 0, 0, 0],\n",
       "         [0, 0, 0, 0]],\n",
       "\n",
       "        [[0, 0, 0, 0],\n",
       "         [0, 0, 0, 0]],\n",
       "\n",
       "        [[0, 0, 0, 0],\n",
       "         [0, 0, 0, 0]]], dtype=torch.int32)"
      ]
     },
     "execution_count": 16,
     "metadata": {},
     "output_type": "execute_result"
    }
   ],
   "source": [
    "x = torch.IntTensor(3, 2, 4).zero_()\n",
    "x"
   ]
  },
  {
   "cell_type": "markdown",
   "metadata": {
    "colab_type": "text",
    "id": "SAAmLRwzYJ-E"
   },
   "source": [
    "Аналог функции `np.reshape()` == `torch.view()`:"
   ]
  },
  {
   "cell_type": "code",
   "execution_count": 17,
   "metadata": {
    "colab": {},
    "colab_type": "code",
    "id": "ePjL3X3GYJ-H",
    "outputId": "aabd638d-80af-40f4-e1a1-78d465d2e65f"
   },
   "outputs": [
    {
     "data": {
      "text/plain": [
       "tensor([[1., 2.],\n",
       "        [3., 4.],\n",
       "        [5., 6.]])"
      ]
     },
     "execution_count": 17,
     "metadata": {},
     "output_type": "execute_result"
    }
   ],
   "source": [
    "b.view(3, 2)"
   ]
  },
  {
   "cell_type": "code",
   "execution_count": 18,
   "metadata": {
    "colab": {},
    "colab_type": "code",
    "id": "spMYG2xXYJ-L",
    "outputId": "64c72e62-3e41-4e4a-bc06-d5ffc2510039"
   },
   "outputs": [
    {
     "data": {
      "text/plain": [
       "tensor([[1., 2., 3.],\n",
       "        [4., 5., 6.]])"
      ]
     },
     "execution_count": 18,
     "metadata": {},
     "output_type": "execute_result"
    }
   ],
   "source": [
    "b"
   ]
  },
  {
   "cell_type": "markdown",
   "metadata": {
    "colab_type": "text",
    "id": "amVu0N1zYJ-O"
   },
   "source": [
    "**Обратите внимание** - torch.view() создаёт новый тензор, а не изменяет старый!"
   ]
  },
  {
   "cell_type": "code",
   "execution_count": 19,
   "metadata": {
    "colab": {},
    "colab_type": "code",
    "id": "hWqyugOSYJ-Q",
    "outputId": "ab6dce61-7e71-40c4-ab72-a47d37802b88"
   },
   "outputs": [
    {
     "data": {
      "text/plain": [
       "tensor([1., 2., 3., 4., 5., 6.])"
      ]
     },
     "execution_count": 19,
     "metadata": {},
     "output_type": "execute_result"
    }
   ],
   "source": [
    "b.view(-1)"
   ]
  },
  {
   "cell_type": "code",
   "execution_count": 20,
   "metadata": {
    "colab": {},
    "colab_type": "code",
    "id": "S9CvF56uYJ-U",
    "outputId": "e58092ee-bc2f-4b94-f430-2786c733d315"
   },
   "outputs": [
    {
     "data": {
      "text/plain": [
       "tensor([[1., 2., 3.],\n",
       "        [4., 5., 6.]])"
      ]
     },
     "execution_count": 20,
     "metadata": {},
     "output_type": "execute_result"
    }
   ],
   "source": [
    "b"
   ]
  },
  {
   "cell_type": "markdown",
   "metadata": {
    "colab_type": "text",
    "id": "t401j1E2YJ-Z"
   },
   "source": [
    "* Изменение типа тензора:"
   ]
  },
  {
   "cell_type": "code",
   "execution_count": 21,
   "metadata": {
    "colab": {},
    "colab_type": "code",
    "id": "f_iDUEH4YJ-Z"
   },
   "outputs": [],
   "source": [
    "a = torch.FloatTensor([1.5, 3.2, -7])"
   ]
  },
  {
   "cell_type": "code",
   "execution_count": 22,
   "metadata": {
    "colab": {},
    "colab_type": "code",
    "id": "EzJOrXitYJ-e",
    "outputId": "ea9cd7e1-0e34-42a2-b89d-9e27bc43fdb3"
   },
   "outputs": [
    {
     "data": {
      "text/plain": [
       "tensor([ 1,  3, -7], dtype=torch.int32)"
      ]
     },
     "execution_count": 22,
     "metadata": {},
     "output_type": "execute_result"
    }
   ],
   "source": [
    "a.type_as(torch.IntTensor())"
   ]
  },
  {
   "cell_type": "code",
   "execution_count": 23,
   "metadata": {
    "colab": {},
    "colab_type": "code",
    "id": "hAe3OWWUYJ-i",
    "outputId": "53dc463a-47eb-4531-f38b-5bdc901bf572"
   },
   "outputs": [
    {
     "data": {
      "text/plain": [
       "tensor([  1,   3, 249], dtype=torch.uint8)"
      ]
     },
     "execution_count": 23,
     "metadata": {},
     "output_type": "execute_result"
    }
   ],
   "source": [
    "a.type_as(torch.ByteTensor())"
   ]
  },
  {
   "cell_type": "markdown",
   "metadata": {
    "colab_type": "text",
    "id": "4rkatrUeYJ-n"
   },
   "source": [
    "Обратите внимание, что при `.type_as()` создаётся новый тензор (старый не меняется), то есть это не in-place операция:"
   ]
  },
  {
   "cell_type": "code",
   "execution_count": 24,
   "metadata": {
    "colab": {},
    "colab_type": "code",
    "id": "fCgDT14MYJ-o",
    "outputId": "c3828601-0218-4563-e47a-91817ffd253a"
   },
   "outputs": [
    {
     "data": {
      "text/plain": [
       "tensor([ 1.5000,  3.2000, -7.0000])"
      ]
     },
     "execution_count": 24,
     "metadata": {},
     "output_type": "execute_result"
    }
   ],
   "source": [
    "a"
   ]
  },
  {
   "cell_type": "markdown",
   "metadata": {
    "colab_type": "text",
    "id": "hG1OwtFBYJ-r"
   },
   "source": [
    "* Индексация точная такая же, как и в NumPy:"
   ]
  },
  {
   "cell_type": "code",
   "execution_count": 25,
   "metadata": {
    "colab": {},
    "colab_type": "code",
    "id": "prr0EGIYYJ-r",
    "outputId": "7228cf78-765f-483b-b4b7-ba032503e545"
   },
   "outputs": [
    {
     "data": {
      "text/plain": [
       "tensor([[100.,  20.,  35.],\n",
       "        [ 15., 163., 534.],\n",
       "        [ 52.,  90.,  66.]])"
      ]
     },
     "execution_count": 25,
     "metadata": {},
     "output_type": "execute_result"
    }
   ],
   "source": [
    "a = torch.FloatTensor([[100, 20, 35], [15, 163, 534], [52, 90, 66]])\n",
    "a"
   ]
  },
  {
   "cell_type": "code",
   "execution_count": 26,
   "metadata": {
    "colab": {},
    "colab_type": "code",
    "id": "IBq7JiccYJ-w",
    "outputId": "e0dd266d-7d63-4251-99f2-dc465746a17f"
   },
   "outputs": [
    {
     "data": {
      "text/plain": [
       "tensor(100.)"
      ]
     },
     "execution_count": 26,
     "metadata": {},
     "output_type": "execute_result"
    }
   ],
   "source": [
    "a[0, 0]"
   ]
  },
  {
   "cell_type": "code",
   "execution_count": 27,
   "metadata": {
    "colab": {},
    "colab_type": "code",
    "id": "vE9cb0XkYJ-z",
    "outputId": "057de53a-7eec-4163-da79-c9a7e02afcce"
   },
   "outputs": [
    {
     "data": {
      "text/plain": [
       "tensor(100.)"
      ]
     },
     "execution_count": 27,
     "metadata": {},
     "output_type": "execute_result"
    }
   ],
   "source": [
    "a[0][0]"
   ]
  },
  {
   "cell_type": "code",
   "execution_count": 28,
   "metadata": {
    "colab": {},
    "colab_type": "code",
    "id": "UUZzx2F_YJ-2",
    "outputId": "fc1331a9-ffb5-4861-eed1-2cae074914d2"
   },
   "outputs": [
    {
     "data": {
      "text/plain": [
       "tensor([[100.,  20.],\n",
       "        [ 15., 163.]])"
      ]
     },
     "execution_count": 28,
     "metadata": {},
     "output_type": "execute_result"
    }
   ],
   "source": [
    "a[0:2, 0:2]"
   ]
  },
  {
   "cell_type": "markdown",
   "metadata": {
    "colab_type": "text",
    "id": "ny4-Qi2wYJ-6"
   },
   "source": [
    "### Задача 1"
   ]
  },
  {
   "cell_type": "markdown",
   "metadata": {
    "colab_type": "text",
    "id": "IWxlFq0bYJ-_"
   },
   "source": [
    "1). Создайте два вещественных тензора: `a` размером (3, 4) и `b` размером (12,)   \n",
    "2). Создайте тензор `c`, являющийся тензором `b`, но размера (2, 2, 3)  \n",
    "3). Выведите первый столбец матрицы `a` с помощью индексации"
   ]
  },
  {
   "cell_type": "code",
   "execution_count": 29,
   "metadata": {
    "colab": {},
    "colab_type": "code",
    "id": "3oxZuk3yYJ_A"
   },
   "outputs": [],
   "source": [
    "a = torch.FloatTensor(3, 4)\n",
    "b = torch.FloatTensor(range(12))"
   ]
  },
  {
   "cell_type": "code",
   "execution_count": 30,
   "metadata": {},
   "outputs": [
    {
     "name": "stdout",
     "output_type": "stream",
     "text": [
      "tensor([[0., 0., 0., 0.],\n",
      "        [0., 0., 0., 0.],\n",
      "        [0., 0., 0., 0.]])\n",
      "tensor([ 0.,  1.,  2.,  3.,  4.,  5.,  6.,  7.,  8.,  9., 10., 11.])\n"
     ]
    }
   ],
   "source": [
    "print(a)\n",
    "print(b)"
   ]
  },
  {
   "cell_type": "code",
   "execution_count": 31,
   "metadata": {},
   "outputs": [
    {
     "data": {
      "text/plain": [
       "tensor([[[ 0.,  1.,  2.],\n",
       "         [ 3.,  4.,  5.]],\n",
       "\n",
       "        [[ 6.,  7.,  8.],\n",
       "         [ 9., 10., 11.]]])"
      ]
     },
     "execution_count": 31,
     "metadata": {},
     "output_type": "execute_result"
    }
   ],
   "source": [
    "c = b.view(2, 2, 3)\n",
    "c"
   ]
  },
  {
   "cell_type": "code",
   "execution_count": 32,
   "metadata": {},
   "outputs": [
    {
     "data": {
      "text/plain": [
       "tensor([0., 0., 0.])"
      ]
     },
     "execution_count": 32,
     "metadata": {},
     "output_type": "execute_result"
    }
   ],
   "source": [
    "a[:, 0]"
   ]
  },
  {
   "cell_type": "markdown",
   "metadata": {
    "colab_type": "text",
    "id": "KffQsYwWYJ_D"
   },
   "source": [
    "**Арифметика и булевы операции** работаю также, как и в NumPy, **НО** лучше использовать не опреаторы `+`, `-`, `*`, `/`, а их аналоги:  \n",
    "\n",
    "| Оператор | Аналог |\n",
    "|:-:|:-:|\n",
    "|`+`| `torch.add()` |\n",
    "|`-`| `torch.sub()` |\n",
    "|`*`| `torch.mul()` |\n",
    "|`/`| `torch.div()` |"
   ]
  },
  {
   "cell_type": "markdown",
   "metadata": {
    "colab_type": "text",
    "id": "UMpR8T11YJ_D"
   },
   "source": [
    "* Сложение:"
   ]
  },
  {
   "cell_type": "code",
   "execution_count": 33,
   "metadata": {
    "colab": {},
    "colab_type": "code",
    "id": "1XHkSjEUYJ_D"
   },
   "outputs": [],
   "source": [
    "a = torch.FloatTensor([[1, 2, 3], [10, 20, 30], [100, 200, 300]])\n",
    "b = torch.FloatTensor([[-1, -2, -3], [-10, -20, -30], [100, 200, 300]])"
   ]
  },
  {
   "cell_type": "code",
   "execution_count": 34,
   "metadata": {
    "colab": {},
    "colab_type": "code",
    "id": "td25tuFKYJ_H",
    "outputId": "441d0d2a-7fd5-4c46-b684-c18f0aeacaca"
   },
   "outputs": [
    {
     "data": {
      "text/plain": [
       "tensor([[  0.,   0.,   0.],\n",
       "        [  0.,   0.,   0.],\n",
       "        [200., 400., 600.]])"
      ]
     },
     "execution_count": 34,
     "metadata": {},
     "output_type": "execute_result"
    }
   ],
   "source": [
    "a + b"
   ]
  },
  {
   "cell_type": "markdown",
   "metadata": {
    "colab_type": "text",
    "id": "jWYjf1ENYJ_M"
   },
   "source": [
    "Лучше:"
   ]
  },
  {
   "cell_type": "code",
   "execution_count": 35,
   "metadata": {
    "colab": {},
    "colab_type": "code",
    "id": "wHka8PxFYJ_N",
    "outputId": "919e345c-1bce-45ee-d21c-097cafe07b4d"
   },
   "outputs": [
    {
     "data": {
      "text/plain": [
       "tensor([[  0.,   0.,   0.],\n",
       "        [  0.,   0.,   0.],\n",
       "        [200., 400., 600.]])"
      ]
     },
     "execution_count": 35,
     "metadata": {},
     "output_type": "execute_result"
    }
   ],
   "source": [
    "a.add(b)"
   ]
  },
  {
   "cell_type": "code",
   "execution_count": 36,
   "metadata": {
    "colab": {},
    "colab_type": "code",
    "id": "FHQj4DbBYJ_Q",
    "outputId": "a416faf0-c0e8-4514-dc0d-09295c282176"
   },
   "outputs": [
    {
     "data": {
      "text/plain": [
       "tensor([[  -1.,   -2.,   -3.],\n",
       "        [ -10.,  -20.,  -30.],\n",
       "        [-100., -200., -300.]])"
      ]
     },
     "execution_count": 36,
     "metadata": {},
     "output_type": "execute_result"
    }
   ],
   "source": [
    "b = -a\n",
    "b"
   ]
  },
  {
   "cell_type": "code",
   "execution_count": 37,
   "metadata": {
    "colab": {},
    "colab_type": "code",
    "id": "xLCDzO7iYJ_V",
    "outputId": "6d3a65f0-17a1-46a6-f402-3b18d9fe05eb"
   },
   "outputs": [
    {
     "data": {
      "text/plain": [
       "tensor([[0., 0., 0.],\n",
       "        [0., 0., 0.],\n",
       "        [0., 0., 0.]])"
      ]
     },
     "execution_count": 37,
     "metadata": {},
     "output_type": "execute_result"
    }
   ],
   "source": [
    "a + b"
   ]
  },
  {
   "cell_type": "markdown",
   "metadata": {
    "colab_type": "text",
    "id": "z_3gVLY3YJ_Z"
   },
   "source": [
    "* Вычитание:"
   ]
  },
  {
   "cell_type": "code",
   "execution_count": 38,
   "metadata": {
    "colab": {},
    "colab_type": "code",
    "id": "PANHq3eFYJ_a",
    "outputId": "c21fba72-6779-4cde-ab74-8fe8d0ec5438"
   },
   "outputs": [
    {
     "data": {
      "text/plain": [
       "tensor([[  2.,   4.,   6.],\n",
       "        [ 20.,  40.,  60.],\n",
       "        [200., 400., 600.]])"
      ]
     },
     "execution_count": 38,
     "metadata": {},
     "output_type": "execute_result"
    }
   ],
   "source": [
    "a - b"
   ]
  },
  {
   "cell_type": "markdown",
   "metadata": {
    "colab_type": "text",
    "id": "tPL1W8ajYJ_i"
   },
   "source": [
    "Лучше:"
   ]
  },
  {
   "cell_type": "code",
   "execution_count": 39,
   "metadata": {
    "colab": {},
    "colab_type": "code",
    "id": "AH7xhdkRYJ_i",
    "outputId": "70ed9dba-43c7-42a9-bbe9-cc5bcfe3f924"
   },
   "outputs": [
    {
     "data": {
      "text/plain": [
       "tensor([[  2.,   4.,   6.],\n",
       "        [ 20.,  40.,  60.],\n",
       "        [200., 400., 600.]])"
      ]
     },
     "execution_count": 39,
     "metadata": {},
     "output_type": "execute_result"
    }
   ],
   "source": [
    "a.sub(b)"
   ]
  },
  {
   "cell_type": "markdown",
   "metadata": {
    "colab_type": "text",
    "id": "KOX3dTuZYJ_l"
   },
   "source": [
    "* Умножение (поэлементное):"
   ]
  },
  {
   "cell_type": "code",
   "execution_count": 40,
   "metadata": {
    "colab": {},
    "colab_type": "code",
    "id": "J380CvNGYJ_m",
    "outputId": "4d641233-d110-40ca-8f88-b546ac7df1c2"
   },
   "outputs": [
    {
     "data": {
      "text/plain": [
       "tensor([[-1.0000e+00, -4.0000e+00, -9.0000e+00],\n",
       "        [-1.0000e+02, -4.0000e+02, -9.0000e+02],\n",
       "        [-1.0000e+04, -4.0000e+04, -9.0000e+04]])"
      ]
     },
     "execution_count": 40,
     "metadata": {},
     "output_type": "execute_result"
    }
   ],
   "source": [
    "a * b"
   ]
  },
  {
   "cell_type": "markdown",
   "metadata": {
    "colab_type": "text",
    "id": "UG7aOFSvYJ_o"
   },
   "source": [
    "Лучше:"
   ]
  },
  {
   "cell_type": "code",
   "execution_count": 41,
   "metadata": {
    "colab": {},
    "colab_type": "code",
    "id": "cixW0jgdYJ_o",
    "outputId": "91691a93-794e-4482-eec7-ab2830b59a25"
   },
   "outputs": [
    {
     "data": {
      "text/plain": [
       "tensor([[-1.0000e+00, -4.0000e+00, -9.0000e+00],\n",
       "        [-1.0000e+02, -4.0000e+02, -9.0000e+02],\n",
       "        [-1.0000e+04, -4.0000e+04, -9.0000e+04]])"
      ]
     },
     "execution_count": 41,
     "metadata": {},
     "output_type": "execute_result"
    }
   ],
   "source": [
    "a.mul(b)"
   ]
  },
  {
   "cell_type": "markdown",
   "metadata": {
    "colab_type": "text",
    "id": "V-GYTERKYJ_q"
   },
   "source": [
    "* Деление (поэлементное):"
   ]
  },
  {
   "cell_type": "code",
   "execution_count": 42,
   "metadata": {
    "colab": {},
    "colab_type": "code",
    "id": "fUBQns2SYJ_r"
   },
   "outputs": [],
   "source": [
    "a = torch.FloatTensor([[1, 2, 3], [10, 20, 30], [100, 200, 300]])\n",
    "b = torch.FloatTensor([[-1, -2, -3], [-10, -20, -30], [100, 200, 300]])"
   ]
  },
  {
   "cell_type": "code",
   "execution_count": 43,
   "metadata": {
    "colab": {},
    "colab_type": "code",
    "id": "2hrKeMjAYJ_v",
    "outputId": "2a589e95-b308-4c0c-9290-60512494e1bd"
   },
   "outputs": [
    {
     "data": {
      "text/plain": [
       "tensor([[-1., -1., -1.],\n",
       "        [-1., -1., -1.],\n",
       "        [ 1.,  1.,  1.]])"
      ]
     },
     "execution_count": 43,
     "metadata": {},
     "output_type": "execute_result"
    }
   ],
   "source": [
    "a / b"
   ]
  },
  {
   "cell_type": "markdown",
   "metadata": {
    "colab_type": "text",
    "id": "KvcGLFVNYJ_0"
   },
   "source": [
    "Лучше:"
   ]
  },
  {
   "cell_type": "code",
   "execution_count": 44,
   "metadata": {
    "colab": {},
    "colab_type": "code",
    "id": "cpg3YFVPYJ_2",
    "outputId": "0cf1d61d-1834-41ea-96f0-ba8a24bb210b"
   },
   "outputs": [
    {
     "data": {
      "text/plain": [
       "tensor([[-1., -1., -1.],\n",
       "        [-1., -1., -1.],\n",
       "        [ 1.,  1.,  1.]])"
      ]
     },
     "execution_count": 44,
     "metadata": {},
     "output_type": "execute_result"
    }
   ],
   "source": [
    "a.div(b)"
   ]
  },
  {
   "cell_type": "markdown",
   "metadata": {
    "colab_type": "text",
    "id": "VeLAbx1tYJ_7"
   },
   "source": [
    "Заметьте, все эти операции **не меняют исходные тензоры**, а **создают новые**:"
   ]
  },
  {
   "cell_type": "code",
   "execution_count": 45,
   "metadata": {
    "colab": {},
    "colab_type": "code",
    "id": "57BFtnlgYJ_8",
    "outputId": "6b0ab791-b96b-49ca-f339-484fb21c9a3f"
   },
   "outputs": [
    {
     "data": {
      "text/plain": [
       "tensor([[  1.,   2.,   3.],\n",
       "        [ 10.,  20.,  30.],\n",
       "        [100., 200., 300.]])"
      ]
     },
     "execution_count": 45,
     "metadata": {},
     "output_type": "execute_result"
    }
   ],
   "source": [
    "a"
   ]
  },
  {
   "cell_type": "code",
   "execution_count": 46,
   "metadata": {
    "colab": {},
    "colab_type": "code",
    "id": "UziXyvtDYJ_-",
    "outputId": "8468055e-7708-4255-ebaf-1fa621ef970f"
   },
   "outputs": [
    {
     "data": {
      "text/plain": [
       "tensor([[ -1.,  -2.,  -3.],\n",
       "        [-10., -20., -30.],\n",
       "        [100., 200., 300.]])"
      ]
     },
     "execution_count": 46,
     "metadata": {},
     "output_type": "execute_result"
    }
   ],
   "source": [
    "b"
   ]
  },
  {
   "cell_type": "markdown",
   "metadata": {
    "colab_type": "text",
    "id": "D2IP_FrKYKAA"
   },
   "source": [
    "### Задача 2"
   ]
  },
  {
   "cell_type": "markdown",
   "metadata": {
    "colab_type": "text",
    "id": "tBZFbSYQYKAA"
   },
   "source": [
    "1). Создайте два вещественных тензора: `a` размером (5, 2) и `b` размером (1,10)   \n",
    "2). Создайте тензор `c`, являющийся тензором `b`, но размера (5, 2)  \n",
    "3). Произведите все арифметические операции с тензорами `a` и `c`"
   ]
  },
  {
   "cell_type": "code",
   "execution_count": 47,
   "metadata": {},
   "outputs": [
    {
     "data": {
      "text/plain": [
       "tensor([[-3.2920e-04,  9.3747e-43, -9.4688e+16,  5.7453e-44, -1.0010e-03,\n",
       "          9.3747e-43,  2.9287e-43,  0.0000e+00,  0.0000e+00,  0.0000e+00]])"
      ]
     },
     "execution_count": 47,
     "metadata": {},
     "output_type": "execute_result"
    }
   ],
   "source": [
    "a = torch.FloatTensor(5, 2)\n",
    "b = torch.FloatTensor(1, 10)\n",
    "b"
   ]
  },
  {
   "cell_type": "code",
   "execution_count": 48,
   "metadata": {
    "colab": {},
    "colab_type": "code",
    "id": "hzs2bH3GYKAB"
   },
   "outputs": [
    {
     "data": {
      "text/plain": [
       "tensor([[-3.2920e-04,  9.3747e-43],\n",
       "        [-9.4688e+16,  5.7453e-44],\n",
       "        [-1.0010e-03,  9.3747e-43],\n",
       "        [ 2.9287e-43,  0.0000e+00],\n",
       "        [ 0.0000e+00,  0.0000e+00]])"
      ]
     },
     "execution_count": 48,
     "metadata": {},
     "output_type": "execute_result"
    }
   ],
   "source": [
    "c = b.view(5, 2)\n",
    "c"
   ]
  },
  {
   "cell_type": "code",
   "execution_count": 49,
   "metadata": {},
   "outputs": [
    {
     "name": "stdout",
     "output_type": "stream",
     "text": [
      "tensor([[-6.5839e-04,  1.8749e-42],\n",
      "        [-9.4688e+16,  1.0229e-43],\n",
      "        [-1.0010e-03,  9.6836e+24],\n",
      "        [ 1.7748e+28,  0.0000e+00],\n",
      "        [ 0.0000e+00,  0.0000e+00]])\n",
      "tensor([[ 0.0000e+00,  0.0000e+00],\n",
      "        [ 9.4688e+16, -1.2612e-44],\n",
      "        [ 1.0010e-03,  9.6836e+24],\n",
      "        [ 1.7748e+28,  0.0000e+00],\n",
      "        [ 0.0000e+00,  0.0000e+00]])\n",
      "tensor([[ 1.0837e-07,  0.0000e+00],\n",
      "        [-5.7055e-27,  0.0000e+00],\n",
      "        [-0.0000e+00,  9.0781e-18],\n",
      "        [ 5.1980e-15,  0.0000e+00],\n",
      "        [ 0.0000e+00,  0.0000e+00]])\n",
      "tensor([[ 1.0000e+00,  1.0000e+00],\n",
      "        [-0.0000e+00,  7.8049e-01],\n",
      "        [-1.3719e-40,         inf],\n",
      "        [        inf,         nan],\n",
      "        [        nan,         nan]])\n"
     ]
    }
   ],
   "source": [
    "sum = a.add(c)\n",
    "dif = a.sub(c)\n",
    "mul = a.mul(c)\n",
    "div = a.div(c)\n",
    "print(sum)\n",
    "print(dif)\n",
    "print(mul)\n",
    "print(div)"
   ]
  },
  {
   "cell_type": "markdown",
   "metadata": {
    "colab_type": "text",
    "id": "vLpwZPc3YKAC"
   },
   "source": [
    "* **Операторы сравнения**:"
   ]
  },
  {
   "cell_type": "code",
   "execution_count": 50,
   "metadata": {
    "colab": {},
    "colab_type": "code",
    "id": "FfRzvw_UYKAC"
   },
   "outputs": [],
   "source": [
    "a = torch.FloatTensor([[1, 2, 3], [10, 20, 30], [100, 200, 300]])\n",
    "b = torch.FloatTensor([[-1, -2, -3], [-10, -20, -30], [100, 200, 300]])"
   ]
  },
  {
   "cell_type": "code",
   "execution_count": 51,
   "metadata": {
    "colab": {},
    "colab_type": "code",
    "id": "o1RUTP2BYKAD",
    "outputId": "3e2b13da-6b0b-4531-81bf-4d21298c9a16"
   },
   "outputs": [
    {
     "data": {
      "text/plain": [
       "tensor([[0, 0, 0],\n",
       "        [0, 0, 0],\n",
       "        [1, 1, 1]], dtype=torch.uint8)"
      ]
     },
     "execution_count": 51,
     "metadata": {},
     "output_type": "execute_result"
    }
   ],
   "source": [
    "a == b"
   ]
  },
  {
   "cell_type": "code",
   "execution_count": 52,
   "metadata": {
    "colab": {},
    "colab_type": "code",
    "id": "JO3HaVIAYKAF",
    "outputId": "d103a172-5fbc-42e5-ed8c-70604d54bfa9"
   },
   "outputs": [
    {
     "data": {
      "text/plain": [
       "tensor([[1, 1, 1],\n",
       "        [1, 1, 1],\n",
       "        [0, 0, 0]], dtype=torch.uint8)"
      ]
     },
     "execution_count": 52,
     "metadata": {},
     "output_type": "execute_result"
    }
   ],
   "source": [
    "a != b"
   ]
  },
  {
   "cell_type": "code",
   "execution_count": 53,
   "metadata": {
    "colab": {},
    "colab_type": "code",
    "id": "DExLBj4VYKAH",
    "outputId": "0bcd542d-47be-435f-8569-903e6b363a3d"
   },
   "outputs": [
    {
     "data": {
      "text/plain": [
       "tensor([[0, 0, 0],\n",
       "        [0, 0, 0],\n",
       "        [0, 0, 0]], dtype=torch.uint8)"
      ]
     },
     "execution_count": 53,
     "metadata": {},
     "output_type": "execute_result"
    }
   ],
   "source": [
    "a < b"
   ]
  },
  {
   "cell_type": "code",
   "execution_count": 54,
   "metadata": {
    "colab": {},
    "colab_type": "code",
    "id": "0_IH_FUNYKAJ",
    "outputId": "94602ba6-9a82-4522-827d-1ec114ac9185"
   },
   "outputs": [
    {
     "data": {
      "text/plain": [
       "tensor([[1, 1, 1],\n",
       "        [1, 1, 1],\n",
       "        [0, 0, 0]], dtype=torch.uint8)"
      ]
     },
     "execution_count": 54,
     "metadata": {},
     "output_type": "execute_result"
    }
   ],
   "source": [
    "a > b"
   ]
  },
  {
   "cell_type": "markdown",
   "metadata": {
    "colab_type": "text",
    "id": "24nzBJR8YKAM"
   },
   "source": [
    "* **Булевы маски**:"
   ]
  },
  {
   "cell_type": "code",
   "execution_count": 55,
   "metadata": {
    "colab": {},
    "colab_type": "code",
    "id": "C-xVDslwYKAN",
    "outputId": "0794a382-8fcf-4a66-d440-d39f76ea2439"
   },
   "outputs": [
    {
     "data": {
      "text/plain": [
       "tensor([ 1.,  2.,  3., 10., 20., 30.])"
      ]
     },
     "execution_count": 55,
     "metadata": {},
     "output_type": "execute_result"
    }
   ],
   "source": [
    "a[a > b]"
   ]
  },
  {
   "cell_type": "code",
   "execution_count": 56,
   "metadata": {
    "colab": {},
    "colab_type": "code",
    "id": "XatDJF5YYKAQ",
    "outputId": "4e85dc39-c846-4b92-ac79-76b921cbe096"
   },
   "outputs": [
    {
     "data": {
      "text/plain": [
       "tensor([100., 200., 300.])"
      ]
     },
     "execution_count": 56,
     "metadata": {},
     "output_type": "execute_result"
    }
   ],
   "source": [
    "b[a == b]"
   ]
  },
  {
   "cell_type": "markdown",
   "metadata": {
    "colab_type": "text",
    "id": "P-pLWPv2YKAU"
   },
   "source": [
    "Опять же, тензоры не меняются:"
   ]
  },
  {
   "cell_type": "code",
   "execution_count": 57,
   "metadata": {
    "colab": {},
    "colab_type": "code",
    "id": "AKsqvCD5YKAW",
    "outputId": "bb0b1877-35cb-4e0f-c72d-a2f68546dd73"
   },
   "outputs": [
    {
     "data": {
      "text/plain": [
       "tensor([[  1.,   2.,   3.],\n",
       "        [ 10.,  20.,  30.],\n",
       "        [100., 200., 300.]])"
      ]
     },
     "execution_count": 57,
     "metadata": {},
     "output_type": "execute_result"
    }
   ],
   "source": [
    "a"
   ]
  },
  {
   "cell_type": "code",
   "execution_count": 58,
   "metadata": {
    "colab": {},
    "colab_type": "code",
    "id": "PYurJLVuYKAa",
    "outputId": "47a09648-6dd2-4ae2-cdf7-bdc509a443c0"
   },
   "outputs": [
    {
     "data": {
      "text/plain": [
       "tensor([[ -1.,  -2.,  -3.],\n",
       "        [-10., -20., -30.],\n",
       "        [100., 200., 300.]])"
      ]
     },
     "execution_count": 58,
     "metadata": {},
     "output_type": "execute_result"
    }
   ],
   "source": [
    "b"
   ]
  },
  {
   "cell_type": "markdown",
   "metadata": {
    "colab_type": "text",
    "id": "54bQky1bYKAf"
   },
   "source": [
    "Применение **стандартных функций** такое же, как и в numpy - поэлементное:"
   ]
  },
  {
   "cell_type": "code",
   "execution_count": 59,
   "metadata": {
    "colab": {},
    "colab_type": "code",
    "id": "lWnGSuUhYKAf"
   },
   "outputs": [],
   "source": [
    "a = torch.FloatTensor([[1, 2, 3], [10, 20, 30], [100, 200, 300]])"
   ]
  },
  {
   "cell_type": "code",
   "execution_count": 60,
   "metadata": {
    "colab": {},
    "colab_type": "code",
    "id": "J6ZyxZBNYKAl",
    "outputId": "1df429c0-60b7-4ce9-f0cd-00145923296a"
   },
   "outputs": [
    {
     "data": {
      "text/plain": [
       "tensor([[ 0.8415,  0.9093,  0.1411],\n",
       "        [-0.5440,  0.9129, -0.9880],\n",
       "        [-0.5064, -0.8733, -0.9998]])"
      ]
     },
     "execution_count": 60,
     "metadata": {},
     "output_type": "execute_result"
    }
   ],
   "source": [
    "a.sin()"
   ]
  },
  {
   "cell_type": "code",
   "execution_count": 61,
   "metadata": {
    "colab": {},
    "colab_type": "code",
    "id": "SScTSkJMYKAo",
    "outputId": "fdf7d1bf-efab-49ba-bc75-cc107d0b87bd"
   },
   "outputs": [
    {
     "data": {
      "text/plain": [
       "tensor([[ 0.8415,  0.9093,  0.1411],\n",
       "        [-0.5440,  0.9129, -0.9880],\n",
       "        [-0.5064, -0.8733, -0.9998]])"
      ]
     },
     "execution_count": 61,
     "metadata": {},
     "output_type": "execute_result"
    }
   ],
   "source": [
    "torch.sin(a)"
   ]
  },
  {
   "cell_type": "code",
   "execution_count": 62,
   "metadata": {
    "colab": {},
    "colab_type": "code",
    "id": "0bYVYVV7YKAr",
    "outputId": "e0705a7e-5d5d-4fcf-9710-7a109d797fb7"
   },
   "outputs": [
    {
     "data": {
      "text/plain": [
       "tensor([[ 0.5403, -0.4161, -0.9900],\n",
       "        [-0.8391,  0.4081,  0.1543],\n",
       "        [ 0.8623,  0.4872, -0.0221]])"
      ]
     },
     "execution_count": 62,
     "metadata": {},
     "output_type": "execute_result"
    }
   ],
   "source": [
    "a.cos()"
   ]
  },
  {
   "cell_type": "code",
   "execution_count": 63,
   "metadata": {
    "colab": {},
    "colab_type": "code",
    "id": "c-rYL8HQYKAt",
    "outputId": "55051cd8-627a-4594-d9ac-82976a0c73b6"
   },
   "outputs": [
    {
     "data": {
      "text/plain": [
       "tensor([[2.7183e+00, 7.3891e+00, 2.0086e+01],\n",
       "        [2.2026e+04, 4.8517e+08, 1.0686e+13],\n",
       "        [       inf,        inf,        inf]])"
      ]
     },
     "execution_count": 63,
     "metadata": {},
     "output_type": "execute_result"
    }
   ],
   "source": [
    "a.exp()"
   ]
  },
  {
   "cell_type": "code",
   "execution_count": 64,
   "metadata": {
    "colab": {},
    "colab_type": "code",
    "id": "EbiCDYUzYKAw",
    "outputId": "ac1e3627-617e-4f37-875c-0adc20e8fbaa"
   },
   "outputs": [
    {
     "data": {
      "text/plain": [
       "tensor([[0.0000, 0.6931, 1.0986],\n",
       "        [2.3026, 2.9957, 3.4012],\n",
       "        [4.6052, 5.2983, 5.7038]])"
      ]
     },
     "execution_count": 64,
     "metadata": {},
     "output_type": "execute_result"
    }
   ],
   "source": [
    "a.log()"
   ]
  },
  {
   "cell_type": "code",
   "execution_count": 65,
   "metadata": {
    "colab": {},
    "colab_type": "code",
    "id": "yh1sySpiYKAy",
    "outputId": "6908104e-8250-4041-c7d1-de44ef13fc2f"
   },
   "outputs": [
    {
     "data": {
      "text/plain": [
       "tensor([[  -1.,   -2.,   -3.],\n",
       "        [ -10.,  -20.,  -30.],\n",
       "        [-100., -200., -300.]])"
      ]
     },
     "execution_count": 65,
     "metadata": {},
     "output_type": "execute_result"
    }
   ],
   "source": [
    "b = -a\n",
    "b"
   ]
  },
  {
   "cell_type": "code",
   "execution_count": 66,
   "metadata": {
    "colab": {},
    "colab_type": "code",
    "id": "PNU0UxqIYKA2",
    "outputId": "230053f8-ffc0-4d62-9ee0-73d24b8a6bc4"
   },
   "outputs": [
    {
     "data": {
      "text/plain": [
       "tensor([[  1.,   2.,   3.],\n",
       "        [ 10.,  20.,  30.],\n",
       "        [100., 200., 300.]])"
      ]
     },
     "execution_count": 66,
     "metadata": {},
     "output_type": "execute_result"
    }
   ],
   "source": [
    "b.abs()"
   ]
  },
  {
   "cell_type": "markdown",
   "metadata": {
    "colab_type": "text",
    "id": "eqERQjISYKA9"
   },
   "source": [
    "**Сумма, среднее, максимум, минимум**:"
   ]
  },
  {
   "cell_type": "code",
   "execution_count": 67,
   "metadata": {
    "colab": {},
    "colab_type": "code",
    "id": "HLmJGdl9YKA-",
    "outputId": "55275b53-d830-4530-f024-9603879269fd"
   },
   "outputs": [
    {
     "data": {
      "text/plain": [
       "tensor(666.)"
      ]
     },
     "execution_count": 67,
     "metadata": {},
     "output_type": "execute_result"
    }
   ],
   "source": [
    "a.sum()"
   ]
  },
  {
   "cell_type": "code",
   "execution_count": 68,
   "metadata": {
    "colab": {},
    "colab_type": "code",
    "id": "ervIuNGnYKBD",
    "outputId": "a21ff9f0-34da-4d7a-e95a-49239822d053"
   },
   "outputs": [
    {
     "data": {
      "text/plain": [
       "tensor(74.)"
      ]
     },
     "execution_count": 68,
     "metadata": {},
     "output_type": "execute_result"
    }
   ],
   "source": [
    "a.mean()"
   ]
  },
  {
   "cell_type": "markdown",
   "metadata": {
    "colab_type": "text",
    "id": "1qxkdUQ2YKBF"
   },
   "source": [
    "По осям:"
   ]
  },
  {
   "cell_type": "code",
   "execution_count": 69,
   "metadata": {
    "colab": {},
    "colab_type": "code",
    "id": "cc6RjJYeYKBG",
    "outputId": "3ab3407e-c63f-4a9e-9534-9244c953b671"
   },
   "outputs": [
    {
     "data": {
      "text/plain": [
       "tensor([111., 222., 333.])"
      ]
     },
     "execution_count": 69,
     "metadata": {},
     "output_type": "execute_result"
    }
   ],
   "source": [
    "a.sum(0)"
   ]
  },
  {
   "cell_type": "code",
   "execution_count": 70,
   "metadata": {
    "colab": {},
    "colab_type": "code",
    "id": "Dgi5BmhOYKBJ",
    "outputId": "7a57158b-ea66-46bf-ac15-5591ba6e6000"
   },
   "outputs": [
    {
     "data": {
      "text/plain": [
       "tensor([  6.,  60., 600.])"
      ]
     },
     "execution_count": 70,
     "metadata": {},
     "output_type": "execute_result"
    }
   ],
   "source": [
    "a.sum(1)"
   ]
  },
  {
   "cell_type": "code",
   "execution_count": 71,
   "metadata": {
    "colab": {},
    "colab_type": "code",
    "id": "-tIkcTENYKBK",
    "outputId": "6292c5e3-da1e-4a1b-b803-015a91aaef6d"
   },
   "outputs": [
    {
     "data": {
      "text/plain": [
       "tensor(300.)"
      ]
     },
     "execution_count": 71,
     "metadata": {},
     "output_type": "execute_result"
    }
   ],
   "source": [
    "a.max()"
   ]
  },
  {
   "cell_type": "code",
   "execution_count": 72,
   "metadata": {
    "colab": {},
    "colab_type": "code",
    "id": "V4U_LyyPYKBL",
    "outputId": "9b22f063-7ec0-48e8-a65e-7de1e87ba796"
   },
   "outputs": [
    {
     "data": {
      "text/plain": [
       "(tensor([100., 200., 300.]), tensor([2, 2, 2]))"
      ]
     },
     "execution_count": 72,
     "metadata": {},
     "output_type": "execute_result"
    }
   ],
   "source": [
    "a.max(0)"
   ]
  },
  {
   "cell_type": "code",
   "execution_count": 73,
   "metadata": {
    "colab": {},
    "colab_type": "code",
    "id": "TSqmVtWjYKBO",
    "outputId": "f65b698c-826e-4b97-da8f-0153e3bae821"
   },
   "outputs": [
    {
     "data": {
      "text/plain": [
       "tensor(1.)"
      ]
     },
     "execution_count": 73,
     "metadata": {},
     "output_type": "execute_result"
    }
   ],
   "source": [
    "a.min()"
   ]
  },
  {
   "cell_type": "code",
   "execution_count": 74,
   "metadata": {
    "colab": {},
    "colab_type": "code",
    "id": "OeA2hlZ2YKBP",
    "outputId": "668880df-8589-4d5f-c92e-6142a84058db"
   },
   "outputs": [
    {
     "data": {
      "text/plain": [
       "(tensor([1., 2., 3.]), tensor([0, 0, 0]))"
      ]
     },
     "execution_count": 74,
     "metadata": {},
     "output_type": "execute_result"
    }
   ],
   "source": [
    "a.min(0)"
   ]
  },
  {
   "cell_type": "markdown",
   "metadata": {
    "colab_type": "text",
    "id": "Ys-9hnr4YKBS"
   },
   "source": [
    "Обратите внимание - второй тензор при вызове функций .max() и .min() - это индексы этих максимальных/минимальных элементов по указанной размерности (то есть в данном случае a.min() вернул (1, 2, 3) - минимумы по 0 оси (по столбцам), и их индексы по 0-ой оси (0,0,0) (номер каждого элемента в своём столбце))."
   ]
  },
  {
   "cell_type": "markdown",
   "metadata": {
    "colab_type": "text",
    "id": "rIaroFO6YKBT"
   },
   "source": [
    "### Задача 3"
   ]
  },
  {
   "cell_type": "markdown",
   "metadata": {
    "colab_type": "text",
    "id": "GfLHVvKvYKBT"
   },
   "source": [
    "Создайте тензор `a` размерности (100, 780, 780, 3) (можно интерпретировать это как 100 картинок размера 780х780 с тремя цветовыми каналами) и выведите первый элемент этого тензора как картинку (с помощью matplotlib.pyplot).\n",
    "\n",
    "Выведите среднее элементов по 1-ой оси (по сути - средняя картинка по всем картинкам) и по 4-ой оси (по сути - усреднение каналов для каждой картинки)."
   ]
  },
  {
   "cell_type": "code",
   "execution_count": 75,
   "metadata": {
    "colab": {},
    "colab_type": "code",
    "id": "pZVGHEQQYKBU"
   },
   "outputs": [
    {
     "data": {
      "text/plain": [
       "torch.Size([780, 780, 3])"
      ]
     },
     "execution_count": 75,
     "metadata": {},
     "output_type": "execute_result"
    }
   ],
   "source": [
    "a = torch.FloatTensor(100, 780, 780, 3)\n",
    "a.mean(0).shape"
   ]
  },
  {
   "cell_type": "markdown",
   "metadata": {
    "colab_type": "text",
    "id": "kepFeTZ0YKBV"
   },
   "source": [
    "**Матричные операции:**"
   ]
  },
  {
   "cell_type": "code",
   "execution_count": null,
   "metadata": {
    "colab": {},
    "colab_type": "code",
    "id": "XEShGzNHYKBV"
   },
   "outputs": [],
   "source": [
    "z = x.mm(y)\n",
    "z = torch.mm(x, y)\n",
    "# Матричное умножение.\n",
    "z = x.mv(v)\n",
    "z = torch.mv(x, v)\n",
    "# Умножение матрицы на вектор.\n",
    "z = x.dot(y)\n",
    "z = torch.dot(x, y)\n",
    "# Скалярное умножение тензоров.\n",
    "bz = bx.bmm(by)\n",
    "bz = torch.bmm(bx, by)\n",
    "# Перемножает матрицы целыми батчами."
   ]
  },
  {
   "cell_type": "markdown",
   "metadata": {
    "colab_type": "text",
    "id": "7RYm3mdrYKBX"
   },
   "source": [
    "* Транспонирование матрицы (тензора):"
   ]
  },
  {
   "cell_type": "code",
   "execution_count": 77,
   "metadata": {
    "colab": {},
    "colab_type": "code",
    "id": "T8-1TSkeYKBY",
    "outputId": "c2367178-b759-462d-9f22-08f13ca6c56e"
   },
   "outputs": [
    {
     "data": {
      "text/plain": [
       "tensor([[  1.,   2.,   3.],\n",
       "        [ 10.,  20.,  30.],\n",
       "        [100., 200., 300.]])"
      ]
     },
     "execution_count": 77,
     "metadata": {},
     "output_type": "execute_result"
    }
   ],
   "source": [
    "a = torch.FloatTensor([[1, 2, 3], [10, 20, 30], [100, 200, 300]])\n",
    "a"
   ]
  },
  {
   "cell_type": "code",
   "execution_count": 78,
   "metadata": {
    "colab": {},
    "colab_type": "code",
    "id": "HSAZwai7YKBa",
    "outputId": "d8d0bbc2-1283-4dc2-cbd3-be45a9b3b6e9"
   },
   "outputs": [
    {
     "data": {
      "text/plain": [
       "tensor([[  1.,  10., 100.],\n",
       "        [  2.,  20., 200.],\n",
       "        [  3.,  30., 300.]])"
      ]
     },
     "execution_count": 78,
     "metadata": {},
     "output_type": "execute_result"
    }
   ],
   "source": [
    "a.t()"
   ]
  },
  {
   "cell_type": "markdown",
   "metadata": {
    "colab_type": "text",
    "id": "QqsPkleRYKBd"
   },
   "source": [
    "И снова - сам тензор не меняется (то есть при вызове создаётся новый):"
   ]
  },
  {
   "cell_type": "code",
   "execution_count": 79,
   "metadata": {
    "colab": {},
    "colab_type": "code",
    "id": "NRPamd2EYKBe",
    "outputId": "eedf4477-f1c3-4527-ab34-cdd914d556e9"
   },
   "outputs": [
    {
     "data": {
      "text/plain": [
       "tensor([[  1.,   2.,   3.],\n",
       "        [ 10.,  20.,  30.],\n",
       "        [100., 200., 300.]])"
      ]
     },
     "execution_count": 79,
     "metadata": {},
     "output_type": "execute_result"
    }
   ],
   "source": [
    "a"
   ]
  },
  {
   "cell_type": "markdown",
   "metadata": {
    "colab_type": "text",
    "id": "q8YhoxHPYKBh"
   },
   "source": [
    "* Скалярное произведение векторов (1-мерных тензоров):"
   ]
  },
  {
   "cell_type": "code",
   "execution_count": 80,
   "metadata": {
    "colab": {},
    "colab_type": "code",
    "id": "i1pRtl7HYKBi"
   },
   "outputs": [],
   "source": [
    "a = torch.FloatTensor([1, 2, 3, 4, 5, 6])\n",
    "b = torch.FloatTensor([-1, -2, -4, -6, -8, -10])"
   ]
  },
  {
   "cell_type": "code",
   "execution_count": 81,
   "metadata": {
    "colab": {},
    "colab_type": "code",
    "id": "qcS-28dwYKBp",
    "outputId": "38a9040f-e59b-468c-c2e2-caee3d56b993"
   },
   "outputs": [
    {
     "data": {
      "text/plain": [
       "tensor(-141.)"
      ]
     },
     "execution_count": 81,
     "metadata": {},
     "output_type": "execute_result"
    }
   ],
   "source": [
    "a.dot(b)"
   ]
  },
  {
   "cell_type": "code",
   "execution_count": 82,
   "metadata": {
    "colab": {},
    "colab_type": "code",
    "id": "MXyhOelQYKBs",
    "outputId": "f0ec3908-d565-4eb6-cf46-fdaf4c20cc50"
   },
   "outputs": [
    {
     "data": {
      "text/plain": [
       "tensor(-141.)"
      ]
     },
     "execution_count": 82,
     "metadata": {},
     "output_type": "execute_result"
    }
   ],
   "source": [
    "a @ b"
   ]
  },
  {
   "cell_type": "code",
   "execution_count": 83,
   "metadata": {
    "colab": {},
    "colab_type": "code",
    "id": "sxqg4xhoYKBt",
    "outputId": "66c3dec7-220f-420b-9677-b88f5a0db078"
   },
   "outputs": [
    {
     "data": {
      "text/plain": [
       "torch.Tensor"
      ]
     },
     "execution_count": 83,
     "metadata": {},
     "output_type": "execute_result"
    }
   ],
   "source": [
    "type(a)"
   ]
  },
  {
   "cell_type": "code",
   "execution_count": 84,
   "metadata": {
    "colab": {},
    "colab_type": "code",
    "id": "_v2ZjPqDYKBz",
    "outputId": "7c6d752f-d697-4bcb-b65f-6ca8db4d0cec"
   },
   "outputs": [
    {
     "data": {
      "text/plain": [
       "torch.Tensor"
      ]
     },
     "execution_count": 84,
     "metadata": {},
     "output_type": "execute_result"
    }
   ],
   "source": [
    "type(b)"
   ]
  },
  {
   "cell_type": "code",
   "execution_count": 85,
   "metadata": {
    "colab": {},
    "colab_type": "code",
    "id": "UsWB9vTuYKB0",
    "outputId": "e591fa1a-2ac6-43f1-d9a8-28bab50caaef"
   },
   "outputs": [
    {
     "data": {
      "text/plain": [
       "torch.Tensor"
      ]
     },
     "execution_count": 85,
     "metadata": {},
     "output_type": "execute_result"
    }
   ],
   "source": [
    "type(a @ b)"
   ]
  },
  {
   "cell_type": "markdown",
   "metadata": {
    "colab_type": "text",
    "id": "KSrnLwkGYKB1"
   },
   "source": [
    "* Матричное умножение:"
   ]
  },
  {
   "cell_type": "code",
   "execution_count": 86,
   "metadata": {
    "colab": {},
    "colab_type": "code",
    "id": "ViurnbjPYKB2"
   },
   "outputs": [],
   "source": [
    "a = torch.FloatTensor([[1, 2, 3], [10, 20, 30], [100, 200, 300]])\n",
    "b = torch.FloatTensor([[-1, -2, -3], [-10, -20, -30], [100, 200, 300]])"
   ]
  },
  {
   "cell_type": "code",
   "execution_count": 87,
   "metadata": {
    "colab": {},
    "colab_type": "code",
    "id": "5TrCnfWiYKB3",
    "outputId": "38f50f16-6be9-4523-e0ca-0743a4b400a3"
   },
   "outputs": [
    {
     "data": {
      "text/plain": [
       "tensor([[  279.,   558.,   837.],\n",
       "        [ 2790.,  5580.,  8370.],\n",
       "        [27900., 55800., 83700.]])"
      ]
     },
     "execution_count": 87,
     "metadata": {},
     "output_type": "execute_result"
    }
   ],
   "source": [
    "a.mm(b)"
   ]
  },
  {
   "cell_type": "code",
   "execution_count": 88,
   "metadata": {
    "colab": {},
    "colab_type": "code",
    "id": "HMzIz-_MYKB4",
    "outputId": "9b149f62-fa77-4859-d6e9-41b8839d1bff"
   },
   "outputs": [
    {
     "data": {
      "text/plain": [
       "tensor([[  279.,   558.,   837.],\n",
       "        [ 2790.,  5580.,  8370.],\n",
       "        [27900., 55800., 83700.]])"
      ]
     },
     "execution_count": 88,
     "metadata": {},
     "output_type": "execute_result"
    }
   ],
   "source": [
    "a @ b"
   ]
  },
  {
   "cell_type": "markdown",
   "metadata": {
    "colab_type": "text",
    "id": "Ig2pr52xYKB5"
   },
   "source": [
    "Тензоры неизменны:"
   ]
  },
  {
   "cell_type": "code",
   "execution_count": 89,
   "metadata": {
    "colab": {},
    "colab_type": "code",
    "id": "22QOePSyYKB6",
    "outputId": "204fcd82-a75c-43cf-d670-bb04fac63cfe"
   },
   "outputs": [
    {
     "data": {
      "text/plain": [
       "tensor([[  1.,   2.,   3.],\n",
       "        [ 10.,  20.,  30.],\n",
       "        [100., 200., 300.]])"
      ]
     },
     "execution_count": 89,
     "metadata": {},
     "output_type": "execute_result"
    }
   ],
   "source": [
    "a"
   ]
  },
  {
   "cell_type": "code",
   "execution_count": 90,
   "metadata": {
    "colab": {},
    "colab_type": "code",
    "id": "JHr6eKADYKB6",
    "outputId": "bc4df416-6bdb-4aaa-b93f-000b1219222b"
   },
   "outputs": [
    {
     "data": {
      "text/plain": [
       "tensor([[ -1.,  -2.,  -3.],\n",
       "        [-10., -20., -30.],\n",
       "        [100., 200., 300.]])"
      ]
     },
     "execution_count": 90,
     "metadata": {},
     "output_type": "execute_result"
    }
   ],
   "source": [
    "b"
   ]
  },
  {
   "cell_type": "code",
   "execution_count": 91,
   "metadata": {
    "colab": {},
    "colab_type": "code",
    "id": "vtuvt20-YKB8"
   },
   "outputs": [],
   "source": [
    "a = torch.FloatTensor([[1, 2, 3], [10, 20, 30], [100, 200, 300]])\n",
    "b = torch.FloatTensor([[-1], [-10], [100]])"
   ]
  },
  {
   "cell_type": "code",
   "execution_count": 92,
   "metadata": {
    "colab": {},
    "colab_type": "code",
    "id": "fdDnu5XjYKB9",
    "outputId": "cc0a9d0c-d63f-468d-907a-05f836fa9828"
   },
   "outputs": [
    {
     "name": "stdout",
     "output_type": "stream",
     "text": [
      "torch.Size([3, 3]) torch.Size([3, 1])\n"
     ]
    }
   ],
   "source": [
    "print(a.shape, b.shape)"
   ]
  },
  {
   "cell_type": "code",
   "execution_count": 93,
   "metadata": {
    "colab": {},
    "colab_type": "code",
    "id": "oD4N4WN8YKB_",
    "outputId": "babf6634-58db-49be-80f6-b949f074c83a"
   },
   "outputs": [
    {
     "data": {
      "text/plain": [
       "tensor([[  279.],\n",
       "        [ 2790.],\n",
       "        [27900.]])"
      ]
     },
     "execution_count": 93,
     "metadata": {},
     "output_type": "execute_result"
    }
   ],
   "source": [
    "a @ b"
   ]
  },
  {
   "cell_type": "markdown",
   "metadata": {
    "colab_type": "text",
    "id": "va9w-BavYKCB"
   },
   "source": [
    "Если \"развернуть\" тензор b просто в массив элементов (`torch.view(-1)`), умножение будет как на столбец:"
   ]
  },
  {
   "cell_type": "code",
   "execution_count": 94,
   "metadata": {
    "colab": {},
    "colab_type": "code",
    "id": "V7KsdYcBYKCC",
    "outputId": "9e2f3ec8-1f56-4c9c-d0a0-a98fda07faeb"
   },
   "outputs": [
    {
     "data": {
      "text/plain": [
       "tensor([[ -1.],\n",
       "        [-10.],\n",
       "        [100.]])"
      ]
     },
     "execution_count": 94,
     "metadata": {},
     "output_type": "execute_result"
    }
   ],
   "source": [
    "b"
   ]
  },
  {
   "cell_type": "code",
   "execution_count": 95,
   "metadata": {
    "colab": {},
    "colab_type": "code",
    "id": "t7k6spayYKCF",
    "outputId": "04926526-0040-4c8f-8e7c-de195bc0590e"
   },
   "outputs": [
    {
     "data": {
      "text/plain": [
       "tensor([ -1., -10., 100.])"
      ]
     },
     "execution_count": 95,
     "metadata": {},
     "output_type": "execute_result"
    }
   ],
   "source": [
    "b.view(-1)"
   ]
  },
  {
   "cell_type": "code",
   "execution_count": 96,
   "metadata": {
    "colab": {},
    "colab_type": "code",
    "id": "8u8xQ20bYKCH",
    "outputId": "02532845-68a0-4280-cd68-3a31aff29f48"
   },
   "outputs": [
    {
     "data": {
      "text/plain": [
       "tensor([  279.,  2790., 27900.])"
      ]
     },
     "execution_count": 96,
     "metadata": {},
     "output_type": "execute_result"
    }
   ],
   "source": [
    "a @ b.view(-1)"
   ]
  },
  {
   "cell_type": "code",
   "execution_count": 97,
   "metadata": {
    "colab": {},
    "colab_type": "code",
    "id": "QvCu1sJEYKCJ",
    "outputId": "9776bf5e-a880-4141-9340-9881da45066d"
   },
   "outputs": [
    {
     "data": {
      "text/plain": [
       "tensor([  279.,  2790., 27900.])"
      ]
     },
     "execution_count": 97,
     "metadata": {},
     "output_type": "execute_result"
    }
   ],
   "source": [
    "a.mv(b.view(-1))"
   ]
  },
  {
   "cell_type": "markdown",
   "metadata": {
    "colab_type": "text",
    "id": "gZitrCN6YKCL"
   },
   "source": [
    "**Перевод из NumPy в PyTorch**:"
   ]
  },
  {
   "cell_type": "code",
   "execution_count": 98,
   "metadata": {
    "colab": {},
    "colab_type": "code",
    "id": "bnLS4CGXYKCL",
    "outputId": "12cdf1ad-af71-4ab5-95f0-bfa937664f88"
   },
   "outputs": [
    {
     "data": {
      "text/plain": [
       "array([[0.87122966, 0.77548287, 0.99435012],\n",
       "       [0.9561005 , 0.83148683, 0.35000053],\n",
       "       [0.5885051 , 0.05767388, 0.47980665]])"
      ]
     },
     "execution_count": 98,
     "metadata": {},
     "output_type": "execute_result"
    }
   ],
   "source": [
    "import numpy as np\n",
    "\n",
    "a = np.random.rand(3, 3)\n",
    "a"
   ]
  },
  {
   "cell_type": "code",
   "execution_count": 99,
   "metadata": {
    "colab": {},
    "colab_type": "code",
    "id": "PXge57waYKCM",
    "outputId": "c9a6ab8f-f1d5-40bf-8196-e9ebc346d9ef"
   },
   "outputs": [
    {
     "data": {
      "text/plain": [
       "tensor([[0.8712, 0.7755, 0.9944],\n",
       "        [0.9561, 0.8315, 0.3500],\n",
       "        [0.5885, 0.0577, 0.4798]], dtype=torch.float64)"
      ]
     },
     "execution_count": 99,
     "metadata": {},
     "output_type": "execute_result"
    }
   ],
   "source": [
    "b = torch.from_numpy(a)\n",
    "b"
   ]
  },
  {
   "cell_type": "markdown",
   "metadata": {
    "colab_type": "text",
    "id": "Nvcr3ymPYKCN"
   },
   "source": [
    "**НО!** Обратите внимание - a и b в этом случае будут использовать одно и то же хранилище данных, то есть измение одного тензора будет менять и другой:"
   ]
  },
  {
   "cell_type": "code",
   "execution_count": 100,
   "metadata": {
    "colab": {},
    "colab_type": "code",
    "id": "0N_ZW6TQYKCN",
    "outputId": "58717139-15fe-4481-9c7a-e2707076af15"
   },
   "outputs": [
    {
     "data": {
      "text/plain": [
       "tensor([[0., 0., 0.],\n",
       "        [0., 0., 0.],\n",
       "        [0., 0., 0.]], dtype=torch.float64)"
      ]
     },
     "execution_count": 100,
     "metadata": {},
     "output_type": "execute_result"
    }
   ],
   "source": [
    "b -= b\n",
    "b"
   ]
  },
  {
   "cell_type": "code",
   "execution_count": 101,
   "metadata": {
    "colab": {},
    "colab_type": "code",
    "id": "wzUnCKsiYKCP",
    "outputId": "a2a76868-1dff-4ba1-9631-6d51dd1d6523"
   },
   "outputs": [
    {
     "data": {
      "text/plain": [
       "array([[0., 0., 0.],\n",
       "       [0., 0., 0.],\n",
       "       [0., 0., 0.]])"
      ]
     },
     "execution_count": 101,
     "metadata": {},
     "output_type": "execute_result"
    }
   ],
   "source": [
    "a"
   ]
  },
  {
   "cell_type": "markdown",
   "metadata": {
    "colab_type": "text",
    "id": "Al73RqKSYKCR"
   },
   "source": [
    "**Перевод из PyTorch в NumPy:**"
   ]
  },
  {
   "cell_type": "code",
   "execution_count": 102,
   "metadata": {
    "colab": {},
    "colab_type": "code",
    "id": "u5rngw4vYKCR",
    "outputId": "89bad9d3-3f9a-4047-e3ba-3b4c4f65fa2f"
   },
   "outputs": [
    {
     "data": {
      "text/plain": [
       "tensor([[[0., 0., 0., 0.],\n",
       "         [0., 0., 0., 0.],\n",
       "         [0., 0., 0., 0.]],\n",
       "\n",
       "        [[0., 0., 0., 0.],\n",
       "         [0., 0., 0., 0.],\n",
       "         [0., 0., 0., 0.]]])"
      ]
     },
     "execution_count": 102,
     "metadata": {},
     "output_type": "execute_result"
    }
   ],
   "source": [
    "a = torch.FloatTensor(2, 3, 4)\n",
    "a"
   ]
  },
  {
   "cell_type": "code",
   "execution_count": 103,
   "metadata": {
    "colab": {},
    "colab_type": "code",
    "id": "yjK68Kk-YKCS",
    "outputId": "d45da6e7-f087-4457-8ce7-c4dabd4fd4fa"
   },
   "outputs": [
    {
     "data": {
      "text/plain": [
       "torch.Tensor"
      ]
     },
     "execution_count": 103,
     "metadata": {},
     "output_type": "execute_result"
    }
   ],
   "source": [
    "type(a)"
   ]
  },
  {
   "cell_type": "code",
   "execution_count": 104,
   "metadata": {
    "colab": {},
    "colab_type": "code",
    "id": "viLUF7gQYKCU",
    "outputId": "11b68e23-6d5f-4e23-e5e3-4b3b1c7c408a"
   },
   "outputs": [
    {
     "data": {
      "text/plain": [
       "array([[[0., 0., 0., 0.],\n",
       "        [0., 0., 0., 0.],\n",
       "        [0., 0., 0., 0.]],\n",
       "\n",
       "       [[0., 0., 0., 0.],\n",
       "        [0., 0., 0., 0.],\n",
       "        [0., 0., 0., 0.]]], dtype=float32)"
      ]
     },
     "execution_count": 104,
     "metadata": {},
     "output_type": "execute_result"
    }
   ],
   "source": [
    "x = a.numpy()\n",
    "x"
   ]
  },
  {
   "cell_type": "code",
   "execution_count": 105,
   "metadata": {
    "colab": {},
    "colab_type": "code",
    "id": "9HxgiLxKYKCV",
    "outputId": "fb84e251-e314-4828-ccc6-eb3cf7d40b1c"
   },
   "outputs": [
    {
     "data": {
      "text/plain": [
       "(2, 3, 4)"
      ]
     },
     "execution_count": 105,
     "metadata": {},
     "output_type": "execute_result"
    }
   ],
   "source": [
    "x.shape"
   ]
  },
  {
   "cell_type": "code",
   "execution_count": 106,
   "metadata": {
    "colab": {},
    "colab_type": "code",
    "id": "SdW5bhmeYKCX",
    "outputId": "fd819e54-8fc0-4389-92a9-41cfa7dc9786"
   },
   "outputs": [
    {
     "data": {
      "text/plain": [
       "numpy.ndarray"
      ]
     },
     "execution_count": 106,
     "metadata": {},
     "output_type": "execute_result"
    }
   ],
   "source": [
    "type(x)"
   ]
  },
  {
   "cell_type": "markdown",
   "metadata": {
    "colab_type": "text",
    "id": "1ALNkrzMYKCY"
   },
   "source": [
    "### Задача 4"
   ]
  },
  {
   "cell_type": "markdown",
   "metadata": {
    "colab_type": "text",
    "id": "7-KS81rUYKCY"
   },
   "source": [
    "Напишите функцию `forward_pass(X, w)` ($w_0$ входит в $w$) для одного нейрона (с сигмоидой) с помощью PyTorch (у вас уже должен быть код на NumPy)."
   ]
  },
  {
   "cell_type": "code",
   "execution_count": 107,
   "metadata": {},
   "outputs": [],
   "source": [
    "def sigmoid(x):\n",
    "    \"\"\"Сигмоидальная функция\"\"\"\n",
    "    return 1 / (1 + np.exp(-x))"
   ]
  },
  {
   "cell_type": "code",
   "execution_count": 108,
   "metadata": {
    "colab": {},
    "colab_type": "code",
    "id": "vkaIwpn6YKCY"
   },
   "outputs": [],
   "source": [
    "def forward_pass(X, w):\n",
    "    n = X.shape[0]\n",
    "    y_pred = torch.FloatTensor(n, 1)\n",
    "    y_pred = sigmoid(X.mm(w).view(-1,1))\n",
    "    return(y_pred)"
   ]
  },
  {
   "cell_type": "code",
   "execution_count": 109,
   "metadata": {
    "colab": {},
    "colab_type": "code",
    "id": "VyqlDItxYKCZ",
    "outputId": "87ae60cb-715b-456e-b92e-992ea55db795"
   },
   "outputs": [
    {
     "name": "stdout",
     "output_type": "stream",
     "text": [
      "result: tensor([[1.0000],\n",
      "        [0.9985],\n",
      "        [0.0474]])\n"
     ]
    }
   ],
   "source": [
    "X = torch.FloatTensor([[-5, 5], [2, 3], [1, -1]])\n",
    "w = torch.FloatTensor([[-0.5], [2.5]])\n",
    "result = forward_pass(X, w)\n",
    "print('result: {}'.format(result))"
   ]
  },
  {
   "cell_type": "markdown",
   "metadata": {
    "colab_type": "text",
    "id": "uT9rDk5RYKCa"
   },
   "source": [
    "Должно получиться: \n",
    "\n",
    "|variable|value|\n",
    "|-|-|\n",
    "|**X**|torch.FloatTensor([[-5, 5], [15, 20], [100, -700]])|\n",
    "|**w**|torch.FloatTensor([[-0.5], [150]])|\n",
    "|**result**|torch.FloatTensor([[1.0000], [0.9985], [0.0474]])|   "
   ]
  },
  {
   "cell_type": "markdown",
   "metadata": {
    "colab_type": "text",
    "id": "MzLVLQ2GYKCa"
   },
   "source": [
    "<h3 style=\"text-align: center;\">[CUDA](https://ru.wikipedia.org/wiki/CUDA)<b></b></h3>"
   ]
  },
  {
   "cell_type": "markdown",
   "metadata": {
    "colab_type": "text",
    "id": "PrIicAAiYKCa"
   },
   "source": [
    "[Краткое видео про то, как GPU используется в обучении нейросетей](https://www.youtube.com/watch?v=EobhK0UZm80)"
   ]
  },
  {
   "cell_type": "markdown",
   "metadata": {
    "colab_type": "text",
    "id": "2nDkAG6NYKCa"
   },
   "source": [
    "Все вычисления в PyTorch можно проводить как на CPU, так и на GPU (Graphical Processing Unit) (если она у вас есть). В PyTorch переключение между ними делается очень просто, что является одной из ключевых его особенностей."
   ]
  },
  {
   "cell_type": "code",
   "execution_count": 110,
   "metadata": {
    "colab": {},
    "colab_type": "code",
    "id": "_0Nsl2IoYKCa",
    "outputId": "93510974-05a5-4a77-fe33-25208cca12cf"
   },
   "outputs": [
    {
     "data": {
      "text/plain": [
       "tensor([[0.4230, 0.4093, 0.6542,  ..., 0.7091, 0.5403, 0.7385],\n",
       "        [0.8526, 0.0909, 0.3441,  ..., 0.1869, 0.2340, 0.0576],\n",
       "        [0.2086, 0.0607, 0.9921,  ..., 0.8893, 0.9689, 0.1569],\n",
       "        ...,\n",
       "        [0.7695, 0.2648, 0.7162,  ..., 0.7105, 0.8771, 0.6484],\n",
       "        [0.0426, 0.7683, 0.1250,  ..., 0.9431, 0.1050, 0.1511],\n",
       "        [0.1540, 0.3111, 0.7384,  ..., 0.2454, 0.6582, 0.5785]])"
      ]
     },
     "execution_count": 110,
     "metadata": {},
     "output_type": "execute_result"
    }
   ],
   "source": [
    "x = torch.FloatTensor(1024, 1024).uniform_()\n",
    "x"
   ]
  },
  {
   "cell_type": "code",
   "execution_count": 111,
   "metadata": {
    "colab": {},
    "colab_type": "code",
    "id": "FVr5_SAdYKCb",
    "outputId": "e4f3d375-f02f-402a-a5c5-912ead39ca76"
   },
   "outputs": [
    {
     "data": {
      "text/plain": [
       "False"
      ]
     },
     "execution_count": 111,
     "metadata": {},
     "output_type": "execute_result"
    }
   ],
   "source": [
    "x.is_cuda"
   ]
  },
  {
   "cell_type": "markdown",
   "metadata": {
    "colab_type": "text",
    "id": "mAy8GGXAYKCd"
   },
   "source": [
    "Переместим на GPU:"
   ]
  },
  {
   "cell_type": "code",
   "execution_count": 112,
   "metadata": {
    "colab": {},
    "colab_type": "code",
    "id": "6UGKZbfyYKCd"
   },
   "outputs": [],
   "source": [
    "x = x.cuda()"
   ]
  },
  {
   "cell_type": "code",
   "execution_count": 115,
   "metadata": {
    "colab": {},
    "colab_type": "code",
    "id": "ue2SLd9nYKCd",
    "outputId": "50a73229-ba39-45b2-f4b1-19f790a20643"
   },
   "outputs": [
    {
     "data": {
      "text/plain": [
       "True"
      ]
     },
     "execution_count": 115,
     "metadata": {},
     "output_type": "execute_result"
    }
   ],
   "source": [
    "x.is_cuda"
   ]
  },
  {
   "cell_type": "code",
   "execution_count": 116,
   "metadata": {
    "colab": {},
    "colab_type": "code",
    "id": "dqs1JNv3YKCe",
    "outputId": "53a4b10e-bc54-4fc6-cce8-f07723a29a40"
   },
   "outputs": [
    {
     "data": {
      "text/plain": [
       "tensor([[0.4230, 0.4093, 0.6542,  ..., 0.7091, 0.5403, 0.7385],\n",
       "        [0.8526, 0.0909, 0.3441,  ..., 0.1869, 0.2340, 0.0576],\n",
       "        [0.2086, 0.0607, 0.9921,  ..., 0.8893, 0.9689, 0.1569],\n",
       "        ...,\n",
       "        [0.7695, 0.2648, 0.7162,  ..., 0.7105, 0.8771, 0.6484],\n",
       "        [0.0426, 0.7683, 0.1250,  ..., 0.9431, 0.1050, 0.1511],\n",
       "        [0.1540, 0.3111, 0.7384,  ..., 0.2454, 0.6582, 0.5785]],\n",
       "       device='cuda:0')"
      ]
     },
     "execution_count": 116,
     "metadata": {},
     "output_type": "execute_result"
    }
   ],
   "source": [
    "x"
   ]
  },
  {
   "cell_type": "markdown",
   "metadata": {
    "colab_type": "text",
    "id": "dI73B59PYKCg"
   },
   "source": [
    "Перемножим две тензора на GPu и вернём результат вычисления на CPU:"
   ]
  },
  {
   "cell_type": "code",
   "execution_count": 117,
   "metadata": {
    "colab": {},
    "colab_type": "code",
    "id": "KS4QxJJoYKCg"
   },
   "outputs": [],
   "source": [
    "a = torch.FloatTensor(10000, 10000).uniform_()\n",
    "b = torch.FloatTensor(10000, 10000).uniform_()\n",
    "c = a.cuda().mul(b.cuda()).cpu()"
   ]
  },
  {
   "cell_type": "code",
   "execution_count": 118,
   "metadata": {
    "colab": {},
    "colab_type": "code",
    "id": "1ImlgEbwYKCg",
    "outputId": "3d114438-ea49-4b20-f02e-e7e187be4e5b"
   },
   "outputs": [
    {
     "data": {
      "text/plain": [
       "tensor([[0.5148, 0.4447, 0.1388,  ..., 0.4346, 0.0377, 0.2424],\n",
       "        [0.2516, 0.1703, 0.0247,  ..., 0.0187, 0.4402, 0.0126],\n",
       "        [0.5699, 0.5254, 0.2331,  ..., 0.2444, 0.1085, 0.0165],\n",
       "        ...,\n",
       "        [0.0143, 0.1268, 0.2105,  ..., 0.1687, 0.1774, 0.0398],\n",
       "        [0.5336, 0.6748, 0.2809,  ..., 0.1018, 0.2622, 0.7407],\n",
       "        [0.0549, 0.1738, 0.3901,  ..., 0.4950, 0.4861, 0.4821]])"
      ]
     },
     "execution_count": 118,
     "metadata": {},
     "output_type": "execute_result"
    }
   ],
   "source": [
    "c"
   ]
  },
  {
   "cell_type": "code",
   "execution_count": 119,
   "metadata": {
    "colab": {},
    "colab_type": "code",
    "id": "4DAN9MhDYKCh",
    "outputId": "2ee2c90b-07e4-46c6-d7fe-e34b589e8ea1"
   },
   "outputs": [
    {
     "data": {
      "text/plain": [
       "tensor([[0.8609, 0.5007, 0.7149,  ..., 0.8162, 0.4706, 0.8043],\n",
       "        [0.3785, 0.3317, 0.0312,  ..., 0.5537, 0.6043, 0.0300],\n",
       "        [0.7362, 0.9857, 0.3071,  ..., 0.9041, 0.2431, 0.0849],\n",
       "        ...,\n",
       "        [0.1508, 0.5319, 0.7457,  ..., 0.8752, 0.5593, 0.4286],\n",
       "        [0.7425, 0.6781, 0.3367,  ..., 0.3008, 0.7062, 0.8175],\n",
       "        [0.2489, 0.3515, 0.7246,  ..., 0.9771, 0.5912, 0.5755]])"
      ]
     },
     "execution_count": 119,
     "metadata": {},
     "output_type": "execute_result"
    }
   ],
   "source": [
    "a"
   ]
  },
  {
   "cell_type": "markdown",
   "metadata": {
    "colab_type": "text",
    "id": "xWc-PiA9YKCi"
   },
   "source": [
    "Тензоры, лежащие на CPU, и тензоры, лежащие на GPU, недоступны друг для друга:"
   ]
  },
  {
   "cell_type": "code",
   "execution_count": 120,
   "metadata": {
    "colab": {},
    "colab_type": "code",
    "id": "1lwV1sgSYKCi"
   },
   "outputs": [],
   "source": [
    "a = torch.FloatTensor(1000, 1000).uniform_().cpu()\n",
    "b = torch.FloatTensor(10000, 10000).uniform_().cuda()"
   ]
  },
  {
   "cell_type": "code",
   "execution_count": 122,
   "metadata": {
    "colab": {},
    "colab_type": "code",
    "id": "G6tYdYtTYKCj",
    "outputId": "402a280c-4907-49df-92f4-3a5818f72478"
   },
   "outputs": [
    {
     "ename": "RuntimeError",
     "evalue": "The size of tensor a (1000) must match the size of tensor b (10000) at non-singleton dimension 1",
     "output_type": "error",
     "traceback": [
      "\u001b[1;31m---------------------------------------------------------------------------\u001b[0m",
      "\u001b[1;31mRuntimeError\u001b[0m                              Traceback (most recent call last)",
      "\u001b[1;32m<ipython-input-122-bd58363a63fc>\u001b[0m in \u001b[0;36m<module>\u001b[1;34m\u001b[0m\n\u001b[1;32m----> 1\u001b[1;33m \u001b[0ma\u001b[0m \u001b[1;33m+\u001b[0m \u001b[0mb\u001b[0m\u001b[1;33m\u001b[0m\u001b[1;33m\u001b[0m\u001b[0m\n\u001b[0m",
      "\u001b[1;31mRuntimeError\u001b[0m: The size of tensor a (1000) must match the size of tensor b (10000) at non-singleton dimension 1"
     ]
    }
   ],
   "source": [
    "a + b"
   ]
  },
  {
   "cell_type": "markdown",
   "metadata": {
    "colab_type": "text",
    "id": "QEtwaIxDYKCk"
   },
   "source": [
    "Вот ещё немного про то, как можно работать с GPU:"
   ]
  },
  {
   "cell_type": "code",
   "execution_count": 123,
   "metadata": {
    "colab": {},
    "colab_type": "code",
    "id": "bJgVfAbUYKCk",
    "outputId": "3d761ebc-89fc-4e2b-9a3f-54bb74d11ebe",
    "scrolled": true
   },
   "outputs": [
    {
     "name": "stdout",
     "output_type": "stream",
     "text": [
      "tensor([[[1.1020, 1.8027, 1.4691, 1.1379, 1.3685],\n",
      "         [1.9229, 1.5786, 1.5201, 1.4998, 1.8765],\n",
      "         [1.4105, 1.2625, 1.5878, 1.7371, 1.0591],\n",
      "         [1.0250, 1.8006, 1.3534, 1.9004, 1.9459],\n",
      "         [1.1526, 1.1041, 1.0736, 1.1295, 1.4468]],\n",
      "\n",
      "        [[1.3404, 1.7523, 1.7097, 1.7593, 1.5476],\n",
      "         [1.1858, 1.2420, 1.8676, 1.7241, 1.0772],\n",
      "         [1.4103, 1.6413, 1.5582, 1.4314, 1.2843],\n",
      "         [1.8597, 1.3757, 1.9740, 1.7536, 1.2312],\n",
      "         [1.5146, 1.4772, 1.6656, 1.2667, 1.9044]],\n",
      "\n",
      "        [[1.8459, 1.5266, 1.1187, 1.4409, 1.5193],\n",
      "         [1.9581, 1.7183, 1.6239, 1.0969, 1.2514],\n",
      "         [1.4570, 1.8244, 1.0401, 1.0842, 1.0928],\n",
      "         [1.3497, 1.3674, 1.1885, 1.4647, 1.3512],\n",
      "         [1.7557, 1.9227, 1.3935, 1.6641, 1.1584]],\n",
      "\n",
      "        [[1.2204, 1.9905, 1.2238, 1.6677, 1.2361],\n",
      "         [1.6844, 1.6748, 1.2868, 1.7353, 1.6190],\n",
      "         [1.5979, 1.6048, 1.3799, 1.0348, 1.6583],\n",
      "         [1.1995, 1.9720, 1.2470, 1.0917, 1.1947],\n",
      "         [1.6680, 1.5499, 1.6730, 1.0003, 1.2247]],\n",
      "\n",
      "        [[1.0008, 1.8075, 1.4343, 1.6840, 1.8797],\n",
      "         [1.6864, 1.1103, 1.5713, 1.8626, 1.6097],\n",
      "         [1.4372, 1.7702, 1.1086, 1.0670, 1.9767],\n",
      "         [1.3599, 1.9923, 1.4041, 1.4096, 1.1821],\n",
      "         [1.1519, 1.3021, 1.6033, 1.3153, 1.5431]]], device='cuda:0')\n",
      "tensor([[[1.1020, 1.8027, 1.4691, 1.1379, 1.3685],\n",
      "         [1.9229, 1.5786, 1.5201, 1.4998, 1.8765],\n",
      "         [1.4105, 1.2625, 1.5878, 1.7371, 1.0591],\n",
      "         [1.0250, 1.8006, 1.3534, 1.9004, 1.9459],\n",
      "         [1.1526, 1.1041, 1.0736, 1.1295, 1.4468]],\n",
      "\n",
      "        [[1.3404, 1.7523, 1.7097, 1.7593, 1.5476],\n",
      "         [1.1858, 1.2420, 1.8676, 1.7241, 1.0772],\n",
      "         [1.4103, 1.6413, 1.5582, 1.4314, 1.2843],\n",
      "         [1.8597, 1.3757, 1.9740, 1.7536, 1.2312],\n",
      "         [1.5146, 1.4772, 1.6656, 1.2667, 1.9044]],\n",
      "\n",
      "        [[1.8459, 1.5266, 1.1187, 1.4409, 1.5193],\n",
      "         [1.9581, 1.7183, 1.6239, 1.0969, 1.2514],\n",
      "         [1.4570, 1.8244, 1.0401, 1.0842, 1.0928],\n",
      "         [1.3497, 1.3674, 1.1885, 1.4647, 1.3512],\n",
      "         [1.7557, 1.9227, 1.3935, 1.6641, 1.1584]],\n",
      "\n",
      "        [[1.2204, 1.9905, 1.2238, 1.6677, 1.2361],\n",
      "         [1.6844, 1.6748, 1.2868, 1.7353, 1.6190],\n",
      "         [1.5979, 1.6048, 1.3799, 1.0348, 1.6583],\n",
      "         [1.1995, 1.9720, 1.2470, 1.0917, 1.1947],\n",
      "         [1.6680, 1.5499, 1.6730, 1.0003, 1.2247]],\n",
      "\n",
      "        [[1.0008, 1.8075, 1.4343, 1.6840, 1.8797],\n",
      "         [1.6864, 1.1103, 1.5713, 1.8626, 1.6097],\n",
      "         [1.4372, 1.7702, 1.1086, 1.0670, 1.9767],\n",
      "         [1.3599, 1.9923, 1.4041, 1.4096, 1.1821],\n",
      "         [1.1519, 1.3021, 1.6033, 1.3153, 1.5431]]], dtype=torch.float64)\n"
     ]
    }
   ],
   "source": [
    "x = torch.FloatTensor(5, 5, 5).uniform_()\n",
    "\n",
    "# проверяем, есть ли CUDA (то есть NVidia GPU)\n",
    "if torch.cuda.is_available():\n",
    "    # так можно получить имя устройства, которое связано с CUDA\n",
    "    # (полезно в случае с несколькими видеокартами)\n",
    "    device = torch.device('cuda')          # CUDA-device объект\n",
    "    y = torch.ones_like(x, device=device)  # создаём тензор на GPU\n",
    "    x = x.to(device)                       # тут можно просто ``.to(\"cuda\")``\n",
    "    z = x + y\n",
    "    print(z)\n",
    "    # с помощью``.to`` можно и изменить тип при перемещении\n",
    "    print(z.to(\"cpu\", torch.double))"
   ]
  },
  {
   "cell_type": "markdown",
   "metadata": {
    "colab_type": "text",
    "id": "iFg82MJIYKCl"
   },
   "source": [
    "<h3 style=\"text-align: center;\">Autograd<b></b></h3>"
   ]
  },
  {
   "cell_type": "markdown",
   "metadata": {
    "colab_type": "text",
    "id": "udpOWYK-YKCm"
   },
   "source": [
    "Расшифровывается как Automatic Gradients (автоматическое взятие градиентов) - собственно, из названия понятно, что это модуль PyTorch, отвечающий за взятие производных.  \n",
    "\n",
    "Возможно, для вас это бдет шок, но PyTorch (и любой фреймворк глубокого обучения) может продифференцировать функцию практически любой сложности."
   ]
  },
  {
   "cell_type": "markdown",
   "metadata": {
    "colab_type": "text",
    "id": "OAfNuSknYKCm"
   },
   "source": [
    "Импортируем нужный класс:"
   ]
  },
  {
   "cell_type": "code",
   "execution_count": 140,
   "metadata": {
    "colab": {},
    "colab_type": "code",
    "id": "PJdDG51vYKCm"
   },
   "outputs": [],
   "source": [
    "from torch.autograd import Variable"
   ]
  },
  {
   "cell_type": "markdown",
   "metadata": {
    "colab_type": "text",
    "id": "dZzZFE-0YKCm"
   },
   "source": [
    "Идея такая: оборачиваем тензор в класс Variable(), получаем тоже тензор, но он имеет способность вычислять себе градиенты.  "
   ]
  },
  {
   "cell_type": "markdown",
   "metadata": {
    "colab_type": "text",
    "id": "VzMGFf1xYKCm"
   },
   "source": [
    "Если а - тензор, обёрнутый в Variable(), то при вызове a.backward() берутся градиенты по всем переменным, от которых зависит тензор a."
   ]
  },
  {
   "cell_type": "markdown",
   "metadata": {
    "colab_type": "text",
    "id": "bTVyleFWYKCn"
   },
   "source": [
    "**ВНИМАНИЕ!**  \n",
    "\n",
    "Если вы используете версию `pytorch 0.4.0` или более новую, то ***`torch.Tensor` и `torch.Variable` - одно и то же!*** То есть Вам больше не нужно оборачивать в `Variable()`, чтобы брать градиенты - они берутся и по `Tensor()` (`torch.Variable()` - deprecated)."
   ]
  },
  {
   "cell_type": "markdown",
   "metadata": {
    "colab_type": "text",
    "id": "AEDz971fYKCn"
   },
   "source": [
    "Примеры:"
   ]
  },
  {
   "cell_type": "code",
   "execution_count": 141,
   "metadata": {
    "colab": {},
    "colab_type": "code",
    "id": "rYWqXsAjYKCn"
   },
   "outputs": [],
   "source": [
    "x = torch.FloatTensor(3, 1).uniform_()\n",
    "w = torch.FloatTensor(3, 3).uniform_() \n",
    "b = torch.FloatTensor(3, 1).uniform_()\n",
    "\n",
    "x = Variable(x, requires_grad=True)\n",
    "w = Variable(w, requires_grad=True)\n",
    "b = Variable(b, requires_grad=False)\n",
    "\n",
    "y = (w @ x).add_(b)\n",
    "\n",
    "loss = y.sum()\n",
    "\n",
    "# берём градиенты по всем \"листьям\" - в данном случае это тензоры x, w и b\n",
    "loss.backward()"
   ]
  },
  {
   "cell_type": "code",
   "execution_count": 142,
   "metadata": {
    "colab": {},
    "colab_type": "code",
    "id": "ZsePHOo0YKCp",
    "outputId": "652875bc-e5bd-4a73-abc5-7760e49810b1"
   },
   "outputs": [
    {
     "data": {
      "text/plain": [
       "tensor([[2.1250],\n",
       "        [2.2211],\n",
       "        [1.5210]])"
      ]
     },
     "execution_count": 142,
     "metadata": {},
     "output_type": "execute_result"
    }
   ],
   "source": [
    "x.grad"
   ]
  },
  {
   "cell_type": "code",
   "execution_count": 143,
   "metadata": {
    "colab": {},
    "colab_type": "code",
    "id": "qLkn5C7JYKCp",
    "outputId": "3bfd1927-4962-45ac-c8d3-053b1ebae784"
   },
   "outputs": [
    {
     "data": {
      "text/plain": [
       "tensor([[0.9414, 0.0176, 0.4850],\n",
       "        [0.9414, 0.0176, 0.4850],\n",
       "        [0.9414, 0.0176, 0.4850]])"
      ]
     },
     "execution_count": 143,
     "metadata": {},
     "output_type": "execute_result"
    }
   ],
   "source": [
    "w.grad"
   ]
  },
  {
   "cell_type": "code",
   "execution_count": 144,
   "metadata": {
    "colab": {},
    "colab_type": "code",
    "id": "CYkrFbD5YKCq"
   },
   "outputs": [],
   "source": [
    "b.grad"
   ]
  },
  {
   "cell_type": "code",
   "execution_count": 145,
   "metadata": {
    "colab": {},
    "colab_type": "code",
    "id": "ouMNnbtXYKCr"
   },
   "outputs": [],
   "source": [
    "y.grad"
   ]
  },
  {
   "cell_type": "markdown",
   "metadata": {
    "colab_type": "text",
    "id": "DIsqxWIvYKCs"
   },
   "source": [
    "**Обратите внимание** - градиенты лежат в поле `.grad` у тех тензоров (Variable'ов), по которым брали эти градиенты. Градиенты **не лежат** в той Variable, от котороый они брались!"
   ]
  },
  {
   "cell_type": "markdown",
   "metadata": {
    "colab_type": "text",
    "id": "Nf2xLNDgYKCs"
   },
   "source": [
    "Получить тензор из `Variable()` можно с помощью поля `.data`:"
   ]
  },
  {
   "cell_type": "code",
   "execution_count": 146,
   "metadata": {
    "colab": {},
    "colab_type": "code",
    "id": "5wU_TFedYKCt",
    "outputId": "9b98a122-a26b-4f09-b3c6-933e550682a4"
   },
   "outputs": [
    {
     "data": {
      "text/plain": [
       "tensor([[0.9414],\n",
       "        [0.0176],\n",
       "        [0.4850]], requires_grad=True)"
      ]
     },
     "execution_count": 146,
     "metadata": {},
     "output_type": "execute_result"
    }
   ],
   "source": [
    "x"
   ]
  },
  {
   "cell_type": "code",
   "execution_count": 147,
   "metadata": {
    "colab": {},
    "colab_type": "code",
    "id": "_NnBKF9kYKCt",
    "outputId": "f9e34f9d-6442-4a50-cbc4-7ac52a8a026b"
   },
   "outputs": [
    {
     "data": {
      "text/plain": [
       "tensor([[0.9414],\n",
       "        [0.0176],\n",
       "        [0.4850]])"
      ]
     },
     "execution_count": 147,
     "metadata": {},
     "output_type": "execute_result"
    }
   ],
   "source": [
    "x.data"
   ]
  },
  {
   "cell_type": "markdown",
   "metadata": {
    "colab_type": "text",
    "id": "oQnhq5ZdYKCu"
   },
   "source": [
    "### Задача 5"
   ]
  },
  {
   "cell_type": "markdown",
   "metadata": {
    "colab_type": "text",
    "id": "UB95BhgTYKCu"
   },
   "source": [
    "- Объявите тензор `a` размера (2, 3, 4) и тензор `b` размера (1, 8, 3), иницилизируйте их случайно равномерно (`.uniform_()`, как в примере выше)\n",
    "- Создайте их копии на GPU, выведите их сумму и разность\n",
    "- Затем измените форму тензора `b`, чтобы она совпадала с формой тензора `a`, получите тензор `c`  \n",
    "- Переместите `c` на CPU, переместите `a` на CPU  \n",
    "- Оберните их в `Variable()`\n",
    "- Объявите тензор `L = torch.mean((c - a) `**` 2)` и посчитайте градиент `L` по `c` ( то есть $\\frac{\\partial{L}}{\\partial{c}})$\n",
    "- Получите тензор из `c` (то есть сейчас `c` - объект типа `Variable()`, вам нужно получить из него `FloatTensor()`)"
   ]
  },
  {
   "cell_type": "code",
   "execution_count": 14,
   "metadata": {
    "colab": {},
    "colab_type": "code",
    "id": "WESOm5TCYKCv"
   },
   "outputs": [
    {
     "name": "stdout",
     "output_type": "stream",
     "text": [
      "A:tensor([[[0.6510, 0.3127, 0.8571, 0.9410],\n",
      "         [0.1830, 0.6180, 0.0317, 0.3616],\n",
      "         [0.2873, 0.4691, 0.4750, 0.6957]],\n",
      "\n",
      "        [[0.7929, 0.7905, 0.7799, 0.4884],\n",
      "         [0.6295, 0.2740, 0.9761, 0.4105],\n",
      "         [0.0260, 0.5226, 0.8031, 0.8702]]])\n",
      "B:tensor([[[0.1208, 0.6384, 0.8591],\n",
      "         [0.4767, 0.9610, 0.1262],\n",
      "         [0.9367, 0.9183, 0.8538],\n",
      "         [0.6971, 0.1358, 0.9308],\n",
      "         [0.4036, 0.3156, 0.1632],\n",
      "         [0.4267, 0.2726, 0.4272],\n",
      "         [0.6717, 0.9652, 0.2184],\n",
      "         [0.0807, 0.1066, 0.6171]]])\n",
      "C:tensor([[[0.1208, 0.6384, 0.8591, 0.4767],\n",
      "         [0.9610, 0.1262, 0.9367, 0.9183],\n",
      "         [0.8538, 0.6971, 0.1358, 0.9308]],\n",
      "\n",
      "        [[0.4036, 0.3156, 0.1632, 0.4267],\n",
      "         [0.2726, 0.4272, 0.6717, 0.9652],\n",
      "         [0.2184, 0.0807, 0.1066, 0.6171]]])\n",
      "A+C:tensor([[[0.7718, 0.9511, 1.7163, 1.4177],\n",
      "         [1.1441, 0.7442, 0.9683, 1.2799],\n",
      "         [1.1411, 1.1661, 0.6109, 1.6265]],\n",
      "\n",
      "        [[1.1965, 1.1062, 0.9430, 0.9151],\n",
      "         [0.9021, 0.7012, 1.6478, 1.3757],\n",
      "         [0.2444, 0.6032, 0.9097, 1.4873]]])\n",
      "A-C:tensor([[[ 0.5302, -0.3256, -0.0020,  0.4644],\n",
      "         [-0.7780,  0.4917, -0.9050, -0.5568],\n",
      "         [-0.5665, -0.2280,  0.3392, -0.2351]],\n",
      "\n",
      "        [[ 0.3894,  0.4749,  0.6167,  0.0617],\n",
      "         [ 0.3569, -0.1531,  0.3044, -0.5547],\n",
      "         [-0.1925,  0.4419,  0.6965,  0.2530]]])\n",
      "L:0.2173359990119934\n"
     ]
    }
   ],
   "source": [
    "a = torch.FloatTensor(2, 3, 4).uniform_().cpu()\n",
    "b = torch.FloatTensor(1, 8, 3).uniform_().cpu()\n",
    "\n",
    "a1 = a.cuda()\n",
    "b1 = b.cuda()\n",
    "\n",
    "print(f'A:{a}')\n",
    "print(f'B:{b}')\n",
    "\n",
    "c = b1.view(2, 3, 4).cpu()\n",
    "print(f'C:{c}')\n",
    "\n",
    "print(f'A+C:{a.add(c)}')\n",
    "print(f'A-C:{a.sub(c)}')\n",
    "\n",
    "\n",
    "\n",
    "L = torch.mean((c - a)**2)\n",
    "print(f'L:{L}')\n"
   ]
  },
  {
   "cell_type": "markdown",
   "metadata": {
    "colab_type": "text",
    "id": "J094WEHQYKCv"
   },
   "source": [
    "<h3 style=\"text-align: center;\">Полезные ссылки:<b></b></h3>"
   ]
  },
  {
   "cell_type": "markdown",
   "metadata": {
    "colab_type": "text",
    "id": "l1gNHZwOYKCv"
   },
   "source": [
    "*1). Мегаполезная статья по PyTorch (на русском), на её основе делался этот ноутбук: https://habr.com/post/334380/*"
   ]
  },
  {
   "cell_type": "markdown",
   "metadata": {
    "colab_type": "text",
    "id": "ftVUTfvUYKCv"
   },
   "source": [
    "*2). Туториалы от самих разработчиков фреймворка: https://pytorch.org/tutorials/beginner/blitz/tensor_tutorial.html#sphx-glr-beginner-blitz-tensor-tutorial-py*"
   ]
  },
  {
   "cell_type": "markdown",
   "metadata": {
    "colab_type": "text",
    "id": "ovymy5F6YKCw"
   },
   "source": [
    "*3). Статья на arXiv о сравнении фреймворков глубокого обучения: https://arxiv.org/pdf/1511.06435.pdf*"
   ]
  },
  {
   "cell_type": "markdown",
   "metadata": {
    "colab_type": "text",
    "id": "VXEEowQAYKCx"
   },
   "source": [
    "4). *Ещё туториалы: https://github.com/yunjey/pytorch-tutorial*"
   ]
  },
  {
   "cell_type": "markdown",
   "metadata": {
    "colab_type": "text",
    "id": "9cROZcrYYKC0"
   },
   "source": [
    "*5). Сайт Facebook AI Research - отдела, который разрабатывает PyTorch и другие крутые вещи в AI: https://facebook.ai/developers/tools*"
   ]
  }
 ],
 "metadata": {
  "colab": {
   "collapsed_sections": [],
   "name": "[seminar]pytorch_basics.ipynb",
   "provenance": [],
   "version": "0.3.2"
  },
  "kernelspec": {
   "display_name": "Python 3",
   "language": "python",
   "name": "python3"
  },
  "language_info": {
   "codemirror_mode": {
    "name": "ipython",
    "version": 3
   },
   "file_extension": ".py",
   "mimetype": "text/x-python",
   "name": "python",
   "nbconvert_exporter": "python",
   "pygments_lexer": "ipython3",
   "version": "3.7.3"
  }
 },
 "nbformat": 4,
 "nbformat_minor": 1
}
