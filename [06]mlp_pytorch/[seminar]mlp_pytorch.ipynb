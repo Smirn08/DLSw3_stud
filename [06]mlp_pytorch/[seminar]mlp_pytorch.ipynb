{
 "cells": [
  {
   "cell_type": "markdown",
   "metadata": {
    "colab_type": "text",
    "id": "aaSoSTVpYJcu"
   },
   "source": [
    "<img src=\"https://s8.hostingkartinok.com/uploads/images/2018/08/308b49fcfbc619d629fe4604bceb67ac.jpg\" width=500,>\n",
    "<h3 style=\"text-align: center;\"><b>Физтех-Школа Прикладной математики и информатики (ФПМИ) МФТИ</b></h3>"
   ]
  },
  {
   "cell_type": "markdown",
   "metadata": {
    "colab_type": "text",
    "id": "GpZt9IYkYJcw"
   },
   "source": [
    "---"
   ]
  },
  {
   "cell_type": "markdown",
   "metadata": {
    "colab_type": "text",
    "id": "s4wplUzDYJcx"
   },
   "source": [
    "<h2 style=\"text-align: center;\"><b>Многослойная сеть на PyTorch</b></h3>"
   ]
  },
  {
   "cell_type": "markdown",
   "metadata": {
    "colab_type": "text",
    "id": "J2msuyHTYJcx"
   },
   "source": [
    "В этом ноутбке мы научимся писать свои нейросети на фреймворке PyTorch, конкретно - рассмотрим, как написать многослойную полносвязную сеть (Fully-Connected, FC), и сравним их качество на датасете картинок MNIST."
   ]
  },
  {
   "cell_type": "markdown",
   "metadata": {
    "colab_type": "text",
    "id": "9xJnMEZrYJcz"
   },
   "source": [
    "<h3 style=\"text-align: center;\"><b>Компоненты нейросети</b></h3>"
   ]
  },
  {
   "cell_type": "markdown",
   "metadata": {
    "colab_type": "text",
    "id": "InwacmvIYJc0"
   },
   "source": [
    "Здесь самое время напомнить о том, какие вещи играют принципиальную роль в построении любой ***нейронной сети*** (все их мы задаём *руками*, самостоятельно):  \n",
    "\n",
    "- непосредственно, сама **архитектура** нейросети (сюда входят типы функций активации у каждого нейрона);\n",
    "- начальная **инициализация** весов каждого слоя;\n",
    "- метод **оптимизации** нейросети (сюда ещё входит метод изменения `learning_rate`);\n",
    "- размер **батчей** (`batch_size`);\n",
    "- количество итераций обучения (`num_epochs`);\n",
    "- **функция потерь** (`loss`);  \n",
    "- тип **регуляризации** нейросети (для каждого слоя можно свой);  \n",
    "\n",
    "То, что связано с ***данными и задачей***:  \n",
    "- само **качество** выборки (непротиворечивость, чистота, корректность постановки задачи);  \n",
    "- **размер** выборки;  "
   ]
  },
  {
   "cell_type": "markdown",
   "metadata": {
    "colab_type": "text",
    "id": "tXujEOB0YJc1"
   },
   "source": [
    "<h3 style=\"text-align: center;\"><b>Многослойная нейронная сеть</b></h3>"
   ]
  },
  {
   "cell_type": "markdown",
   "metadata": {
    "colab_type": "text",
    "id": "mnxH-DajYJc3"
   },
   "source": [
    "Как можно понять из названия, многослойная нейросеть состоит из нескольких **слоёв**. Каждый слой состоит из **нейронов**. Ранее мы уже писали свой нейрон на NumPy, вот из таких нейронов и состоит ***MLP (Multi-Layer Perceptron)***. Ещё такую многослойную нейросеть, у которой каждый нейрон на предыдущем уровне соединён с нейроном на следующем уровне, называют ***Fully-Connected-сетью*** (или ***Dense-сетью***).  \n",
    "\n",
    "Расмотрим их устройство более подробно:"
   ]
  },
  {
   "cell_type": "markdown",
   "metadata": {
    "colab_type": "text",
    "id": "onjJUneMYJc5"
   },
   "source": [
    "* Вот так выглядит двухслойная нейросеть (первый слой - input layer - не считается, потому что это, по сути, не слой):"
   ]
  },
  {
   "cell_type": "markdown",
   "metadata": {
    "colab_type": "text",
    "id": "owRRulLzYJc6"
   },
   "source": [
    "<img src=\"http://cs231n.github.io/assets/nn1/neural_net.jpeg\" width=300, height=200>"
   ]
  },
  {
   "cell_type": "markdown",
   "metadata": {
    "colab_type": "text",
    "id": "tFNxGGBEYJc8"
   },
   "source": [
    "* Так выглядит трёхслойная нейросеть:"
   ]
  },
  {
   "cell_type": "markdown",
   "metadata": {
    "colab_type": "text",
    "id": "zRaKX35eYJc9"
   },
   "source": [
    "<img src=\"http://cs231n.github.io/assets/nn1/neural_net2.jpeg\" width=400>"
   ]
  },
  {
   "cell_type": "markdown",
   "metadata": {
    "colab_type": "text",
    "id": "6w1FTkO1YJc-"
   },
   "source": [
    ".. и так далее для большего случая слоёв."
   ]
  },
  {
   "cell_type": "markdown",
   "metadata": {
    "colab_type": "text",
    "id": "8iKV7m5YYJc_"
   },
   "source": [
    "**Обратите внимание:** связи есть у нейронов со слоя $L_{i-1}$  и нейронов $L_{i}$, но между нейронами в одном слое связей **нет**."
   ]
  },
  {
   "cell_type": "markdown",
   "metadata": {
    "colab_type": "text",
    "id": "URV9qWkfYJdA"
   },
   "source": [
    "**Входной слой** -- это данные (матрица $(n, m)$)."
   ]
  },
  {
   "cell_type": "markdown",
   "metadata": {
    "colab_type": "text",
    "id": "zK8tWuHHYJdB"
   },
   "source": [
    "Слои, которые не являются входными или выходными, называются **скрытыми слоями (hidden layers)**."
   ]
  },
  {
   "cell_type": "markdown",
   "metadata": {
    "colab_type": "text",
    "id": "fz9clUlCYJdC"
   },
   "source": [
    "При решении ***задачи регрессии*** на **выходном слое** обычно один нейрон, который возвращает предсказанные числа (для каждого объекта по числу).  \n",
    "\n",
    "В случае ***задачи классификации*** на **выходном слое** обычно один нейрон, если задача бинарной классификации, и $K$ нейронов, если задача $K$-класовой классификации."
   ]
  },
  {
   "cell_type": "markdown",
   "metadata": {
    "colab_type": "text",
    "id": "nJblXqY5YJdE"
   },
   "source": [
    "#### Forward pass в MLP"
   ]
  },
  {
   "cell_type": "markdown",
   "metadata": {
    "colab_type": "text",
    "id": "D87xoAl8YJdF"
   },
   "source": [
    "Каждый слой многослойной нейросети - это матрица весов, строки которой - это нейроны (одна строка - один нейрон), а столбцы - веса каждого нейрона (то есть одна строка - это веса одного нейрона)."
   ]
  },
  {
   "cell_type": "markdown",
   "metadata": {
    "colab_type": "text",
    "collapsed": true,
    "id": "RyXUqCfVYJdG"
   },
   "source": [
    "Допустим, мы решаем задачу $K$-классовой классификации (на последнем слое $K$ нейронов). Рассмотрим, как в таком случае выглядит `forward_pass` нейросети:"
   ]
  },
  {
   "cell_type": "markdown",
   "metadata": {
    "colab_type": "text",
    "id": "YO6gHbOjYJdH"
   },
   "source": [
    "* Вход: $$X =\n",
    "\\left(\n",
    "\\begin{matrix} \n",
    "x_{11} & ... & x_{1M} \\\\\n",
    "... & \\ddots  & ...\\\\\n",
    "x_{N1} & ... & x_{NM} \n",
    "\\end{matrix}\n",
    "\\right)\n",
    "$$\n",
    "\n",
    "-- матрица $(N, M)$"
   ]
  },
  {
   "cell_type": "markdown",
   "metadata": {
    "colab_type": "text",
    "collapsed": true,
    "id": "XdImZiQkYJdI"
   },
   "source": [
    "* Структура сети - много слоёв, в слоях много нейронов. Первый слой (после входного) выглядит так:"
   ]
  },
  {
   "cell_type": "markdown",
   "metadata": {
    "colab_type": "text",
    "id": "U2c2M4MJYJdJ"
   },
   "source": [
    "$$ W^1 =\n",
    "\\left(\n",
    "\\begin{matrix} \n",
    "w_{11} & ... & w_{1L_1} \\\\\n",
    "... & \\ddots  & ...\\\\\n",
    "w_{M1} & ... & w_{ML_1} \n",
    "\\end{matrix}\n",
    "\\right)\n",
    "$$\n",
    "\n",
    "-- матрица $(M, L_1)$"
   ]
  },
  {
   "cell_type": "markdown",
   "metadata": {
    "colab_type": "text",
    "id": "UUCdeLN0YJdK"
   },
   "source": [
    "То есть это в точности $L_1$ нейронов, каждый имеет свои собственные веса, их $M$ штук."
   ]
  },
  {
   "cell_type": "markdown",
   "metadata": {
    "colab_type": "text",
    "id": "ixHtlMwKYJdL"
   },
   "source": [
    "Мы помним, что нейрон - это линейное преобразование и потом нелинейная функция активации от этого преобразования. Однако в многослойных нейростеях часто отделяют `Linear` часть и `Activation`, то есть слоем считаем набор весов нейронов, а следующий слой всегда функция активации (у всех нейронов из слоя она одна и та же, обычно фреймворки не позволяют задавать конкретному нейрону в слое отличную от других нейронов в этом слое функцию активации, однако это легко сделать, объявив слой из одного нейрона)."
   ]
  },
  {
   "cell_type": "markdown",
   "metadata": {
    "colab_type": "text",
    "id": "AUt1NgTvYJdN"
   },
   "source": [
    "* Другие слои выглядит точно так же, как первый слой. Например, у второй слой будет такой:"
   ]
  },
  {
   "cell_type": "markdown",
   "metadata": {
    "colab_type": "text",
    "id": "IdtSTvTmYJdN"
   },
   "source": [
    "$$ W^2 =\n",
    "\\left(\n",
    "\\begin{matrix} \n",
    "w_{11} & ... & w_{1L_2} \\\\\n",
    "... & \\ddots  & ...\\\\\n",
    "w_{L_11} & ... & w_{L_1L_2} \n",
    "\\end{matrix}\n",
    "\\right)\n",
    "$$\n",
    "\n",
    "-- матрица $(L_1, L_2)$"
   ]
  },
  {
   "cell_type": "markdown",
   "metadata": {
    "colab_type": "text",
    "id": "R3nGnHoLYJdP"
   },
   "source": [
    "То есть это в точности $L_2$ нейронов, каждый имеет свои собственные веса, их $L_1$ штук."
   ]
  },
  {
   "cell_type": "markdown",
   "metadata": {
    "colab_type": "text",
    "id": "bQhOAQjSYJdR"
   },
   "source": [
    "* Выходной слой:  \n",
    "\n",
    "Пусть в нейросети до выходного слоя идут $t$ слоёв. Тогда выходной слой имеет форму:"
   ]
  },
  {
   "cell_type": "markdown",
   "metadata": {
    "colab_type": "text",
    "id": "fWvqm-K0YJdT"
   },
   "source": [
    "$$ W^{out} =\n",
    "\\left(\n",
    "\\begin{matrix} \n",
    "w_{11} & ... & w_{1K} \\\\\n",
    "... & \\ddots  & ...\\\\\n",
    "w_{L_t1} & ... & w_{L_tK} \n",
    "\\end{matrix}\n",
    "\\right)\n",
    "$$\n",
    "\n",
    "-- матрица $(L_t, K)$, где $L_t$ - количество нейронов в $t$-ом слое, а $K$ -- количество классов."
   ]
  },
  {
   "cell_type": "markdown",
   "metadata": {
    "colab_type": "text",
    "id": "2z5tO89NYJdU"
   },
   "source": [
    "В итоге ***для `forward_pass` нам нужно просто последовтельно перемножить матрицы друг за другом, применяя после каждого умножения соответсвующую функцию активации***."
   ]
  },
  {
   "cell_type": "markdown",
   "metadata": {
    "colab_type": "text",
    "id": "IZT4GgsCYJdV"
   },
   "source": [
    "*Примечание*: можно думать об умножении на очередную матрицу весов как на переход в **новое признаковое пространство**. Действительно, когда подаём матрицу $X$ и умножаем на матрицу первого слоя, мы получаем матрицу размера $(N, L_1)$, то есть как будто $L_1$ \"новых\" признаков (построенных как линейная комбинация старых до применения функции активации, и уже как нелинейная комбинация после активации)."
   ]
  },
  {
   "cell_type": "markdown",
   "metadata": {
    "colab_type": "text",
    "id": "4RhJ4fsHYJdW"
   },
   "source": [
    "**Backward pass в MLP**"
   ]
  },
  {
   "cell_type": "markdown",
   "metadata": {
    "colab_type": "text",
    "id": "MYN043DbYJdX"
   },
   "source": [
    "Обучается с помощью метода \"Error Backpropagation\" - [\"Обратное распространение ошибки\"](https://ru.wikipedia.org/wiki/%D0%9C%D0%B5%D1%82%D0%BE%D0%B4_%D0%BE%D0%B1%D1%80%D0%B0%D1%82%D0%BD%D0%BE%D0%B3%D0%BE_%D1%80%D0%B0%D1%81%D0%BF%D1%80%D0%BE%D1%81%D1%82%D1%80%D0%B0%D0%BD%D0%B5%D0%BD%D0%B8%D1%8F_%D0%BE%D1%88%D0%B8%D0%B1%D0%BA%D0%B8), принцип распространения очень похож на то, как мы обучали один нейрон - это градиентный спуск, но по \"всей нейросети\" сразу.  "
   ]
  },
  {
   "cell_type": "markdown",
   "metadata": {
    "colab_type": "text",
    "collapsed": true,
    "id": "oK7Vi4bxYJdZ"
   },
   "source": [
    "Backpropagation работает корректно благодаря ***chain rule*** (=правилу взятия производной сложной функции):  \n",
    "\n",
    "Если $f(x) = f(g(x))$, то:  \n",
    "\n",
    "$$\\frac{\\partial{f}}{\\partial{x}} = \\frac{\\partial{f}}{\\partial{g}} \\frac{\\partial{g}}{\\partial{x}}$$"
   ]
  },
  {
   "cell_type": "markdown",
   "metadata": {
    "colab_type": "text",
    "collapsed": true,
    "id": "WKvMsaEBYJda"
   },
   "source": [
    "Более подробно про backpropagation можно прочитать здесь (на английском):  https://mattmazur.com/2015/03/17/a-step-by-step-backpropagation-example/"
   ]
  },
  {
   "cell_type": "markdown",
   "metadata": {
    "colab_type": "text",
    "id": "z5dyjPVNYJdc"
   },
   "source": [
    "<h3 style=\"text-align: center;\"><b>Многослойная нейросеть на PyTorch</b></h3>"
   ]
  },
  {
   "cell_type": "markdown",
   "metadata": {
    "colab_type": "text",
    "id": "T9ufk3ECYJde"
   },
   "source": [
    "Ешё раз напомним про основные компоненты нейросети:\n",
    "\n",
    "- непосредственно, сама **архитектура** нейросети (сюда входят типы функций активации у каждого нейрона);\n",
    "- начальная **инициализация** весов каждого слоя;\n",
    "- метод **оптимизации** нейросети (сюда ещё входит метод изменения `learning_rate`);\n",
    "- размер **батчей** (`batch_size`);\n",
    "- количетсво итераций обучения (`num_epochs`);\n",
    "- **функция потерь** (`loss`);  \n",
    "- тип **регуляризации** нейросети (для каждого слоя можно свой);  \n",
    "\n",
    "То, что связано с ***данными и задачей***:  \n",
    "- само **качество** выборки (непротиворечивость, чистота, корректность постановки задачи);  \n",
    "- **размер** выборки;  "
   ]
  },
  {
   "cell_type": "markdown",
   "metadata": {
    "colab_type": "text",
    "id": "9KrWarqTYJdf"
   },
   "source": [
    "Не будем медлить - бахнем 100 нейронов в двуслойную нейросеть (датасет - снова \"Игрушка дьявола\"):"
   ]
  },
  {
   "cell_type": "code",
   "execution_count": 29,
   "metadata": {
    "colab": {},
    "colab_type": "code",
    "id": "bLjkPg19YJdg"
   },
   "outputs": [],
   "source": [
    "import matplotlib.pyplot as plt\n",
    "import numpy as np\n",
    "\n",
    "import torch"
   ]
  },
  {
   "cell_type": "markdown",
   "metadata": {
    "colab_type": "text",
    "id": "iCDVRvQJYJdl"
   },
   "source": [
    "Генерация и отрисовка датасета:"
   ]
  },
  {
   "cell_type": "code",
   "execution_count": 41,
   "metadata": {
    "colab": {},
    "colab_type": "code",
    "id": "k0J27RcLYJdm"
   },
   "outputs": [],
   "source": [
    "# код для генерации взят из Стэнфордсокго курса:\n",
    "# http://cs231n.github.io/neural-networks-case-study/#linear\n",
    "\n",
    "N = 100\n",
    "D = 2\n",
    "K = 3\n",
    "X = np.zeros((N * K, D))\n",
    "y = np.zeros(N * K, dtype='uint8')\n",
    "\n",
    "for j in range(K):\n",
    "    ix = range(N * j,N * (j + 1))\n",
    "    r = np.linspace(0.0, 1, N)\n",
    "    t = np.linspace(j * 4, (j + 1) * 4,N) + np.random.randn(N) * 0.2 # theta\n",
    "    X[ix] = np.c_[r * np.sin(t), r * np.cos(t)]\n",
    "    y[ix] = j"
   ]
  },
  {
   "cell_type": "markdown",
   "metadata": {
    "colab_type": "text",
    "id": "X9FHhqX_YJdp"
   },
   "source": [
    "Не забываем оборачивать данные (без этого градиенты не посчитать):"
   ]
  },
  {
   "cell_type": "code",
   "execution_count": 42,
   "metadata": {
    "colab": {},
    "colab_type": "code",
    "id": "pQINaQqZYJdq"
   },
   "outputs": [],
   "source": [
    "X = torch.autograd.Variable(torch.FloatTensor(X))\n",
    "y = torch.autograd.Variable(torch.LongTensor(y.astype(np.int64)))"
   ]
  },
  {
   "cell_type": "code",
   "execution_count": 43,
   "metadata": {
    "colab": {},
    "colab_type": "code",
    "id": "Who9mS8oYJdu",
    "outputId": "1ec6e30a-2cd9-4bd6-d0e0-3b7c936d1b8a"
   },
   "outputs": [
    {
     "name": "stdout",
     "output_type": "stream",
     "text": [
      "torch.Size([300, 2]) torch.Size([300])\n"
     ]
    }
   ],
   "source": [
    "print(X.data.shape, y.data.shape)"
   ]
  },
  {
   "cell_type": "markdown",
   "metadata": {
    "colab_type": "text",
    "id": "I-9dFW5CYJd0"
   },
   "source": [
    "Сама ячейка с сеткой и обучением:"
   ]
  },
  {
   "cell_type": "code",
   "execution_count": 44,
   "metadata": {
    "colab": {},
    "colab_type": "code",
    "id": "kf-YapleYJd1",
    "outputId": "d71315ae-670a-48e3-bcf7-b425ebe198fe"
   },
   "outputs": [
    {
     "name": "stdout",
     "output_type": "stream",
     "text": [
      "0 328.58782958984375\n",
      "1 313.4169921875\n",
      "2 300.6275329589844\n",
      "3 287.38232421875\n",
      "4 273.4857482910156\n",
      "5 259.6421813964844\n",
      "6 246.748291015625\n",
      "7 235.88125610351562\n",
      "8 227.8517608642578\n",
      "9 228.90713500976562\n",
      "10 314.7958679199219\n",
      "11 526.7330322265625\n",
      "12 365.188232421875\n",
      "13 313.0725402832031\n",
      "14 299.5876770019531\n",
      "15 287.0776672363281\n",
      "16 276.07037353515625\n",
      "17 265.38153076171875\n",
      "18 254.58306884765625\n",
      "19 243.9084014892578\n",
      "20 233.6269989013672\n",
      "21 223.94200134277344\n",
      "22 215.07064819335938\n",
      "23 207.23085021972656\n",
      "24 200.3118896484375\n",
      "25 194.3674774169922\n",
      "26 191.64442443847656\n",
      "27 212.6986846923828\n",
      "28 362.0786437988281\n",
      "29 301.670654296875\n",
      "30 237.49635314941406\n",
      "31 217.8592987060547\n",
      "32 204.75291442871094\n",
      "33 194.0901336669922\n",
      "34 184.79281616210938\n",
      "35 176.67910766601562\n",
      "36 170.18280029296875\n",
      "37 170.509765625\n",
      "38 206.7211456298828\n",
      "39 309.4209899902344\n",
      "40 203.65740966796875\n",
      "41 177.8771514892578\n",
      "42 160.81784057617188\n",
      "43 150.76475524902344\n",
      "44 145.90982055664062\n",
      "45 154.9005889892578\n",
      "46 216.4901123046875\n",
      "47 317.57830810546875\n",
      "48 248.1845703125\n",
      "49 178.76170349121094\n",
      "50 155.71551513671875\n",
      "51 143.5936279296875\n",
      "52 150.3231964111328\n",
      "53 243.42803955078125\n",
      "54 385.7079772949219\n",
      "55 216.24085998535156\n",
      "56 188.31700134277344\n",
      "57 173.21031188964844\n",
      "58 161.74490356445312\n",
      "59 151.85789489746094\n",
      "60 142.8748321533203\n",
      "61 134.6750946044922\n",
      "62 128.6920623779297\n",
      "63 131.52606201171875\n",
      "64 175.4033660888672\n",
      "65 213.8826141357422\n",
      "66 209.24871826171875\n",
      "67 191.55386352539062\n",
      "68 152.81939697265625\n",
      "69 136.24501037597656\n",
      "70 136.16183471679688\n",
      "71 168.8682098388672\n",
      "72 237.4386749267578\n",
      "73 162.4383087158203\n",
      "74 126.97126007080078\n",
      "75 106.5364761352539\n",
      "76 96.73265838623047\n",
      "77 91.80046844482422\n",
      "78 95.0905990600586\n",
      "79 117.59935760498047\n",
      "80 202.24761962890625\n",
      "81 273.70684814453125\n",
      "82 178.69749450683594\n",
      "83 119.32049560546875\n",
      "84 96.35858917236328\n",
      "85 86.48749542236328\n",
      "86 85.60916900634766\n",
      "87 98.09883880615234\n",
      "88 138.66835021972656\n",
      "89 213.0084228515625\n",
      "90 205.92298889160156\n",
      "91 133.8215789794922\n",
      "92 87.7448501586914\n",
      "93 73.0304183959961\n",
      "94 65.6603012084961\n",
      "95 60.90165328979492\n",
      "96 57.426239013671875\n",
      "97 55.18675994873047\n",
      "98 55.85569763183594\n",
      "99 64.07881927490234\n",
      "100 114.82254028320312\n",
      "101 216.38124084472656\n",
      "102 425.9839782714844\n",
      "103 266.35723876953125\n",
      "104 164.97117614746094\n",
      "105 115.19993591308594\n",
      "106 101.47125244140625\n",
      "107 93.38629150390625\n",
      "108 87.03744506835938\n",
      "109 81.43982696533203\n",
      "110 76.63517761230469\n",
      "111 72.89424896240234\n",
      "112 72.2214126586914\n",
      "113 78.81016540527344\n",
      "114 92.5321273803711\n",
      "115 89.84971618652344\n",
      "116 77.79576110839844\n",
      "117 76.18058013916016\n",
      "118 60.02049255371094\n",
      "119 56.01996994018555\n",
      "120 54.54756164550781\n",
      "121 55.431129455566406\n",
      "122 57.41178512573242\n",
      "123 57.80402374267578\n",
      "124 58.57575988769531\n",
      "125 56.87060546875\n",
      "126 52.63090133666992\n",
      "127 52.30557632446289\n",
      "128 46.853973388671875\n",
      "129 51.50048828125\n",
      "130 47.48494338989258\n",
      "131 54.55479049682617\n",
      "132 58.08412170410156\n",
      "133 59.835968017578125\n",
      "134 83.18433380126953\n",
      "135 70.21885681152344\n",
      "136 61.60234069824219\n",
      "137 63.81854248046875\n",
      "138 51.47389221191406\n",
      "139 44.020816802978516\n",
      "140 42.208946228027344\n",
      "141 37.69099044799805\n",
      "142 38.88824462890625\n",
      "143 35.81949234008789\n",
      "144 38.475128173828125\n",
      "145 35.51521682739258\n",
      "146 38.69306564331055\n",
      "147 35.06622314453125\n",
      "148 38.266292572021484\n",
      "149 34.09097671508789\n",
      "150 36.70085525512695\n",
      "151 32.25482177734375\n",
      "152 34.269805908203125\n",
      "153 30.320573806762695\n",
      "154 31.86948585510254\n",
      "155 28.702524185180664\n",
      "156 30.084936141967773\n",
      "157 27.6632080078125\n",
      "158 29.365367889404297\n",
      "159 27.596168518066406\n",
      "160 29.869247436523438\n",
      "161 30.872547149658203\n",
      "162 34.33058166503906\n",
      "163 49.27458190917969\n",
      "164 51.08438491821289\n",
      "165 87.40701293945312\n",
      "166 93.31169891357422\n",
      "167 175.97726440429688\n",
      "168 324.3606262207031\n",
      "169 213.73941040039062\n",
      "170 226.6145782470703\n",
      "171 136.1458740234375\n",
      "172 87.69967651367188\n",
      "173 60.1204833984375\n",
      "174 50.98686218261719\n",
      "175 46.50405502319336\n",
      "176 42.97026443481445\n",
      "177 39.95912170410156\n",
      "178 37.44208908081055\n",
      "179 35.3304328918457\n",
      "180 33.668785095214844\n",
      "181 32.543373107910156\n",
      "182 32.6269645690918\n",
      "183 34.27349090576172\n",
      "184 41.22803497314453\n",
      "185 46.380096435546875\n",
      "186 62.64891815185547\n",
      "187 46.83616638183594\n",
      "188 47.554656982421875\n",
      "189 30.79947280883789\n",
      "190 28.52728271484375\n",
      "191 26.929105758666992\n",
      "192 26.473804473876953\n",
      "193 25.80847930908203\n",
      "194 26.310800552368164\n",
      "195 26.085975646972656\n",
      "196 27.78978729248047\n",
      "197 27.668703079223633\n",
      "198 30.476459503173828\n",
      "199 29.450572967529297\n",
      "200 32.006866455078125\n",
      "201 28.744150161743164\n",
      "202 30.301660537719727\n",
      "203 26.264827728271484\n",
      "204 27.678062438964844\n",
      "205 24.39217758178711\n",
      "206 25.84515380859375\n",
      "207 23.33678436279297\n",
      "208 24.872365951538086\n",
      "209 23.27142906188965\n",
      "210 24.7514705657959\n",
      "211 24.73924446105957\n",
      "212 25.734975814819336\n",
      "213 29.177539825439453\n",
      "214 28.94242286682129\n",
      "215 39.68655776977539\n",
      "216 42.70267105102539\n",
      "217 42.05342102050781\n",
      "218 39.454833984375\n",
      "219 24.67750358581543\n",
      "220 21.496885299682617\n",
      "221 19.776962280273438\n",
      "222 19.442045211791992\n",
      "223 19.03749656677246\n",
      "224 19.589458465576172\n",
      "225 19.478029251098633\n",
      "226 21.2357120513916\n",
      "227 20.930946350097656\n",
      "228 24.184106826782227\n",
      "229 22.90854835510254\n",
      "230 26.074199676513672\n",
      "231 24.433128356933594\n",
      "232 25.330398559570312\n",
      "233 25.243295669555664\n",
      "234 23.391338348388672\n",
      "235 26.428524017333984\n",
      "236 23.093332290649414\n",
      "237 28.039323806762695\n",
      "238 23.683631896972656\n",
      "239 27.682659149169922\n",
      "240 23.623769760131836\n",
      "241 25.108705520629883\n",
      "242 22.62516212463379\n",
      "243 22.396183013916016\n",
      "244 22.039905548095703\n",
      "245 20.684181213378906\n",
      "246 22.678104400634766\n",
      "247 21.279767990112305\n",
      "248 25.949552536010742\n",
      "249 26.590682983398438\n",
      "250 27.82884407043457\n",
      "251 30.133989334106445\n",
      "252 22.245920181274414\n",
      "253 22.831506729125977\n",
      "254 18.52895164489746\n",
      "255 19.25464630126953\n",
      "256 17.245559692382812\n",
      "257 18.441192626953125\n",
      "258 17.22576141357422\n",
      "259 18.75609588623047\n",
      "260 17.983505249023438\n",
      "261 19.18579864501953\n",
      "262 19.340396881103516\n",
      "263 19.49152374267578\n",
      "264 20.82465934753418\n",
      "265 19.594141006469727\n",
      "266 22.282426834106445\n",
      "267 19.54722785949707\n",
      "268 23.027408599853516\n",
      "269 19.335140228271484\n",
      "270 22.747589111328125\n",
      "271 18.799236297607422\n",
      "272 21.43555450439453\n",
      "273 17.93716812133789\n",
      "274 19.71308135986328\n",
      "275 17.080520629882812\n",
      "276 18.433279037475586\n",
      "277 16.460285186767578\n",
      "278 17.52356719970703\n",
      "279 15.98439884185791\n",
      "280 16.796689987182617\n",
      "281 15.591263771057129\n",
      "282 16.280933380126953\n",
      "283 15.33798599243164\n",
      "284 15.94105052947998\n",
      "285 15.205942153930664\n",
      "286 15.704118728637695\n",
      "287 15.230854034423828\n",
      "288 15.575871467590332\n",
      "289 15.597034454345703\n",
      "290 15.626638412475586\n",
      "291 17.005830764770508\n",
      "292 17.09580421447754\n",
      "293 22.348451614379883\n",
      "294 26.642478942871094\n",
      "295 30.419700622558594\n",
      "296 38.3978385925293\n",
      "297 20.98398208618164\n",
      "298 18.97232437133789\n",
      "299 17.826982498168945\n",
      "300 16.009450912475586\n",
      "301 16.049667358398438\n",
      "302 14.957643508911133\n",
      "303 14.891952514648438\n",
      "304 14.430318832397461\n",
      "305 14.331710815429688\n",
      "306 14.876575469970703\n",
      "307 14.540058135986328\n",
      "308 16.82029151916504\n",
      "309 16.124584197998047\n",
      "310 19.676212310791016\n",
      "311 18.345211029052734\n",
      "312 20.259817123413086\n",
      "313 19.776790618896484\n",
      "314 19.078489303588867\n",
      "315 20.678897857666016\n",
      "316 17.953350067138672\n",
      "317 20.845264434814453\n",
      "318 17.030309677124023\n",
      "319 20.218708038330078\n",
      "320 16.375272750854492\n",
      "321 19.093019485473633\n",
      "322 15.654180526733398\n",
      "323 17.8641357421875\n",
      "324 14.965920448303223\n",
      "325 16.71077537536621\n",
      "326 14.387131690979004\n",
      "327 15.804558753967285\n",
      "328 13.977783203125\n",
      "329 15.244564056396484\n",
      "330 13.790176391601562\n",
      "331 14.90144157409668\n",
      "332 13.85364818572998\n",
      "333 14.764254570007324\n",
      "334 14.49382209777832\n",
      "335 14.914407730102539\n",
      "336 16.28983497619629\n",
      "337 15.667003631591797\n",
      "338 19.80226707458496\n",
      "339 16.967180252075195\n",
      "340 21.8410701751709\n",
      "341 18.006593704223633\n",
      "342 19.57591438293457\n",
      "343 22.166988372802734\n",
      "344 21.151695251464844\n",
      "345 25.615676879882812\n",
      "346 19.20703887939453\n",
      "347 21.79171371459961\n",
      "348 15.932661056518555\n",
      "349 17.423986434936523\n",
      "350 14.142552375793457\n",
      "351 14.938055038452148\n",
      "352 13.153070449829102\n",
      "353 13.559775352478027\n",
      "354 12.515741348266602\n",
      "355 12.754371643066406\n",
      "356 12.26518440246582\n",
      "357 12.332422256469727\n",
      "358 12.30755615234375\n",
      "359 12.309982299804688\n",
      "360 12.678297996520996\n",
      "361 12.488306045532227\n",
      "362 13.771591186523438\n",
      "363 13.298184394836426\n",
      "364 15.946495056152344\n",
      "365 15.3243989944458\n",
      "366 18.120220184326172\n",
      "367 17.77943992614746\n",
      "368 18.202302932739258\n",
      "369 19.337390899658203\n",
      "370 16.392120361328125\n"
     ]
    },
    {
     "name": "stdout",
     "output_type": "stream",
     "text": [
      "371 18.475360870361328\n",
      "372 14.389042854309082\n",
      "373 15.97239875793457\n",
      "374 12.999666213989258\n",
      "375 13.779339790344238\n",
      "376 12.424642562866211\n",
      "377 13.45073127746582\n",
      "378 12.14944839477539\n",
      "379 13.132451057434082\n",
      "380 11.973730087280273\n",
      "381 12.950180053710938\n",
      "382 11.887401580810547\n",
      "383 12.884710311889648\n",
      "384 11.938982009887695\n",
      "385 12.984495162963867\n",
      "386 12.171957015991211\n",
      "387 13.109899520874023\n",
      "388 12.697189331054688\n",
      "389 13.365917205810547\n",
      "390 13.941251754760742\n",
      "391 14.003399848937988\n",
      "392 16.391498565673828\n",
      "393 15.503719329833984\n",
      "394 19.82282066345215\n",
      "395 17.1356143951416\n",
      "396 22.139144897460938\n",
      "397 17.193578720092773\n",
      "398 20.752288818359375\n",
      "399 15.432743072509766\n",
      "400 16.53345489501953\n",
      "401 13.698240280151367\n",
      "402 13.355113983154297\n",
      "403 13.385713577270508\n",
      "404 12.696147918701172\n",
      "405 15.04345703125\n",
      "406 13.878680229187012\n",
      "407 17.270856857299805\n",
      "408 15.405223846435547\n",
      "409 17.866527557373047\n",
      "410 16.003934860229492\n",
      "411 16.747037887573242\n",
      "412 15.487357139587402\n",
      "413 15.113304138183594\n",
      "414 14.890937805175781\n",
      "415 13.855241775512695\n",
      "416 14.044196128845215\n",
      "417 12.909713745117188\n",
      "418 13.248842239379883\n",
      "419 12.192615509033203\n",
      "420 12.381146430969238\n",
      "421 11.636558532714844\n",
      "422 11.763622283935547\n",
      "423 11.32839584350586\n",
      "424 11.329971313476562\n",
      "425 11.184396743774414\n",
      "426 11.109909057617188\n",
      "427 11.17765998840332\n",
      "428 10.992101669311523\n",
      "429 11.31099796295166\n",
      "430 11.061997413635254\n",
      "431 11.646425247192383\n",
      "432 11.191704750061035\n",
      "433 12.13473892211914\n",
      "434 11.430584907531738\n",
      "435 12.752704620361328\n",
      "436 11.908365249633789\n",
      "437 13.44482135772705\n",
      "438 12.64068603515625\n",
      "439 13.895418167114258\n",
      "440 13.773245811462402\n",
      "441 13.980635643005371\n",
      "442 15.604225158691406\n",
      "443 14.667533874511719\n",
      "444 20.14996910095215\n",
      "445 19.299528121948242\n",
      "446 25.8529052734375\n",
      "447 25.200763702392578\n",
      "448 19.384199142456055\n",
      "449 13.699956893920898\n",
      "450 13.313348770141602\n",
      "451 11.263143539428711\n",
      "452 11.545538902282715\n",
      "453 10.258805274963379\n",
      "454 10.357648849487305\n",
      "455 9.668452262878418\n",
      "456 9.786357879638672\n",
      "457 9.426114082336426\n",
      "458 9.55494499206543\n",
      "459 9.335966110229492\n",
      "460 9.46684455871582\n",
      "461 9.318416595458984\n",
      "462 9.501741409301758\n",
      "463 9.353224754333496\n",
      "464 9.583063125610352\n",
      "465 9.46418571472168\n",
      "466 9.732477188110352\n",
      "467 9.681160926818848\n",
      "468 9.93545150756836\n",
      "469 10.23128890991211\n",
      "470 10.430829048156738\n",
      "471 11.773453712463379\n",
      "472 11.69924545288086\n",
      "473 15.17862319946289\n",
      "474 14.621577262878418\n",
      "475 18.245214462280273\n",
      "476 17.20806121826172\n",
      "477 17.413436889648438\n",
      "478 17.56561851501465\n",
      "479 14.7958345413208\n",
      "480 16.505054473876953\n",
      "481 12.848058700561523\n",
      "482 14.392654418945312\n",
      "483 11.651653289794922\n",
      "484 12.738847732543945\n",
      "485 10.900585174560547\n",
      "486 11.367582321166992\n",
      "487 10.520397186279297\n",
      "488 11.043535232543945\n",
      "489 10.421382904052734\n",
      "490 10.791702270507812\n",
      "491 10.315101623535156\n",
      "492 10.570024490356445\n",
      "493 10.331178665161133\n",
      "494 10.486616134643555\n",
      "495 10.414043426513672\n",
      "496 10.501419067382812\n",
      "497 10.576831817626953\n",
      "498 10.526077270507812\n",
      "499 10.764528274536133\n"
     ]
    }
   ],
   "source": [
    "# пример взят из официального туториала: \n",
    "# https://pytorch.org/tutorials/beginner/pytorch_with_examples.html\n",
    "\n",
    "# N - размер батча (batch_size, нужно для метода оптимизации); \n",
    "# D_in - размерность входа (количество признаков у объекта);\n",
    "# H - размерность скрытых слоёв; \n",
    "# D_out - размерность выходного слоя (суть - количество классов)\n",
    "N, D_in, H, D_out = 64, 2, 1000, 3\n",
    "\n",
    "# Use the nn package to define our model and loss function.\n",
    "two_layer_net = torch.nn.Sequential(\n",
    "    torch.nn.Linear(D_in, H),\n",
    "    torch.nn.ReLU(),\n",
    "    torch.nn.Linear(H, H),\n",
    "    torch.nn.ReLU(),\n",
    "    torch.nn.Linear(H, H),\n",
    "    torch.nn.ReLU(),\n",
    "    torch.nn.Linear(H, D_out),\n",
    ")\n",
    "\n",
    "loss_fn = torch.nn.CrossEntropyLoss(size_average=False)\n",
    "\n",
    "learning_rate = 1e-3\n",
    "optimizer = torch.optim.SGD(two_layer_net.parameters(), lr=learning_rate)\n",
    "for t in range(500):\n",
    "    # forward\n",
    "    y_pred = two_layer_net(X)\n",
    "\n",
    "    # loss\n",
    "    loss = loss_fn(y_pred, y)\n",
    "    print('{} {}'.format(t, loss.data))\n",
    "\n",
    "    # ЗАНУЛЯЕМ!\n",
    "    optimizer.zero_grad()\n",
    "\n",
    "    # backward\n",
    "    loss.backward()\n",
    "\n",
    "    # ОБНОВЛЯЕМ! \n",
    "    optimizer.step()"
   ]
  },
  {
   "cell_type": "markdown",
   "metadata": {
    "colab_type": "text",
    "id": "zTQiN0bcYJd6"
   },
   "source": [
    "**Обратите внимание:** несмотря на то, что это задача 3-х классовой классификации и столбец $y$ нужно по-хорошему кодировать OneHotEncoding'ом, мы подали просто столбец из 0, 1 и 2 и всё отработало. Вывод - PyTorch сам делает OneHot в таком случае."
   ]
  },
  {
   "cell_type": "markdown",
   "metadata": {
    "colab_type": "text",
    "id": "apsWWq17YJd8"
   },
   "source": [
    "Проверим, насколько хороша наша сеть из 100 нейронов:"
   ]
  },
  {
   "cell_type": "code",
   "execution_count": 45,
   "metadata": {
    "colab": {},
    "colab_type": "code",
    "id": "X0ICB6Z-YJd-"
   },
   "outputs": [],
   "source": [
    "# Обратно в Numpy для отрисовки\n",
    "X = X.data.numpy()\n",
    "y = y.data.numpy()"
   ]
  },
  {
   "cell_type": "code",
   "execution_count": 46,
   "metadata": {
    "colab": {},
    "colab_type": "code",
    "id": "JvjfvgbPYJeB",
    "outputId": "cf5545ff-3315-45c9-c674-af44f63a346b"
   },
   "outputs": [
    {
     "data": {
      "image/png": "[encoded data removed]",
      "text/plain": [
       "<Figure size 720x576 with 1 Axes>"
      ]
     },
     "metadata": {
      "needs_background": "light"
     },
     "output_type": "display_data"
    }
   ],
   "source": [
    "# Отрисовочная магия, снова взято из:\n",
    "# http://cs231n.github.io/neural-networks-case-study/#linear\n",
    "\n",
    "h = 0.02\n",
    "x_min, x_max = X[:, 0].min() - 1, X[:, 0].max() + 1\n",
    "y_min, y_max = X[:, 1].min() - 1, X[:, 1].max() + 1\n",
    "\n",
    "xx, yy = np.meshgrid(np.arange(x_min, x_max, h),\n",
    "                     np.arange(y_min, y_max, h))\n",
    "grid_tensor = torch.FloatTensor(np.c_[xx.ravel(), yy.ravel()])\n",
    "\n",
    "Z = two_layer_net(torch.autograd.Variable(grid_tensor))\n",
    "Z = Z.data.numpy()\n",
    "Z = np.argmax(Z, axis=1)\n",
    "Z = Z.reshape(xx.shape)\n",
    "\n",
    "plt.figure(figsize=(10, 8))\n",
    "\n",
    "plt.contourf(xx, yy, Z, cmap=plt.cm.rainbow, alpha=0.3)\n",
    "plt.scatter(X[:, 0], X[:, 1], c=y, s=40, cmap=plt.cm.rainbow)\n",
    "\n",
    "plt.xlim(xx.min(), xx.max())\n",
    "plt.ylim(yy.min(), yy.max())\n",
    "\n",
    "plt.title('Игрушка дьявола', fontsize=15)\n",
    "plt.xlabel('$x$', fontsize=14)\n",
    "plt.ylabel('$y$', fontsize=14)\n",
    "plt.show();"
   ]
  },
  {
   "cell_type": "markdown",
   "metadata": {
    "colab_type": "text",
    "id": "I-LuUcmNYJeE"
   },
   "source": [
    "Качество не очень. Как же так, ведь мы использовали 100 нейронов? Разве их мало?"
   ]
  },
  {
   "cell_type": "markdown",
   "metadata": {
    "colab_type": "text",
    "id": "CUh5va_PYJeF"
   },
   "source": [
    "---"
   ]
  },
  {
   "cell_type": "markdown",
   "metadata": {
    "colab_type": "text",
    "id": "34q5qIBvYJeG"
   },
   "source": [
    "### Задача 2"
   ]
  },
  {
   "cell_type": "markdown",
   "metadata": {
    "colab_type": "text",
    "id": "G2wNgoh5YJeG"
   },
   "source": [
    "Улучшите сеть (помните про вещи, которые можно менять (см. Компоненты нейросети)). Экспериментируйте, в этом **вся суть deep learning** (и в том, чтобы рано или поздно сетка научилась экспериментировать за Вас :)"
   ]
  },
  {
   "cell_type": "code",
   "execution_count": 0,
   "metadata": {
    "colab": {},
    "colab_type": "code",
    "id": "ZYzvOiPgYJeH"
   },
   "outputs": [],
   "source": [
    "# \"поигрался\" с параметрами в основной задаче"
   ]
  },
  {
   "cell_type": "markdown",
   "metadata": {
    "colab_type": "text",
    "id": "6N_9wfvPYJeK"
   },
   "source": [
    "---"
   ]
  },
  {
   "cell_type": "markdown",
   "metadata": {
    "colab_type": "text",
    "id": "H_thmQJOYJeK"
   },
   "source": [
    "<h3 style=\"text-align: center;\"><b>Полезные ссылки</b></h3>"
   ]
  },
  {
   "cell_type": "markdown",
   "metadata": {
    "colab_type": "text",
    "id": "RpSrLf9FYJeL"
   },
   "source": [
    "1). *Примеры написания нейросетей на PyTorch (офийиальные туториалы) (на английском): https://pytorch.org/tutorials/beginner/pytorch_with_examples.html#examples  \n",
    "https://pytorch.org/tutorials/beginner/blitz/cifar10_tutorial.html*\n",
    "\n",
    "2). ***Один из самых подробных и полных курсов по deep learning на данный момент - это курс Стэнфордского Университета (он вообще сейчас один из лидеров в области ИИ, его выпускники работают в Google, Facebook, Amazon, Microsoft, в стартапах в Кремниевой долине):  http://cs231n.github.io/***  \n",
    "\n",
    "3). Практически исчерпывающая информация по основам нейросетей (из cs231n) (на английском):  \n",
    "\n",
    "http://cs231n.github.io/neural-networks-1/,  \n",
    "http://cs231n.github.io/neural-networks-2/,  \n",
    "http://cs231n.github.io/neural-networks-3/,  \n",
    "http://cs231n.github.io/neural-networks-case-study/#linear\n",
    "\n",
    "4). *Хорошие статьи по основам нейросетей (на английском):  http://neuralnetworksanddeeplearning.com/chap1.html*\n",
    "\n",
    "5). *Наглядная демонстрация того, как обучаются нейросети:  https://cs.stanford.edu/people/karpathy/convnetjs/*"
   ]
  },
  {
   "cell_type": "markdown",
   "metadata": {
    "colab_type": "text",
    "id": "1Qldb1U5YJeM"
   },
   "source": [
    "6). *Подробнее про backprop -- статья на Medium: https://medium.com/autonomous-agents/backpropagation-how-neural-networks-learn-complex-behaviors-9572ac161670*"
   ]
  },
  {
   "cell_type": "markdown",
   "metadata": {
    "colab_type": "text",
    "id": "g1HSslRhYJeN"
   },
   "source": [
    "7). *Статья из интернет по Backprop: http://page.mi.fu-berlin.de/rojas/neural/chapter/K7.pdf*"
   ]
  }
 ],
 "metadata": {
  "colab": {
   "collapsed_sections": [],
   "name": "[seminar]mlp_pytorch.ipynb",
   "provenance": [],
   "version": "0.3.2"
  },
  "kernelspec": {
   "display_name": "Python 3",
   "language": "python",
   "name": "python3"
  },
  "language_info": {
   "codemirror_mode": {
    "name": "ipython",
    "version": 3
   },
   "file_extension": ".py",
   "mimetype": "text/x-python",
   "name": "python",
   "nbconvert_exporter": "python",
   "pygments_lexer": "ipython3",
   "version": "3.7.3"
  }
 },
 "nbformat": 4,
 "nbformat_minor": 1
}
