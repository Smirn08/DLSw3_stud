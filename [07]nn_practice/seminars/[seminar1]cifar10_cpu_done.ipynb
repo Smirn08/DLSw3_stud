{
 "cells": [
  {
   "cell_type": "markdown",
   "metadata": {
    "colab_type": "text",
    "id": "_r-8MXaKSG9d"
   },
   "source": [
    "<img src=\"https://s8.hostingkartinok.com/uploads/images/2018/08/308b49fcfbc619d629fe4604bceb67ac.jpg\" width=500, height=450>\n",
    "<h3 style=\"text-align: center;\"><b>Физтех-Школа Прикладной математики и информатики (ФПМИ) МФТИ</b></h3>"
   ]
  },
  {
   "cell_type": "markdown",
   "metadata": {
    "colab_type": "text",
    "id": "hTtqQW3_SG9e"
   },
   "source": [
    "---"
   ]
  },
  {
   "cell_type": "markdown",
   "metadata": {
    "colab_type": "text",
    "id": "DEzYTtieSG9f"
   },
   "source": [
    "<h2 style=\"text-align: center;\"><b>Семинар 1: практическое занятие по обучению нейросетей (датасет CIFAR10)</b></h2>"
   ]
  },
  {
   "cell_type": "markdown",
   "metadata": {
    "colab_type": "text",
    "id": "YBkv6rWuSG9g"
   },
   "source": [
    "---"
   ]
  },
  {
   "cell_type": "code",
   "execution_count": 1,
   "metadata": {
    "colab": {},
    "colab_type": "code",
    "id": "Hgit3qqOf4hd"
   },
   "outputs": [],
   "source": [
    "import numpy as np\n",
    "import matplotlib.pyplot as plt\n",
    "\n",
    "from tqdm import tqdm_notebook\n",
    "\n",
    "import warnings\n",
    "warnings.filterwarnings(\"ignore\")\n",
    "\n",
    "import multiprocessing"
   ]
  },
  {
   "cell_type": "markdown",
   "metadata": {
    "colab_type": "text",
    "id": "CHUKPJJOf4hj"
   },
   "source": [
    "Сегодня мы построим свою сеть (простейший классификатор изображений), посчитаем loss и проведем обновление весов.\n",
    "\n",
    "\n",
    "Данные\n",
    "----------------\n",
    "Мы будем работать с набором картинок. Для работы с ними есть специальный пакет ``torchvision``. В нем уже содержатся функции-загрузчики таких датасетов, как ImageNet, MNIST, CIFAR10. С последним сегодня мы и будем работать. В нем содержатся картинки RGB 32х32 следующих классов: \n",
    "1. ‘airplane’\n",
    "2. ‘automobile’\n",
    "3. ‘bird’\n",
    "4. ‘cat’\n",
    "5. ‘deer’\n",
    "6. ‘dog’\n",
    "7. ‘frog’\n",
    "8. ‘horse’\n",
    "9. ‘ship’\n",
    "10. ‘truck’\n",
    "\n",
    "Обучение классификатора\n",
    "----------------------------\n",
    "\n",
    "План обучения классификатора:\n",
    "\n",
    "1. Загружаем и нормализуем данные при помощи пакета\n",
    "   ``torchvision``\n",
    "2. Объявляем нейронную сети\n",
    "3. Объявляем функцию потерь\n",
    "4. Тренируем сеть при помощи тренировочной выборки (train data)\n",
    "5. Тестируем сеть при помощи валидационной выборки (test data)\n",
    "\n",
    "----------------------------\n",
    "\n",
    "Импортируем нужные нам пакеты из библиотеки ``torch``\n",
    "\n",
    "\n"
   ]
  },
  {
   "cell_type": "code",
   "execution_count": 19,
   "metadata": {
    "colab": {},
    "colab_type": "code",
    "id": "E6h4kZ-if4hl"
   },
   "outputs": [],
   "source": [
    "import torch\n",
    "import torchvision\n",
    "from torch.autograd import Variable\n",
    "import torchvision.transforms as transforms"
   ]
  },
  {
   "cell_type": "code",
   "execution_count": 20,
   "metadata": {
    "colab": {},
    "colab_type": "code",
    "id": "5KmxZQREgApi"
   },
   "outputs": [],
   "source": [
    "# http://pytorch.org/\n",
    "# from os.path import exists\n",
    "# from wheel.pep425tags import get_abbr_impl, get_impl_ver, get_abi_tag\n",
    "# platform = '{}{}-{}'.format(get_abbr_impl(), get_impl_ver(), get_abi_tag())\n",
    "# cuda_output = !ldconfig -p|grep cudart.so|sed -e 's/.*\\.\\([0-9]*\\)\\.\\([0-9]*\\)$/cu\\1\\2/'\n",
    "# accelerator = cuda_output[0] if exists('/dev/nvidia0') else 'cpu'\n",
    "# !pip install -q http://download.pytorch.org/whl/{accelerator}/torch-0.4.1-{platform}-linux_x86_64.whl torchvision\n",
    "# import torch"
   ]
  },
  {
   "cell_type": "markdown",
   "metadata": {
    "colab_type": "text",
    "id": "aHKBkoJPf4hp"
   },
   "source": [
    "В результате загрузки датасетов при помощи пакета torchvision мы получим картинки, содержащие значения в диапазоне [0,1], чтобы подавать их в нейросеть, нам нужно сделать из них тензоры со значениями в диапазоне [-1,1]\n",
    "\n",
    "Определим презобразование:"
   ]
  },
  {
   "cell_type": "code",
   "execution_count": 21,
   "metadata": {
    "colab": {},
    "colab_type": "code",
    "id": "GJeKQk9nf4hq"
   },
   "outputs": [],
   "source": [
    "transform = transforms.Compose(\n",
    "    \n",
    "[\n",
    "    transforms.ToTensor(),\n",
    "    transforms.Normalize((0.5, 0.5, 0.5), (0.5, 0.5, 0.5))\n",
    "]\n",
    "\n",
    ")"
   ]
  },
  {
   "cell_type": "markdown",
   "metadata": {
    "colab_type": "text",
    "id": "hNOgh6Obf4hx"
   },
   "source": [
    "Теперь вызовем загрузчики из пакета ``torchvision`` и скачаем обучающую выборку (trainset) и валидационную (testset)\n",
    "\n"
   ]
  },
  {
   "cell_type": "code",
   "execution_count": 22,
   "metadata": {
    "colab": {
     "base_uri": "https://localhost:8080/",
     "height": 114
    },
    "colab_type": "code",
    "executionInfo": {
     "elapsed": 9179,
     "status": "ok",
     "timestamp": 1541256926486,
     "user": {
      "displayName": "Deep Learning School",
      "photoUrl": "https://lh6.googleusercontent.com/-pCAqm81DR_s/AAAAAAAAAAI/AAAAAAAAAMk/4cGT0s91JQs/s64/photo.jpg",
      "userId": "16549096980415837553"
     },
     "user_tz": -180
    },
    "id": "Vvub5ZZdf4hz",
    "outputId": "1d34691b-8365-4e8d-b781-1fdb4d9750f0",
    "scrolled": false
   },
   "outputs": [
    {
     "name": "stdout",
     "output_type": "stream",
     "text": [
      "Files already downloaded and verified\n",
      "Files already downloaded and verified\n"
     ]
    }
   ],
   "source": [
    "trainset = torchvision.datasets.CIFAR10(root='./data', \n",
    "                                        train=True,download=True, transform=transform)\n",
    "train_loader = torch.utils.data.DataLoader(trainset, batch_size=4,\n",
    "                                           shuffle=True, num_workers=0, pin_memory=False)\n",
    "\n",
    "testset = torchvision.datasets.CIFAR10(root='./data', train=False, \n",
    "                                       download=True, transform=transform)\n",
    "validation_loader = torch.utils.data.DataLoader(testset, batch_size=4,\n",
    "                                                shuffle=False, num_workers=0, pin_memory=False)"
   ]
  },
  {
   "cell_type": "markdown",
   "metadata": {
    "colab_type": "text",
    "id": "DsFyaka7f4h5"
   },
   "source": [
    "Определим константы"
   ]
  },
  {
   "cell_type": "code",
   "execution_count": 23,
   "metadata": {
    "colab": {},
    "colab_type": "code",
    "id": "UnfKGICOf4h6"
   },
   "outputs": [],
   "source": [
    "IMAGE_WIDTH = 32\n",
    "IMAGE_HEIGHT = 32\n",
    "COLOR_CHANNELS = 3\n",
    "EPOCHS = 50\n",
    "LEARNING_RATE = 0.001\n",
    "BATCH_SIZE = 32\n",
    "BATCH_IMAGE_COUNT = 10000\n",
    "CLASSES = ['plane', 'car', 'bird', 'cat', 'deer', 'dog', 'frog', 'horse', 'ship', 'truck']\n",
    "N_CLASSES = len(CLASSES)\n",
    "PLOT = False"
   ]
  },
  {
   "cell_type": "code",
   "execution_count": 24,
   "metadata": {
    "colab": {
     "base_uri": "https://localhost:8080/",
     "height": 204
    },
    "colab_type": "code",
    "executionInfo": {
     "elapsed": 1080,
     "status": "ok",
     "timestamp": 1541259191860,
     "user": {
      "displayName": "Deep Learning School",
      "photoUrl": "https://lh6.googleusercontent.com/-pCAqm81DR_s/AAAAAAAAAAI/AAAAAAAAAMk/4cGT0s91JQs/s64/photo.jpg",
      "userId": "16549096980415837553"
     },
     "user_tz": -180
    },
    "id": "mNWymneYf4h-",
    "outputId": "80c3943a-b7af-46ea-f7ab-23c5c5c6c660"
   },
   "outputs": [
    {
     "name": "stdout",
     "output_type": "stream",
     "text": [
      " frog  ship plane   car\n"
     ]
    },
    {
     "data": {
      "image/png": "[encoded data removed]",
      "text/plain": [
       "<Figure size 432x288 with 1 Axes>"
      ]
     },
     "metadata": {
      "needs_background": "light"
     },
     "output_type": "display_data"
    }
   ],
   "source": [
    "import matplotlib.pyplot as plt\n",
    "import numpy as np\n",
    "\n",
    "# Функция, которая показывает изображения\n",
    "def imshow(img):\n",
    "    img = img / 2 + 0.5     # деномрировка\n",
    "    npimg = img.numpy()\n",
    "    plt.imshow(np.transpose(npimg, (1, 2, 0)))\n",
    "\n",
    "\n",
    "# достаем случайные картинки из обучающей выборки\n",
    "dataiter = iter(train_loader)\n",
    "images, labels = dataiter.next()\n",
    "\n",
    "# вызываем функцию, реализующую демонстрацию изображений, что мы можем видеть на них?\n",
    "imshow(torchvision.utils.make_grid(images))\n",
    "# выведем метки классов отрисованных изображений\n",
    "print(' '.join('%5s' % CLASSES[labels[j]] for j in range(4)))"
   ]
  },
  {
   "cell_type": "code",
   "execution_count": 25,
   "metadata": {
    "colab": {},
    "colab_type": "code",
    "id": "wysy5qO2f4iC"
   },
   "outputs": [],
   "source": [
    "class Net(torch.nn.Module):\n",
    "    def __init__(self, n_hidden_nodes, n_hidden_layers):\n",
    "        super(Net, self).__init__()\n",
    "        # Определяем слои\n",
    "        self.fc1 = torch.nn.Linear(IMAGE_WIDTH * IMAGE_WIDTH * COLOR_CHANNELS,\n",
    "                                   n_hidden_nodes)\n",
    "#         self.n_hidden_nodes=n_hidden_nodes\n",
    "#         self.n_hidden_layers=n_hidden_layers\n",
    "\n",
    "        self.out = torch.nn.Linear(n_hidden_nodes, N_CLASSES)\n",
    "\n",
    "    def forward(self, x):\n",
    "        x = x.view(-1, IMAGE_WIDTH * IMAGE_WIDTH * COLOR_CHANNELS)\n",
    "        # определяем функцию активации\n",
    "        sigmoid = torch.nn.Sigmoid()\n",
    "        x = sigmoid(self.fc1(x))\n",
    "        return torch.nn.functional.log_softmax(self.out(x))"
   ]
  },
  {
   "cell_type": "code",
   "execution_count": 26,
   "metadata": {
    "colab": {},
    "colab_type": "code",
    "id": "sdi5bYJaf4iF"
   },
   "outputs": [],
   "source": [
    "def train(epoch, model, train_loader, optimizer, log_interval=100, cuda=None):\n",
    "    model.train()\n",
    "    correct = 0\n",
    "    for batch_idx, (data, target) in enumerate(train_loader):\n",
    "        data, target = Variable(data), Variable(target)\n",
    "        optimizer.zero_grad()\n",
    "        output = model(data)\n",
    "\n",
    "        pred = output.data.max(1)[1] # get the index of the max log-probability\n",
    "        correct += pred.eq(target.data).cpu().sum()\n",
    "        accuracy = 100. * correct / len(train_loader.dataset)\n",
    "        \n",
    "        \n",
    "        loss = torch.nn.functional.nll_loss(output, target)\n",
    "        loss.backward()\n",
    "        optimizer.step()\n",
    "        if batch_idx % 10000 == 0:\n",
    "            print('Train Epoch: {} [{}/{} ({:.0f}%)]\\tLoss: {:.6f}'.format(\n",
    "                epoch, batch_idx * len(data), len(train_loader.dataset),\n",
    "                100. * batch_idx / len(train_loader), loss.data.numpy(), accuracy))\n"
   ]
  },
  {
   "cell_type": "code",
   "execution_count": 27,
   "metadata": {
    "colab": {},
    "colab_type": "code",
    "id": "_MB7us3sf4iI"
   },
   "outputs": [],
   "source": [
    "def validate(loss_vector, accuracy_vector, model, validation_loader, cuda=None):\n",
    "    model.eval()\n",
    "    val_loss, correct = 0, 0\n",
    "    for data, target in validation_loader:\n",
    "        if cuda:\n",
    "            data, target = data.cuda(), target.cuda()\n",
    "        data, target = Variable(data, volatile=True), Variable(target)\n",
    "        output = model(data)\n",
    "        val_loss += torch.nn.functional.nll_loss(output, target).data.numpy()\n",
    "        pred = output.data.max(1)[1] # get the index of the max log-probability\n",
    "        correct += pred.eq(target.data).cpu().sum()\n",
    "\n",
    "    val_loss /= len(validation_loader)\n",
    "    loss_vector.append(val_loss)\n",
    "\n",
    "    accuracy = 100. * correct / len(validation_loader.dataset)\n",
    "    accuracy_vector.append(accuracy)\n",
    "\n",
    "    print('\\nValidation set: Average loss: {:.4f}, Accuracy: {}/{} ({:.0f}%)\\n'.format(\n",
    "        val_loss, correct, len(validation_loader.dataset), accuracy))"
   ]
  },
  {
   "cell_type": "code",
   "execution_count": 28,
   "metadata": {
    "colab": {},
    "colab_type": "code",
    "id": "5Ta4nX1Uf4iK"
   },
   "outputs": [],
   "source": [
    "from tqdm import tqdm_notebook"
   ]
  },
  {
   "cell_type": "code",
   "execution_count": 29,
   "metadata": {
    "colab": {
     "base_uri": "https://localhost:8080/",
     "height": 3417
    },
    "colab_type": "code",
    "id": "HcykLY4af4iM",
    "outputId": "9fc038b6-d1bc-4050-b6da-06f01613190c"
   },
   "outputs": [
    {
     "name": "stdout",
     "output_type": "stream",
     "text": [
      "Train Epoch: 1 [0/50000 (0%)]\tLoss: 2.136296\n",
      "Train Epoch: 1 [40000/50000 (80%)]\tLoss: 2.018678\n",
      "\n",
      "Validation set: Average loss: 2.0646, Accuracy: 2964/10000 (29%)\n",
      "\n",
      "Train Epoch: 2 [0/50000 (0%)]\tLoss: 1.955299\n",
      "Train Epoch: 2 [40000/50000 (80%)]\tLoss: 1.835675\n",
      "\n",
      "Validation set: Average loss: 1.9727, Accuracy: 3187/10000 (31%)\n",
      "\n",
      "Train Epoch: 3 [0/50000 (0%)]\tLoss: 2.051264\n",
      "Train Epoch: 3 [40000/50000 (80%)]\tLoss: 2.199293\n",
      "\n",
      "Validation set: Average loss: 1.9181, Accuracy: 3376/10000 (33%)\n",
      "\n",
      "Train Epoch: 4 [0/50000 (0%)]\tLoss: 1.690770\n",
      "Train Epoch: 4 [40000/50000 (80%)]\tLoss: 2.523939\n",
      "\n",
      "Validation set: Average loss: 1.8757, Accuracy: 3579/10000 (35%)\n",
      "\n",
      "Train Epoch: 5 [0/50000 (0%)]\tLoss: 1.684095\n",
      "Train Epoch: 5 [40000/50000 (80%)]\tLoss: 2.151747\n",
      "\n",
      "Validation set: Average loss: 1.8409, Accuracy: 3650/10000 (36%)\n",
      "\n",
      "Train Epoch: 6 [0/50000 (0%)]\tLoss: 1.944117\n",
      "Train Epoch: 6 [40000/50000 (80%)]\tLoss: 1.064789\n",
      "\n",
      "Validation set: Average loss: 1.8136, Accuracy: 3691/10000 (36%)\n",
      "\n",
      "Train Epoch: 7 [0/50000 (0%)]\tLoss: 1.530285\n",
      "Train Epoch: 7 [40000/50000 (80%)]\tLoss: 1.929794\n",
      "\n",
      "Validation set: Average loss: 1.7908, Accuracy: 3775/10000 (37%)\n",
      "\n",
      "Train Epoch: 8 [0/50000 (0%)]\tLoss: 1.501082\n",
      "Train Epoch: 8 [40000/50000 (80%)]\tLoss: 2.665729\n",
      "\n",
      "Validation set: Average loss: 1.7746, Accuracy: 3786/10000 (37%)\n",
      "\n",
      "Train Epoch: 9 [0/50000 (0%)]\tLoss: 1.361638\n",
      "Train Epoch: 9 [40000/50000 (80%)]\tLoss: 1.926678\n",
      "\n",
      "Validation set: Average loss: 1.7606, Accuracy: 3848/10000 (38%)\n",
      "\n",
      "Train Epoch: 10 [0/50000 (0%)]\tLoss: 1.591908\n",
      "Train Epoch: 10 [40000/50000 (80%)]\tLoss: 1.174051\n",
      "\n",
      "Validation set: Average loss: 1.7484, Accuracy: 3854/10000 (38%)\n",
      "\n",
      "Train Epoch: 11 [0/50000 (0%)]\tLoss: 1.949228\n",
      "Train Epoch: 11 [40000/50000 (80%)]\tLoss: 1.602422\n",
      "\n",
      "Validation set: Average loss: 1.7386, Accuracy: 3931/10000 (39%)\n",
      "\n",
      "Train Epoch: 12 [0/50000 (0%)]\tLoss: 1.408582\n",
      "Train Epoch: 12 [40000/50000 (80%)]\tLoss: 1.951891\n",
      "\n",
      "Validation set: Average loss: 1.7297, Accuracy: 3903/10000 (39%)\n",
      "\n",
      "Train Epoch: 13 [0/50000 (0%)]\tLoss: 1.510251\n",
      "Train Epoch: 13 [40000/50000 (80%)]\tLoss: 1.868325\n",
      "\n",
      "Validation set: Average loss: 1.7236, Accuracy: 3956/10000 (39%)\n",
      "\n",
      "Train Epoch: 14 [0/50000 (0%)]\tLoss: 1.456546\n",
      "Train Epoch: 14 [40000/50000 (80%)]\tLoss: 1.482718\n",
      "\n",
      "Validation set: Average loss: 1.7185, Accuracy: 3947/10000 (39%)\n",
      "\n",
      "Train Epoch: 15 [0/50000 (0%)]\tLoss: 2.110393\n",
      "Train Epoch: 15 [40000/50000 (80%)]\tLoss: 2.226241\n",
      "\n",
      "Validation set: Average loss: 1.7134, Accuracy: 3940/10000 (39%)\n",
      "\n",
      "Train Epoch: 16 [0/50000 (0%)]\tLoss: 1.695616\n",
      "Train Epoch: 16 [40000/50000 (80%)]\tLoss: 2.342048\n",
      "\n",
      "Validation set: Average loss: 1.7097, Accuracy: 3944/10000 (39%)\n",
      "\n",
      "Train Epoch: 17 [0/50000 (0%)]\tLoss: 1.086509\n",
      "Train Epoch: 17 [40000/50000 (80%)]\tLoss: 1.176789\n",
      "\n",
      "Validation set: Average loss: 1.7036, Accuracy: 3984/10000 (39%)\n",
      "\n",
      "Train Epoch: 18 [0/50000 (0%)]\tLoss: 1.598295\n",
      "Train Epoch: 18 [40000/50000 (80%)]\tLoss: 1.645312\n",
      "\n",
      "Validation set: Average loss: 1.7005, Accuracy: 4001/10000 (40%)\n",
      "\n",
      "Train Epoch: 19 [0/50000 (0%)]\tLoss: 1.242278\n",
      "Train Epoch: 19 [40000/50000 (80%)]\tLoss: 1.902061\n",
      "\n",
      "Validation set: Average loss: 1.6989, Accuracy: 4026/10000 (40%)\n",
      "\n",
      "Train Epoch: 20 [0/50000 (0%)]\tLoss: 1.303288\n",
      "Train Epoch: 20 [40000/50000 (80%)]\tLoss: 1.357875\n",
      "\n",
      "Validation set: Average loss: 1.6967, Accuracy: 4019/10000 (40%)\n",
      "\n",
      "Train Epoch: 21 [0/50000 (0%)]\tLoss: 1.727481\n",
      "Train Epoch: 21 [40000/50000 (80%)]\tLoss: 0.925133\n",
      "\n",
      "Validation set: Average loss: 1.6928, Accuracy: 4004/10000 (40%)\n",
      "\n",
      "Train Epoch: 22 [0/50000 (0%)]\tLoss: 2.151469\n",
      "Train Epoch: 22 [40000/50000 (80%)]\tLoss: 1.680103\n",
      "\n",
      "Validation set: Average loss: 1.6882, Accuracy: 4049/10000 (40%)\n",
      "\n",
      "Train Epoch: 23 [0/50000 (0%)]\tLoss: 2.719030\n",
      "Train Epoch: 23 [40000/50000 (80%)]\tLoss: 2.541950\n",
      "\n",
      "Validation set: Average loss: 1.6903, Accuracy: 4038/10000 (40%)\n",
      "\n",
      "Train Epoch: 24 [0/50000 (0%)]\tLoss: 1.595502\n",
      "Train Epoch: 24 [40000/50000 (80%)]\tLoss: 2.258953\n",
      "\n",
      "Validation set: Average loss: 1.6847, Accuracy: 4058/10000 (40%)\n",
      "\n",
      "Train Epoch: 25 [0/50000 (0%)]\tLoss: 1.080680\n",
      "Train Epoch: 25 [40000/50000 (80%)]\tLoss: 1.573881\n",
      "\n",
      "Validation set: Average loss: 1.6821, Accuracy: 4057/10000 (40%)\n",
      "\n",
      "Train Epoch: 26 [0/50000 (0%)]\tLoss: 1.878905\n",
      "Train Epoch: 26 [40000/50000 (80%)]\tLoss: 1.896694\n",
      "\n",
      "Validation set: Average loss: 1.6849, Accuracy: 4052/10000 (40%)\n",
      "\n",
      "Train Epoch: 27 [0/50000 (0%)]\tLoss: 2.151443\n",
      "Train Epoch: 27 [40000/50000 (80%)]\tLoss: 1.663858\n",
      "\n",
      "Validation set: Average loss: 1.6842, Accuracy: 4072/10000 (40%)\n",
      "\n",
      "Train Epoch: 28 [0/50000 (0%)]\tLoss: 1.233530\n",
      "Train Epoch: 28 [40000/50000 (80%)]\tLoss: 1.392348\n",
      "\n",
      "Validation set: Average loss: 1.6788, Accuracy: 4081/10000 (40%)\n",
      "\n",
      "Train Epoch: 29 [0/50000 (0%)]\tLoss: 1.583202\n",
      "Train Epoch: 29 [40000/50000 (80%)]\tLoss: 1.207582\n",
      "\n",
      "Validation set: Average loss: 1.6773, Accuracy: 4077/10000 (40%)\n",
      "\n",
      "Train Epoch: 30 [0/50000 (0%)]\tLoss: 1.113888\n",
      "Train Epoch: 30 [40000/50000 (80%)]\tLoss: 1.000799\n",
      "\n",
      "Validation set: Average loss: 1.6771, Accuracy: 4080/10000 (40%)\n",
      "\n",
      "Train Epoch: 31 [0/50000 (0%)]\tLoss: 1.209081\n",
      "Train Epoch: 31 [40000/50000 (80%)]\tLoss: 1.204264\n",
      "\n",
      "Validation set: Average loss: 1.6777, Accuracy: 4108/10000 (41%)\n",
      "\n",
      "Train Epoch: 32 [0/50000 (0%)]\tLoss: 2.270391\n",
      "Train Epoch: 32 [40000/50000 (80%)]\tLoss: 1.965071\n",
      "\n",
      "Validation set: Average loss: 1.6763, Accuracy: 4082/10000 (40%)\n",
      "\n",
      "Train Epoch: 33 [0/50000 (0%)]\tLoss: 2.431546\n",
      "Train Epoch: 33 [40000/50000 (80%)]\tLoss: 1.529477\n",
      "\n",
      "Validation set: Average loss: 1.6725, Accuracy: 4120/10000 (41%)\n",
      "\n",
      "Train Epoch: 34 [0/50000 (0%)]\tLoss: 1.450452\n",
      "Train Epoch: 34 [40000/50000 (80%)]\tLoss: 1.500163\n",
      "\n",
      "Validation set: Average loss: 1.6752, Accuracy: 4103/10000 (41%)\n",
      "\n",
      "Train Epoch: 35 [0/50000 (0%)]\tLoss: 1.795307\n",
      "Train Epoch: 35 [40000/50000 (80%)]\tLoss: 1.671211\n",
      "\n",
      "Validation set: Average loss: 1.6726, Accuracy: 4102/10000 (41%)\n",
      "\n",
      "Train Epoch: 36 [0/50000 (0%)]\tLoss: 1.652009\n",
      "Train Epoch: 36 [40000/50000 (80%)]\tLoss: 1.277481\n",
      "\n",
      "Validation set: Average loss: 1.6714, Accuracy: 4085/10000 (40%)\n",
      "\n",
      "Train Epoch: 37 [0/50000 (0%)]\tLoss: 1.490538\n",
      "Train Epoch: 37 [40000/50000 (80%)]\tLoss: 2.082252\n",
      "\n",
      "Validation set: Average loss: 1.6706, Accuracy: 4123/10000 (41%)\n",
      "\n",
      "Train Epoch: 38 [0/50000 (0%)]\tLoss: 2.250632\n",
      "Train Epoch: 38 [40000/50000 (80%)]\tLoss: 2.500761\n",
      "\n",
      "Validation set: Average loss: 1.6694, Accuracy: 4126/10000 (41%)\n",
      "\n",
      "Train Epoch: 39 [0/50000 (0%)]\tLoss: 1.643146\n",
      "Train Epoch: 39 [40000/50000 (80%)]\tLoss: 1.590967\n",
      "\n",
      "Validation set: Average loss: 1.6688, Accuracy: 4123/10000 (41%)\n",
      "\n",
      "Train Epoch: 40 [0/50000 (0%)]\tLoss: 0.532220\n",
      "Train Epoch: 40 [40000/50000 (80%)]\tLoss: 1.493309\n",
      "\n",
      "Validation set: Average loss: 1.6692, Accuracy: 4123/10000 (41%)\n",
      "\n"
     ]
    }
   ],
   "source": [
    "hidden_nodes = 10\n",
    "layers = 1\n",
    "model = Net(hidden_nodes, layers)\n",
    "optimizer = torch.optim.SGD(model.parameters(), lr=LEARNING_RATE)\n",
    "loss_vector = []\n",
    "acc_vector = []\n",
    "for epoch in range(1, EPOCHS + 1):\n",
    "    train(epoch, model, train_loader, optimizer, cuda=False)\n",
    "    validate(loss_vector, acc_vector, model, validation_loader, cuda=False)\n",
    "    if epoch == 40:\n",
    "        break"
   ]
  },
  {
   "cell_type": "markdown",
   "metadata": {
    "colab_type": "text",
    "id": "eLhItbeMf4iO"
   },
   "source": [
    "Итак, мы обучили нашу сеть проходами по обучающей выборке. Давайте проверим, обучилась ли наша сеть. Проверим это путем предсказания меток классов для валидационной выборки."
   ]
  },
  {
   "cell_type": "code",
   "execution_count": 30,
   "metadata": {
    "colab": {
     "base_uri": "https://localhost:8080/",
     "height": 361
    },
    "colab_type": "code",
    "id": "cuELsbq3f4iP",
    "outputId": "5e746be0-1e6f-4224-eca2-e6e4d1df8ac1"
   },
   "outputs": [
    {
     "data": {
      "image/png": "[encoded data removed]",
      "text/plain": [
       "<Figure size 432x288 with 1 Axes>"
      ]
     },
     "metadata": {
      "needs_background": "light"
     },
     "output_type": "display_data"
    }
   ],
   "source": [
    "# Plot train loss and validation accuracy vs epochs for each learning rate\n",
    "epochs = [i for i in range(1, 41)]\n",
    "plt.plot(epochs, loss_vector)\n",
    "plt.xlabel(\"Epochs\")\n",
    "plt.ylabel(\"Loss\")\n",
    "plt.show()"
   ]
  },
  {
   "cell_type": "code",
   "execution_count": 31,
   "metadata": {
    "colab": {
     "base_uri": "https://localhost:8080/",
     "height": 184
    },
    "colab_type": "code",
    "id": "IDJfSHQif4iR",
    "outputId": "9954aef3-ee83-407a-8cce-b15d5c9c9552"
   },
   "outputs": [
    {
     "name": "stdout",
     "output_type": "stream",
     "text": [
      "GroundTruth:    cat  ship  ship plane\n"
     ]
    },
    {
     "data": {
      "image/png": "[encoded data removed]",
      "text/plain": [
       "<Figure size 432x288 with 1 Axes>"
      ]
     },
     "metadata": {
      "needs_background": "light"
     },
     "output_type": "display_data"
    }
   ],
   "source": [
    "dataiter = iter(validation_loader)\n",
    "images, labels = dataiter.next()\n",
    "\n",
    "# выведем наши предсказания\n",
    "imshow(torchvision.utils.make_grid(images))\n",
    "print('GroundTruth: ', ' '.join('%5s' % CLASSES[labels[j]] for j in range(4)))\n",
    "\n",
    "outputs=model(images)"
   ]
  },
  {
   "cell_type": "code",
   "execution_count": 32,
   "metadata": {
    "colab": {
     "base_uri": "https://localhost:8080/",
     "height": 34
    },
    "colab_type": "code",
    "id": "1Bt-VRMvf4iU",
    "outputId": "beadd68f-1b05-49e0-f3f9-abd62e1b4f1f"
   },
   "outputs": [
    {
     "name": "stdout",
     "output_type": "stream",
     "text": [
      "Predicted:    cat  ship  ship plane\n"
     ]
    }
   ],
   "source": [
    "_, predicted = torch.max(outputs, 1)\n",
    "\n",
    "print('Predicted: ', ' '.join('%5s' % CLASSES[predicted[j]]\n",
    "                              for j in range(4)))"
   ]
  },
  {
   "cell_type": "markdown",
   "metadata": {
    "colab_type": "text",
    "id": "FQYwDNB_f4iW"
   },
   "source": [
    "Протестируем на всем тесте:"
   ]
  },
  {
   "cell_type": "code",
   "execution_count": 33,
   "metadata": {
    "colab": {
     "base_uri": "https://localhost:8080/",
     "height": 34
    },
    "colab_type": "code",
    "id": "6ZD9Lxi1f4iX",
    "outputId": "d02c4568-9080-467f-d276-5ecb208fc38a"
   },
   "outputs": [
    {
     "name": "stdout",
     "output_type": "stream",
     "text": [
      "Accuracy of the network on the 10000 test images: 41 %\n"
     ]
    }
   ],
   "source": [
    "correct = 0\n",
    "total = 0\n",
    "with torch.no_grad():\n",
    "    for data in validation_loader:\n",
    "        images, labels = data\n",
    "        outputs = model(images)\n",
    "        _, predicted = torch.max(outputs.data, 1)\n",
    "        total += labels.size(0)\n",
    "        correct += (predicted == labels).sum().item()\n",
    "\n",
    "print('Accuracy of the network on the 10000 test images: %d %%' % (\n",
    "    100 * correct / total))"
   ]
  },
  {
   "cell_type": "code",
   "execution_count": 34,
   "metadata": {
    "colab": {
     "base_uri": "https://localhost:8080/",
     "height": 187
    },
    "colab_type": "code",
    "id": "2uxu2qysf4ia",
    "outputId": "b00681dd-4454-4cfa-be41-19a4b3eab582"
   },
   "outputs": [
    {
     "name": "stdout",
     "output_type": "stream",
     "text": [
      "Accuracy of plane : 47 %\n",
      "Accuracy of   car : 54 %\n",
      "Accuracy of  bird : 17 %\n",
      "Accuracy of   cat : 26 %\n",
      "Accuracy of  deer : 26 %\n",
      "Accuracy of   dog : 31 %\n",
      "Accuracy of  frog : 56 %\n",
      "Accuracy of horse : 48 %\n",
      "Accuracy of  ship : 57 %\n",
      "Accuracy of truck : 45 %\n"
     ]
    }
   ],
   "source": [
    "class_correct = list(0. for i in range(10))\n",
    "class_total = list(0. for i in range(10))\n",
    "with torch.no_grad():\n",
    "    for data in validation_loader:\n",
    "        images, labels = data\n",
    "        outputs = model(images)\n",
    "        _, predicted = torch.max(outputs, 1)\n",
    "        c = (predicted == labels).squeeze()\n",
    "        for i in range(4):\n",
    "            label = labels[i]\n",
    "            class_correct[label] += c[i].item()\n",
    "            class_total[label] += 1\n",
    "\n",
    "\n",
    "for i in range(10):\n",
    "    print('Accuracy of %5s : %2d %%' % (\n",
    "        CLASSES[i], 100 * class_correct[i] / class_total[i]))"
   ]
  },
  {
   "cell_type": "markdown",
   "metadata": {
    "colab_type": "text",
    "id": "kRuFMmwvf4id"
   },
   "source": [
    "Каким образом мы можем улучшить качество распознавания и обучения?\n",
    "1. Добавить **dropout**\n",
    "\n",
    "2. Добавить **batchnorm** (2 семинар)\n",
    "3. Использовать свертки. Но об этом позже :)"
   ]
  },
  {
   "cell_type": "code",
   "execution_count": 0,
   "metadata": {
    "colab": {},
    "colab_type": "code",
    "id": "QwjLmYc7f4id"
   },
   "outputs": [],
   "source": [
    "class SecondNet(torch.nn.Module):\n",
    "    def __init__(self, n_hidden_nodes, n_hidden_layers,keep_rate=0.8):\n",
    "        super().__init__()\n",
    "#        self.n_hidden_nodes = n_hidden_nodes\n",
    "#        self.n_hidden_layers = n_hidden_layers\n",
    "#         if not keep_rate:\n",
    "#             keep_rate = 0.5\n",
    "#         self.keep_rate = keep_rate\n",
    "        # Set up perceptron layers and add dropout\n",
    "        self.fc1 = torch.nn.Linear(IMAGE_WIDTH * IMAGE_WIDTH * COLOR_CHANNELS,\n",
    "                                   self.n_hidden_nodes)\n",
    "        self.fc1_drop = torch.nn.Dropout(1 - keep_rate)\n",
    "        self.out = torch.nn.Linear(self.n_hidden_nodes, N_CLASSES)\n",
    "    \n",
    "    def forward(self, x):\n",
    "        x = x.view(-1, IMAGE_WIDTH * IMAGE_WIDTH * COLOR_CHANNELS)\n",
    "        sigmoid = torch.nn.Sigmoid()\n",
    "        x = sigmoid(self.fc1(x))\n",
    "        x = self.fc1_drop(x)\n",
    "        return torch.nn.functional.log_softmax(self.out(x))\n"
   ]
  },
  {
   "cell_type": "code",
   "execution_count": 0,
   "metadata": {
    "colab": {
     "base_uri": "https://localhost:8080/",
     "height": 2450
    },
    "colab_type": "code",
    "id": "l6aah5zAf4ig",
    "outputId": "8501d9b1-b125-4680-85b5-4596f95c8e17"
   },
   "outputs": [
    {
     "name": "stdout",
     "output_type": "stream",
     "text": [
      "Train Epoch: 1 [0/50000 (0%)]\tLoss: 2.338229\n",
      "Train Epoch: 1 [40000/50000 (80%)]\tLoss: 2.356363\n",
      "\n",
      "Validation set: Average loss: 1.9368, Accuracy: 3253/10000 (32%)\n",
      "\n",
      "Train Epoch: 2 [0/50000 (0%)]\tLoss: 2.300326\n",
      "Train Epoch: 2 [40000/50000 (80%)]\tLoss: 1.809654\n",
      "\n",
      "Validation set: Average loss: 1.8590, Accuracy: 3606/10000 (36%)\n",
      "\n",
      "Train Epoch: 3 [0/50000 (0%)]\tLoss: 3.370393\n",
      "Train Epoch: 3 [40000/50000 (80%)]\tLoss: 1.909336\n",
      "\n",
      "Validation set: Average loss: 1.8124, Accuracy: 3713/10000 (37%)\n",
      "\n",
      "Train Epoch: 4 [0/50000 (0%)]\tLoss: 2.186283\n",
      "Train Epoch: 4 [40000/50000 (80%)]\tLoss: 2.361922\n",
      "\n",
      "Validation set: Average loss: 1.7815, Accuracy: 3809/10000 (38%)\n",
      "\n",
      "Train Epoch: 5 [0/50000 (0%)]\tLoss: 0.897958\n",
      "Train Epoch: 5 [40000/50000 (80%)]\tLoss: 1.988269\n",
      "\n",
      "Validation set: Average loss: 1.7591, Accuracy: 3885/10000 (38%)\n",
      "\n",
      "Train Epoch: 6 [0/50000 (0%)]\tLoss: 1.896815\n",
      "Train Epoch: 6 [40000/50000 (80%)]\tLoss: 1.614118\n",
      "\n",
      "Validation set: Average loss: 1.7428, Accuracy: 3922/10000 (39%)\n",
      "\n",
      "Train Epoch: 7 [0/50000 (0%)]\tLoss: 1.760607\n",
      "Train Epoch: 7 [40000/50000 (80%)]\tLoss: 2.053325\n",
      "\n",
      "Validation set: Average loss: 1.7305, Accuracy: 3995/10000 (39%)\n",
      "\n",
      "Train Epoch: 8 [0/50000 (0%)]\tLoss: 1.926093\n",
      "Train Epoch: 8 [40000/50000 (80%)]\tLoss: 2.213455\n",
      "\n",
      "Validation set: Average loss: 1.7185, Accuracy: 3965/10000 (39%)\n",
      "\n",
      "Train Epoch: 9 [0/50000 (0%)]\tLoss: 2.189739\n",
      "Train Epoch: 9 [40000/50000 (80%)]\tLoss: 1.453444\n",
      "\n",
      "Validation set: Average loss: 1.7085, Accuracy: 4042/10000 (40%)\n",
      "\n",
      "Train Epoch: 10 [0/50000 (0%)]\tLoss: 2.820039\n",
      "Train Epoch: 10 [40000/50000 (80%)]\tLoss: 1.548236\n",
      "\n",
      "Validation set: Average loss: 1.6996, Accuracy: 4098/10000 (40%)\n",
      "\n",
      "Train Epoch: 11 [0/50000 (0%)]\tLoss: 2.072497\n",
      "Train Epoch: 11 [40000/50000 (80%)]\tLoss: 1.271940\n",
      "\n",
      "Validation set: Average loss: 1.6920, Accuracy: 4122/10000 (41%)\n",
      "\n",
      "Train Epoch: 12 [0/50000 (0%)]\tLoss: 1.995679\n",
      "Train Epoch: 12 [40000/50000 (80%)]\tLoss: 1.331770\n",
      "\n",
      "Validation set: Average loss: 1.6854, Accuracy: 4136/10000 (41%)\n",
      "\n",
      "Train Epoch: 13 [0/50000 (0%)]\tLoss: 2.023359\n",
      "Train Epoch: 13 [40000/50000 (80%)]\tLoss: 2.044176\n",
      "\n",
      "Validation set: Average loss: 1.6779, Accuracy: 4185/10000 (41%)\n",
      "\n",
      "Train Epoch: 14 [0/50000 (0%)]\tLoss: 1.057836\n",
      "Train Epoch: 14 [40000/50000 (80%)]\tLoss: 1.065666\n",
      "\n",
      "Validation set: Average loss: 1.6732, Accuracy: 4215/10000 (42%)\n",
      "\n",
      "Train Epoch: 15 [0/50000 (0%)]\tLoss: 1.633729\n",
      "Train Epoch: 15 [40000/50000 (80%)]\tLoss: 0.986622\n",
      "\n",
      "Validation set: Average loss: 1.6654, Accuracy: 4238/10000 (42%)\n",
      "\n",
      "Train Epoch: 16 [0/50000 (0%)]\tLoss: 1.434730\n",
      "Train Epoch: 16 [40000/50000 (80%)]\tLoss: 1.619697\n",
      "\n",
      "Validation set: Average loss: 1.6601, Accuracy: 4269/10000 (42%)\n",
      "\n",
      "Train Epoch: 17 [0/50000 (0%)]\tLoss: 1.651691\n",
      "Train Epoch: 17 [40000/50000 (80%)]\tLoss: 0.917030\n",
      "\n",
      "Validation set: Average loss: 1.6543, Accuracy: 4299/10000 (42%)\n",
      "\n",
      "Train Epoch: 18 [0/50000 (0%)]\tLoss: 1.009257\n",
      "Train Epoch: 18 [40000/50000 (80%)]\tLoss: 1.209028\n",
      "\n",
      "Validation set: Average loss: 1.6496, Accuracy: 4312/10000 (43%)\n",
      "\n",
      "Train Epoch: 19 [0/50000 (0%)]\tLoss: 1.292815\n",
      "Train Epoch: 19 [40000/50000 (80%)]\tLoss: 1.692756\n",
      "\n",
      "Validation set: Average loss: 1.6448, Accuracy: 4341/10000 (43%)\n",
      "\n",
      "Train Epoch: 20 [0/50000 (0%)]\tLoss: 1.113770\n",
      "Train Epoch: 20 [40000/50000 (80%)]\tLoss: 2.953823\n",
      "\n",
      "Validation set: Average loss: 1.6401, Accuracy: 4373/10000 (43%)\n",
      "\n",
      "Train Epoch: 21 [0/50000 (0%)]\tLoss: 1.531117\n",
      "Train Epoch: 21 [40000/50000 (80%)]\tLoss: 2.857919\n",
      "\n",
      "Validation set: Average loss: 1.6353, Accuracy: 4373/10000 (43%)\n",
      "\n",
      "Train Epoch: 22 [0/50000 (0%)]\tLoss: 1.897084\n",
      "Train Epoch: 22 [40000/50000 (80%)]\tLoss: 1.062314\n",
      "\n",
      "Validation set: Average loss: 1.6316, Accuracy: 4369/10000 (43%)\n",
      "\n",
      "Train Epoch: 23 [0/50000 (0%)]\tLoss: 0.908942\n",
      "Train Epoch: 23 [40000/50000 (80%)]\tLoss: 1.796218\n",
      "\n",
      "Validation set: Average loss: 1.6308, Accuracy: 4309/10000 (43%)\n",
      "\n",
      "Train Epoch: 24 [0/50000 (0%)]\tLoss: 2.410127\n",
      "Train Epoch: 24 [40000/50000 (80%)]\tLoss: 1.401630\n",
      "\n",
      "Validation set: Average loss: 1.6256, Accuracy: 4395/10000 (43%)\n",
      "\n",
      "Train Epoch: 25 [0/50000 (0%)]\tLoss: 1.398604\n",
      "Train Epoch: 25 [40000/50000 (80%)]\tLoss: 1.217162\n",
      "\n",
      "Validation set: Average loss: 1.6202, Accuracy: 4426/10000 (44%)\n",
      "\n",
      "Train Epoch: 26 [0/50000 (0%)]\tLoss: 1.325698\n",
      "Train Epoch: 26 [40000/50000 (80%)]\tLoss: 2.415255\n",
      "\n",
      "Validation set: Average loss: 1.6151, Accuracy: 4432/10000 (44%)\n",
      "\n",
      "Train Epoch: 27 [0/50000 (0%)]\tLoss: 1.280219\n",
      "Train Epoch: 27 [40000/50000 (80%)]\tLoss: 2.023754\n",
      "\n",
      "Validation set: Average loss: 1.6127, Accuracy: 4435/10000 (44%)\n",
      "\n",
      "Train Epoch: 28 [0/50000 (0%)]\tLoss: 2.280611\n",
      "Train Epoch: 28 [40000/50000 (80%)]\tLoss: 1.360426\n",
      "\n",
      "Validation set: Average loss: 1.6086, Accuracy: 4466/10000 (44%)\n",
      "\n",
      "Train Epoch: 29 [0/50000 (0%)]\tLoss: 1.772745\n",
      "Train Epoch: 29 [40000/50000 (80%)]\tLoss: 1.248500\n",
      "\n",
      "Validation set: Average loss: 1.6061, Accuracy: 4464/10000 (44%)\n",
      "\n",
      "Train Epoch: 30 [0/50000 (0%)]\tLoss: 1.648405\n"
     ]
    }
   ],
   "source": [
    "hidden_nodes = 10\n",
    "layers = 1\n",
    "model = SecondNet(hidden_nodes, layers)\n",
    "optimizer = torch.optim.SGD(model.parameters(), lr=LEARNING_RATE)\n",
    "loss_vector = []\n",
    "acc_vector = []\n",
    "for epoch in range(1, EPOCHS + 1):\n",
    "    train(epoch, model, train_loader, optimizer, cuda=False)\n",
    "    validate(loss_vector, acc_vector, model, validation_loader, cuda=False)\n",
    "    if epoch == 40:\n",
    "        break"
   ]
  },
  {
   "cell_type": "code",
   "execution_count": 0,
   "metadata": {
    "colab": {},
    "colab_type": "code",
    "id": "u3SvVLEAp4xg"
   },
   "outputs": [],
   "source": [
    "# to save model use torch.save(model.state_dict(), 'Second_Net.pt') \n",
    "# to load use model.load_state_dict(torch.load('Second_Model.pt'))"
   ]
  },
  {
   "cell_type": "code",
   "execution_count": 0,
   "metadata": {
    "colab": {
     "base_uri": "https://localhost:8080/",
     "height": 363
    },
    "colab_type": "code",
    "id": "p0Q-D23Qf4ii",
    "outputId": "3edd2f81-28ce-45c7-e745-621584528493"
   },
   "outputs": [
    {
     "data": {
      "image/png": "[encoded data removed]",
      "text/plain": [
       "<matplotlib.figure.Figure at 0x7f50a53e5a58>"
      ]
     },
     "metadata": {
      "tags": []
     },
     "output_type": "display_data"
    }
   ],
   "source": [
    "# Plot train loss and validation accuracy vs epochs for each learning rate\n",
    "epochs = [i for i in range(1, 31)]\n",
    "plt.plot(epochs, loss_vector)\n",
    "plt.xlabel(\"Epochs\")\n",
    "plt.ylabel(\"Loss\")\n",
    "plt.show()"
   ]
  },
  {
   "cell_type": "markdown",
   "metadata": {
    "colab_type": "text",
    "id": "y9US-3ZjrSBI"
   },
   "source": [
    "Попробуйте самостоятельно написать двуслойную сеть с дропаутом. Получилось ли улучшить результат?"
   ]
  },
  {
   "cell_type": "code",
   "execution_count": 0,
   "metadata": {
    "colab": {},
    "colab_type": "code",
    "id": "UZj3d7h7tRu9"
   },
   "outputs": [],
   "source": [
    "class TwoLayerNet(torch.nn.Module):\n",
    "    def __init__(self, n_hidden_nodes, n_hidden_layers,keep_rate=0):\n",
    "        super(TwoLayerNet, self).__init__()\n",
    "        self.n_hidden_nodes = n_hidden_nodes\n",
    "        self.n_hidden_layers = n_hidden_layers\n",
    "        if not keep_rate:\n",
    "            keep_rate = 0.5\n",
    "        self.keep_rate = keep_rate\n",
    "        # Set up perceptron layers and add dropout\n",
    "        self.fc1 = torch.nn.Linear(IMAGE_WIDTH * IMAGE_WIDTH * COLOR_CHANNELS,\n",
    "                                   n_hidden_nodes)\n",
    "        self.fc1_drop = torch.nn.Dropout(1 - keep_rate)\n",
    "        if n_hidden_layers == 2:\n",
    "            self.fc2 = #тут ваш код\n",
    "            self.fc2_drop = #тут ваш код\n",
    "\n",
    "        self.out = torch.nn.Linear(n_hidden_nodes, N_CLASSES)\n",
    "    \n",
    "    def forward(self, x):\n",
    "        x = x.view(-1, IMAGE_WIDTH * IMAGE_WIDTH * COLOR_CHANNELS)\n",
    "        sigmoid = torch.nn.Sigmoid()\n",
    "        x = sigmoid(self.fc1(x))\n",
    "        x = self.fc1_drop(x)\n",
    "        x = sigmoid(self.fc2(x))\n",
    "        x = self.fc2_drop(x)\n",
    "        \n",
    "        return torch.nn.functional.log_softmax(self.out(x))"
   ]
  },
  {
   "cell_type": "code",
   "execution_count": 0,
   "metadata": {
    "colab": {},
    "colab_type": "code",
    "id": "VFtgxjJ6rPVr"
   },
   "outputs": [],
   "source": [
    "hidden_nodes = 10\n",
    "layers = 1\n",
    "model = TwoLayerNet(hidden_nodes, layers)\n",
    "optimizer = torch.optim.SGD(model.parameters(), lr=LEARNING_RATE)\n",
    "loss_vector = []\n",
    "acc_vector = []\n",
    "for epoch in range(1, EPOCHS + 1):\n",
    "    train(epoch, model, train_loader, optimizer, cuda=False)\n",
    "    validate(loss_vector, acc_vector, model, validation_loader, cuda=False)\n",
    "    if epoch == 40:\n",
    "        break"
   ]
  }
 ],
 "metadata": {
  "colab": {
   "name": "[seminar1]cifar10.ipynb",
   "provenance": [],
   "version": "0.3.2"
  },
  "kernelspec": {
   "display_name": "Python 3",
   "language": "python",
   "name": "python3"
  },
  "language_info": {
   "codemirror_mode": {
    "name": "ipython",
    "version": 3
   },
   "file_extension": ".py",
   "mimetype": "text/x-python",
   "name": "python",
   "nbconvert_exporter": "python",
   "pygments_lexer": "ipython3",
   "version": "3.7.3"
  }
 },
 "nbformat": 4,
 "nbformat_minor": 1
}
